{
 "cells": [
  {
   "cell_type": "markdown",
   "metadata": {},
   "source": [
    "# Project 1: Driving Licenses, Traffic Accidents and Casualties Analysis"
   ]
  },
  {
   "cell_type": "markdown",
   "metadata": {},
   "source": [
    "### Problem statement:\n",
    "This is an analysis of traffic accidents and license issued in the Kingdom of Saudi Arabia.\n",
    "This conducted study will attempt to analyze and find any correlations and effect of the two data sets provided. Also find out information about the regions, licenses and accidents in the data frames:\n",
    "Data frames:\n",
    "\n",
    "**Traffic accidents:** This dataset contains Saudi Arabia Traffic Accidents and Casualties by Region for 2016. Data from General Authority for Statistics. Follow datasource.kapsarc.org for timely data to advance energy economics research.\n",
    "\n",
    "**Driving livenses:** This dataset contains Saudi Arabia Driving Licenses Issued By Administrative Area for 1993 - 2016. Data from General Authority for Statistics .\n",
    "\n",
    "This study attempts to:\n",
    "- Clean the data, and match them for a proper analysis.\n",
    "- Find links between the two datasets.\n",
    "- Find causation of the accidents and locate abnormality.\n",
    "- Find real applicable causes that  describe the findings.\n"
   ]
  },
  {
   "cell_type": "markdown",
   "metadata": {},
   "source": [
    "**Importing:** necissary libraries."
   ]
  },
  {
   "cell_type": "code",
   "execution_count": 238,
   "metadata": {},
   "outputs": [],
   "source": [
    "#Imports:\n",
    "import numpy as np\n",
    "import pandas as pd\n",
    "import matplotlib.pyplot as plt\n",
    "import seaborn as sns\n",
    "%matplotlib inline"
   ]
  },
  {
   "cell_type": "markdown",
   "metadata": {},
   "source": [
    "## Data Import and Cleaning"
   ]
  },
  {
   "cell_type": "markdown",
   "metadata": {},
   "source": [
    "#### 1. Read In Driving Licenses & Traffic Accidents Data\n",
    "Read in the `saudi-arabia-traffic-accidents-2008.csv` and `saudi-arabia-driving-licenses-2004-2008.csv` files and assign them to appropriately named pandas dataframes."
   ]
  },
  {
   "cell_type": "code",
   "execution_count": 103,
   "metadata": {},
   "outputs": [],
   "source": [
    "#Importing both csv files, and seperating them where there is ';'. Because it is a csv file:\n",
    "\n",
    "licenses  = pd.read_csv(\"../data/saudi-arabia-driving-licenses-2004-2008.csv\",sep=';')\n",
    "accidents = pd.read_csv(\"../data/saudi-arabia-traffic-accidents-2008.csv\",sep=';')"
   ]
  },
  {
   "cell_type": "markdown",
   "metadata": {},
   "source": [
    "#### 2. Display data\n",
    "\n",
    "Print the first 10 rows of each dataframe to your jupyter notebook, to understand the data."
   ]
  },
  {
   "cell_type": "code",
   "execution_count": 104,
   "metadata": {},
   "outputs": [
    {
     "data": {
      "text/html": [
       "<div>\n",
       "<style scoped>\n",
       "    .dataframe tbody tr th:only-of-type {\n",
       "        vertical-align: middle;\n",
       "    }\n",
       "\n",
       "    .dataframe tbody tr th {\n",
       "        vertical-align: top;\n",
       "    }\n",
       "\n",
       "    .dataframe thead th {\n",
       "        text-align: right;\n",
       "    }\n",
       "</style>\n",
       "<table border=\"1\" class=\"dataframe\">\n",
       "  <thead>\n",
       "    <tr style=\"text-align: right;\">\n",
       "      <th></th>\n",
       "      <th>Unnamed: 0</th>\n",
       "      <th>Unnamed: 0.1</th>\n",
       "      <th>Year</th>\n",
       "      <th>Region</th>\n",
       "      <th>Indicator</th>\n",
       "      <th>Value</th>\n",
       "      <th>geo_point_2d</th>\n",
       "    </tr>\n",
       "  </thead>\n",
       "  <tbody>\n",
       "    <tr>\n",
       "      <th>0</th>\n",
       "      <td>0</td>\n",
       "      <td>0</td>\n",
       "      <td>(2016)</td>\n",
       "      <td>Makkah</td>\n",
       "      <td>No. of Casualties - Injured</td>\n",
       "      <td>12383n</td>\n",
       "      <td>21.628962766, 41.2636898334</td>\n",
       "    </tr>\n",
       "    <tr>\n",
       "      <th>1</th>\n",
       "      <td>1</td>\n",
       "      <td>1</td>\n",
       "      <td>(2016)</td>\n",
       "      <td>Eastern Region</td>\n",
       "      <td>No. of Casualties - Dead</td>\n",
       "      <td>1113n</td>\n",
       "      <td>23.2883307307, 50.1478302439</td>\n",
       "    </tr>\n",
       "    <tr>\n",
       "      <th>2</th>\n",
       "      <td>2</td>\n",
       "      <td>2</td>\n",
       "      <td>(2016)</td>\n",
       "      <td>Tabouk</td>\n",
       "      <td>No. of Casualties - Dead</td>\n",
       "      <td>434n</td>\n",
       "      <td>27.90165499, 37.2598581394</td>\n",
       "    </tr>\n",
       "    <tr>\n",
       "      <th>3</th>\n",
       "      <td>3</td>\n",
       "      <td>3</td>\n",
       "      <td>(2016)</td>\n",
       "      <td>Hail</td>\n",
       "      <td>No. of Casualties - Dead</td>\n",
       "      <td>299n</td>\n",
       "      <td>27.400845724, 41.4406960508</td>\n",
       "    </tr>\n",
       "    <tr>\n",
       "      <th>4</th>\n",
       "      <td>4</td>\n",
       "      <td>4</td>\n",
       "      <td>(2016)</td>\n",
       "      <td>Hail</td>\n",
       "      <td>No. of Accidents</td>\n",
       "      <td>10199n</td>\n",
       "      <td>27.400845724, 41.4406960508</td>\n",
       "    </tr>\n",
       "    <tr>\n",
       "      <th>5</th>\n",
       "      <td>5</td>\n",
       "      <td>5</td>\n",
       "      <td>(2016)</td>\n",
       "      <td>Northern Boarder</td>\n",
       "      <td>No. of Casualties - Dead</td>\n",
       "      <td>193n</td>\n",
       "      <td>30.197074783, 41.8171186952</td>\n",
       "    </tr>\n",
       "    <tr>\n",
       "      <th>6</th>\n",
       "      <td>6</td>\n",
       "      <td>6</td>\n",
       "      <td>(2017)</td>\n",
       "      <td>Jazan</td>\n",
       "      <td>No. of Accidents</td>\n",
       "      <td>22161n</td>\n",
       "      <td>17.2072313962, 42.6525807422</td>\n",
       "    </tr>\n",
       "    <tr>\n",
       "      <th>7</th>\n",
       "      <td>7</td>\n",
       "      <td>7</td>\n",
       "      <td>(2017)</td>\n",
       "      <td>Al-Jouf</td>\n",
       "      <td>No. of Accidents</td>\n",
       "      <td>10469n</td>\n",
       "      <td>29.9677445762, 39.5570371172</td>\n",
       "    </tr>\n",
       "    <tr>\n",
       "      <th>8</th>\n",
       "      <td>8</td>\n",
       "      <td>8</td>\n",
       "      <td>(2017)</td>\n",
       "      <td>Total</td>\n",
       "      <td>No. of Casualties - Dead</td>\n",
       "      <td>7489n</td>\n",
       "      <td>NaN</td>\n",
       "    </tr>\n",
       "    <tr>\n",
       "      <th>9</th>\n",
       "      <td>9</td>\n",
       "      <td>9</td>\n",
       "      <td>(2016)</td>\n",
       "      <td>Northern Boarder</td>\n",
       "      <td>No. of Casualties - Injured</td>\n",
       "      <td>631n</td>\n",
       "      <td>30.197074783, 41.8171186952</td>\n",
       "    </tr>\n",
       "  </tbody>\n",
       "</table>\n",
       "</div>"
      ],
      "text/plain": [
       "   Unnamed: 0  Unnamed: 0.1    Year            Region  \\\n",
       "0           0             0  (2016)            Makkah   \n",
       "1           1             1  (2016)    Eastern Region   \n",
       "2           2             2  (2016)            Tabouk   \n",
       "3           3             3  (2016)              Hail   \n",
       "4           4             4  (2016)              Hail   \n",
       "5           5             5  (2016)  Northern Boarder   \n",
       "6           6             6  (2017)             Jazan   \n",
       "7           7             7  (2017)           Al-Jouf   \n",
       "8           8             8  (2017)             Total   \n",
       "9           9             9  (2016)  Northern Boarder   \n",
       "\n",
       "                     Indicator   Value                  geo_point_2d  \n",
       "0  No. of Casualties - Injured  12383n   21.628962766, 41.2636898334  \n",
       "1     No. of Casualties - Dead   1113n  23.2883307307, 50.1478302439  \n",
       "2     No. of Casualties - Dead    434n    27.90165499, 37.2598581394  \n",
       "3     No. of Casualties - Dead    299n   27.400845724, 41.4406960508  \n",
       "4             No. of Accidents  10199n   27.400845724, 41.4406960508  \n",
       "5     No. of Casualties - Dead    193n   30.197074783, 41.8171186952  \n",
       "6             No. of Accidents  22161n  17.2072313962, 42.6525807422  \n",
       "7             No. of Accidents  10469n  29.9677445762, 39.5570371172  \n",
       "8     No. of Casualties - Dead   7489n                           NaN  \n",
       "9  No. of Casualties - Injured    631n   30.197074783, 41.8171186952  "
      ]
     },
     "execution_count": 104,
     "metadata": {},
     "output_type": "execute_result"
    }
   ],
   "source": [
    "#display the first 10 rows of accidents:\n",
    "accidents.head(10)"
   ]
  },
  {
   "cell_type": "code",
   "execution_count": 105,
   "metadata": {},
   "outputs": [
    {
     "data": {
      "text/html": [
       "<div>\n",
       "<style scoped>\n",
       "    .dataframe tbody tr th:only-of-type {\n",
       "        vertical-align: middle;\n",
       "    }\n",
       "\n",
       "    .dataframe tbody tr th {\n",
       "        vertical-align: top;\n",
       "    }\n",
       "\n",
       "    .dataframe thead th {\n",
       "        text-align: right;\n",
       "    }\n",
       "</style>\n",
       "<table border=\"1\" class=\"dataframe\">\n",
       "  <thead>\n",
       "    <tr style=\"text-align: right;\">\n",
       "      <th></th>\n",
       "      <th>Unnamed: 0</th>\n",
       "      <th>Year</th>\n",
       "      <th>Administritive Area</th>\n",
       "      <th>Driving Liceses</th>\n",
       "      <th>geo_point_2d</th>\n",
       "    </tr>\n",
       "  </thead>\n",
       "  <tbody>\n",
       "    <tr>\n",
       "      <th>0</th>\n",
       "      <td>0</td>\n",
       "      <td>(2012)</td>\n",
       "      <td>Makkah</td>\n",
       "      <td>143954n</td>\n",
       "      <td>21.628962766, 41.2636898334</td>\n",
       "    </tr>\n",
       "    <tr>\n",
       "      <th>1</th>\n",
       "      <td>1</td>\n",
       "      <td>(1994)</td>\n",
       "      <td>Makkah</td>\n",
       "      <td>75349n</td>\n",
       "      <td>21.628962766, 41.2636898334</td>\n",
       "    </tr>\n",
       "    <tr>\n",
       "      <th>2</th>\n",
       "      <td>2</td>\n",
       "      <td>(1998)</td>\n",
       "      <td>Makkah</td>\n",
       "      <td>86082n</td>\n",
       "      <td>21.628962766, 41.2636898334</td>\n",
       "    </tr>\n",
       "    <tr>\n",
       "      <th>3</th>\n",
       "      <td>3</td>\n",
       "      <td>(2004)</td>\n",
       "      <td>Makkah</td>\n",
       "      <td>86636n</td>\n",
       "      <td>21.628962766, 41.2636898334</td>\n",
       "    </tr>\n",
       "    <tr>\n",
       "      <th>4</th>\n",
       "      <td>4</td>\n",
       "      <td>(2005)</td>\n",
       "      <td>Makkah</td>\n",
       "      <td>65099n</td>\n",
       "      <td>21.628962766, 41.2636898334</td>\n",
       "    </tr>\n",
       "    <tr>\n",
       "      <th>5</th>\n",
       "      <td>5</td>\n",
       "      <td>(2008)</td>\n",
       "      <td>Makkah</td>\n",
       "      <td>77013n</td>\n",
       "      <td>21.628962766, 41.2636898334</td>\n",
       "    </tr>\n",
       "    <tr>\n",
       "      <th>6</th>\n",
       "      <td>6</td>\n",
       "      <td>(2014)</td>\n",
       "      <td>Madinah</td>\n",
       "      <td>31447n</td>\n",
       "      <td>24.927534539, 39.4918237173</td>\n",
       "    </tr>\n",
       "    <tr>\n",
       "      <th>7</th>\n",
       "      <td>7</td>\n",
       "      <td>(2013)</td>\n",
       "      <td>Madinah</td>\n",
       "      <td>28513n</td>\n",
       "      <td>24.927534539, 39.4918237173</td>\n",
       "    </tr>\n",
       "    <tr>\n",
       "      <th>8</th>\n",
       "      <td>8</td>\n",
       "      <td>(2012)</td>\n",
       "      <td>Madinah</td>\n",
       "      <td>14459n</td>\n",
       "      <td>24.927534539, 39.4918237173</td>\n",
       "    </tr>\n",
       "    <tr>\n",
       "      <th>9</th>\n",
       "      <td>9</td>\n",
       "      <td>(1994)</td>\n",
       "      <td>Madinah</td>\n",
       "      <td>3767n</td>\n",
       "      <td>24.927534539, 39.4918237173</td>\n",
       "    </tr>\n",
       "  </tbody>\n",
       "</table>\n",
       "</div>"
      ],
      "text/plain": [
       "   Unnamed: 0    Year Administritive Area Driving Liceses  \\\n",
       "0           0  (2012)              Makkah         143954n   \n",
       "1           1  (1994)              Makkah          75349n   \n",
       "2           2  (1998)              Makkah          86082n   \n",
       "3           3  (2004)              Makkah          86636n   \n",
       "4           4  (2005)              Makkah          65099n   \n",
       "5           5  (2008)              Makkah          77013n   \n",
       "6           6  (2014)             Madinah          31447n   \n",
       "7           7  (2013)             Madinah          28513n   \n",
       "8           8  (2012)             Madinah          14459n   \n",
       "9           9  (1994)             Madinah           3767n   \n",
       "\n",
       "                  geo_point_2d  \n",
       "0  21.628962766, 41.2636898334  \n",
       "1  21.628962766, 41.2636898334  \n",
       "2  21.628962766, 41.2636898334  \n",
       "3  21.628962766, 41.2636898334  \n",
       "4  21.628962766, 41.2636898334  \n",
       "5  21.628962766, 41.2636898334  \n",
       "6  24.927534539, 39.4918237173  \n",
       "7  24.927534539, 39.4918237173  \n",
       "8  24.927534539, 39.4918237173  \n",
       "9  24.927534539, 39.4918237173  "
      ]
     },
     "execution_count": 105,
     "metadata": {},
     "output_type": "execute_result"
    }
   ],
   "source": [
    "#display the first 10 rows of licenses:\n",
    "licenses.head(10)"
   ]
  },
  {
   "cell_type": "markdown",
   "metadata": {},
   "source": [
    "#### 3. Briefly describe the data\n",
    "\n",
    "**Accidents:** Contain the data of accidents in the kingdom of saudi arabia, and display the year of the accidents, the region it occured, the outcome of the accident (death/injury), the value, and the geographical location of the accidents.\n",
    "\n",
    "**Licenses:** Contain the data of licenses, such as the year and the region of the licenses and the quantity issued and the geographic location."
   ]
  },
  {
   "cell_type": "markdown",
   "metadata": {},
   "source": [
    "#### 4a. How complete is the data?\n",
    "Using .info() to generate information on the 2 data sets:\n"
   ]
  },
  {
   "cell_type": "code",
   "execution_count": 106,
   "metadata": {
    "scrolled": true
   },
   "outputs": [
    {
     "name": "stdout",
     "output_type": "stream",
     "text": [
      "<class 'pandas.core.frame.DataFrame'>\n",
      "RangeIndex: 84 entries, 0 to 83\n",
      "Data columns (total 7 columns):\n",
      "Unnamed: 0      84 non-null int64\n",
      "Unnamed: 0.1    84 non-null int64\n",
      "Year            84 non-null object\n",
      "Region          84 non-null object\n",
      "Indicator       84 non-null object\n",
      "Value           84 non-null object\n",
      "geo_point_2d    78 non-null object\n",
      "dtypes: int64(2), object(5)\n",
      "memory usage: 4.7+ KB\n",
      "None\n",
      "\n",
      "\n",
      "<class 'pandas.core.frame.DataFrame'>\n",
      "RangeIndex: 350 entries, 0 to 349\n",
      "Data columns (total 5 columns):\n",
      "Unnamed: 0             350 non-null int64\n",
      "Year                   350 non-null object\n",
      "Administritive Area    350 non-null object\n",
      "Driving Liceses        350 non-null object\n",
      "geo_point_2d           325 non-null object\n",
      "dtypes: int64(1), object(4)\n",
      "memory usage: 13.8+ KB\n",
      "None\n"
     ]
    }
   ],
   "source": [
    "print(accidents.info())\n",
    "print(\"\\n\")                      #using print('\\n'), to print both infos() in one line.\n",
    "print(licenses.info())"
   ]
  },
  {
   "cell_type": "markdown",
   "metadata": {},
   "source": [
    "## Data sets contents:\n",
    "\n",
    "**Accidents:** \n",
    "- Has (84 rows) & (7 columns) of which 2 are unnamed repitition of the indexe.\n",
    "- The column \"geo_points_2d has 6 null values.\n",
    "- All the values are strings other than the indexes(including repeated).\n",
    "\n",
    "**Licenses:** \n",
    "- Has (350 rows) & (5 columns) of which 1 are unnamed repitition of the indexe.\n",
    "- The column \"geo_points_2d has 25 null values.\n",
    "- All the values are strings other than the index."
   ]
  },
  {
   "cell_type": "code",
   "execution_count": 107,
   "metadata": {},
   "outputs": [],
   "source": [
    "#Fixing the repeated index/column problem:\n",
    "accidents.drop([\"Unnamed: 0\",\"Unnamed: 0.1\"],axis=1, inplace=True)\n",
    "\n",
    "licenses.drop(\"Unnamed: 0\",axis=1, inplace=True)"
   ]
  },
  {
   "cell_type": "code",
   "execution_count": 108,
   "metadata": {},
   "outputs": [
    {
     "data": {
      "text/plain": [
       "Index(['Year', 'Region', 'Indicator', 'Value', 'geo_point_2d'], dtype='object')"
      ]
     },
     "execution_count": 108,
     "metadata": {},
     "output_type": "execute_result"
    }
   ],
   "source": [
    "#licenses.columns\n",
    "accidents.columns"
   ]
  },
  {
   "cell_type": "markdown",
   "metadata": {},
   "source": [
    "#### 4b. Are there any obvious issues with the observations?\n",
    "\n",
    "**The minimum *possible* value for each dataset? What is the maximum *possible* value?**"
   ]
  },
  {
   "cell_type": "code",
   "execution_count": 109,
   "metadata": {},
   "outputs": [
    {
     "name": "stdout",
     "output_type": "stream",
     "text": [
      "Year                              (2017)\n",
      "Region                             Total\n",
      "Indicator    No. of Casualties - Injured\n",
      "Value                             99925n\n",
      "dtype: object\n",
      "\n",
      "\n",
      "Year                   (2016)\n",
      "Region               Al-Baaha\n",
      "Indicator    No. of Accidents\n",
      "Value                   1007n\n",
      "dtype: object\n"
     ]
    }
   ],
   "source": [
    "# Accidents max and min values:\n",
    "print(accidents.max())\n",
    "print(\"\\n\")\n",
    "print(accidents.min())"
   ]
  },
  {
   "cell_type": "code",
   "execution_count": 110,
   "metadata": {},
   "outputs": [
    {
     "name": "stdout",
     "output_type": "stream",
     "text": [
      "Year                   (2017)\n",
      "Administritive Area     Total\n",
      "Driving Liceses         9983n\n",
      "dtype: object\n",
      "\n",
      "\n",
      "Year                    (1993)\n",
      "Administritive Area    Al-Baha\n",
      "Driving Liceses        100291n\n",
      "dtype: object\n"
     ]
    }
   ],
   "source": [
    "# Licenses max and min values:\n",
    "print(licenses.max())\n",
    "print(\"\\n\")\n",
    "print(licenses.min())"
   ]
  },
  {
   "cell_type": "markdown",
   "metadata": {},
   "source": [
    "#### 5. What are your data types? \n",
    "Display the data types of each feature. "
   ]
  },
  {
   "cell_type": "code",
   "execution_count": 111,
   "metadata": {
    "scrolled": true
   },
   "outputs": [
    {
     "name": "stdout",
     "output_type": "stream",
     "text": [
      "Year            object\n",
      "Region          object\n",
      "Indicator       object\n",
      "Value           object\n",
      "geo_point_2d    object\n",
      "dtype: object\n",
      "\n",
      "\n",
      "Year                   object\n",
      "Administritive Area    object\n",
      "Driving Liceses        object\n",
      "geo_point_2d           object\n",
      "dtype: object\n"
     ]
    }
   ],
   "source": [
    "#code\n",
    "print(accidents.dtypes)\n",
    "print(\"\\n\")\n",
    "print(licenses.dtypes)"
   ]
  },
  {
   "cell_type": "markdown",
   "metadata": {},
   "source": [
    "What did you learn?\n",
    "- Do any of them seem odd?  \n",
    "- Which ones are not as they should be?  "
   ]
  },
  {
   "cell_type": "markdown",
   "metadata": {},
   "source": [
    "### Answer: \n",
    "\n",
    "- **Accidents** \n",
    " - Years should be an intiger.\n",
    " - Value should be in intiger.\n",
    " - All else are strings as they should be.\n",
    "\n",
    "\n",
    "- **Licinses** \n",
    " - Years should be an intiger.\n",
    " - Driving license number should be in intiger.\n",
    " - All else are strings as they should be.\n"
   ]
  },
  {
   "cell_type": "markdown",
   "metadata": {},
   "source": [
    "#### 6. Fix incorrect data types\n",
    "Based on what is discovered above, use appropriate methods to re-type incorrectly typed data.\n",
    "- Define a function that will allow you to convert numerical columns to an appropriate numeric type. Use `map` or `apply` to change these columns in each dataframe."
   ]
  },
  {
   "cell_type": "code",
   "execution_count": 112,
   "metadata": {},
   "outputs": [],
   "source": [
    "# Way 1 \n",
    "#defining a function:\n",
    "# accidents= accidents.copy()\n",
    "# def convert(t):\n",
    "#     try:\n",
    "#         return int(t)\n",
    "#     except:\n",
    "#         return t\n",
    "# accidents.Year.map(convert)"
   ]
  },
  {
   "cell_type": "code",
   "execution_count": 113,
   "metadata": {
    "scrolled": true
   },
   "outputs": [],
   "source": [
    "# Removing string characers the Year/Value columns in accidents...\n",
    "# and changing the data types from string to int:\n",
    "accidents[\"Year\"] = accidents[\"Year\"].apply(lambda x: x.strip(\"()\")).astype(int)#removing the \"()\"\n",
    "accidents[\"Value\"] = accidents[\"Value\"].apply(lambda x: x.strip(\"n\")).astype(int)#removing the \"n\""
   ]
  },
  {
   "cell_type": "code",
   "execution_count": 114,
   "metadata": {},
   "outputs": [
    {
     "data": {
      "text/plain": [
       "Year             int32\n",
       "Region          object\n",
       "Indicator       object\n",
       "Value            int32\n",
       "geo_point_2d    object\n",
       "dtype: object"
      ]
     },
     "execution_count": 114,
     "metadata": {},
     "output_type": "execute_result"
    }
   ],
   "source": [
    "#check data types:\n",
    "accidents.dtypes"
   ]
  },
  {
   "cell_type": "code",
   "execution_count": 115,
   "metadata": {},
   "outputs": [],
   "source": [
    "# Removing string characers the Year/Driving Liceses columns in licenses...\n",
    "# and changing the data types from string to int:\n",
    "licenses[\"Year\"] = licenses[\"Year\"].apply(lambda x: x.strip(\"()\")).astype(int)\n",
    "licenses[\"Driving Liceses\"]  = licenses[\"Driving Liceses\"].apply(lambda x: x.strip(\"n\")).astype(int)"
   ]
  },
  {
   "cell_type": "code",
   "execution_count": 116,
   "metadata": {},
   "outputs": [
    {
     "data": {
      "text/plain": [
       "Year                    int32\n",
       "Administritive Area    object\n",
       "Driving Liceses         int32\n",
       "geo_point_2d           object\n",
       "dtype: object"
      ]
     },
     "execution_count": 116,
     "metadata": {},
     "output_type": "execute_result"
    }
   ],
   "source": [
    "#check data types:\n",
    "licenses.dtypes"
   ]
  },
  {
   "cell_type": "markdown",
   "metadata": {},
   "source": [
    "- Make new columns `x` and `y` using `geo_point_2d`"
   ]
  },
  {
   "cell_type": "code",
   "execution_count": 117,
   "metadata": {},
   "outputs": [],
   "source": [
    "#for accidents:\n",
    "#Splitting the \"geo_point_2d\" into 2 different columns x & y, then deleting the original:\n",
    "accidents['x'], accidents['y'] = accidents['geo_point_2d'].str.split(',', 1).str\n",
    "accidents.drop(\"geo_point_2d\", axis=1, inplace = True)\n",
    "accidents.head()\n",
    "\n",
    "#changing types of x and y to int:\n",
    "accidents[[\"x\",\"y\"]] = accidents[[\"x\",\"y\"]].astype(float)"
   ]
  },
  {
   "cell_type": "code",
   "execution_count": 118,
   "metadata": {
    "scrolled": true
   },
   "outputs": [],
   "source": [
    "#for licences\n",
    "#Splitting the \"geo_point_2d\" into 2 different columns x & y, then deleting the original:\n",
    "licenses['x'], licenses['y'] = licenses['geo_point_2d'].str.split(',', 1).str\n",
    "licenses.drop(\"geo_point_2d\", axis=1, inplace = True)\n",
    "licenses.head()\n",
    "\n",
    "#changing types of x and y to int:\n",
    "licenses[[\"x\",\"y\"]] = licenses[[\"x\",\"y\"]].astype(float)"
   ]
  },
  {
   "cell_type": "markdown",
   "metadata": {},
   "source": [
    "- Fix any individual values preventing other columns from being the appropriate type."
   ]
  },
  {
   "cell_type": "code",
   "execution_count": 119,
   "metadata": {},
   "outputs": [
    {
     "data": {
      "text/plain": [
       "array(['Makkah', 'Madinah', 'Al-Qaseem', 'Eastern', 'Assir', 'Tabouk',\n",
       "       'Hail', 'Northern Boarder', 'Jazan', 'Najran', 'Al-Baha',\n",
       "       'Al-Jouf', 'Total', 'Riyadh'], dtype=object)"
      ]
     },
     "execution_count": 119,
     "metadata": {},
     "output_type": "execute_result"
    }
   ],
   "source": [
    "#Compairing both data sets region columns:\n",
    "#accidents.region.unique()\n",
    "licenses[\"Administritive Area\"].unique()"
   ]
  },
  {
   "cell_type": "code",
   "execution_count": 120,
   "metadata": {},
   "outputs": [],
   "source": [
    "#Matching the names of the regions to have the same spelling:\n",
    "\n",
    "#accidents[\"region\"] = accidents[\"region\"==\"Qassim\"].apply(lambda x: x.rename(\"Al-Qaseem\"))\n",
    "\n",
    "accidents[\"Region\"] = accidents[\"Region\"].str.replace(\"Qassim\",\"Al-Qaseem\")     \n",
    "accidents[\"Region\"] = accidents[\"Region\"].str.replace(\"Eastern Region\",\"Eastern\")       \n",
    "accidents[\"Region\"] = accidents[\"Region\"].str.replace(\"Asir\",\"Assir\")             \n",
    "accidents[\"Region\"] = accidents[\"Region\"].str.replace(\"Al-Baaha\",\"Al-Baha\")  "
   ]
  },
  {
   "cell_type": "code",
   "execution_count": 121,
   "metadata": {},
   "outputs": [
    {
     "data": {
      "text/html": [
       "<div>\n",
       "<style scoped>\n",
       "    .dataframe tbody tr th:only-of-type {\n",
       "        vertical-align: middle;\n",
       "    }\n",
       "\n",
       "    .dataframe tbody tr th {\n",
       "        vertical-align: top;\n",
       "    }\n",
       "\n",
       "    .dataframe thead th {\n",
       "        text-align: right;\n",
       "    }\n",
       "</style>\n",
       "<table border=\"1\" class=\"dataframe\">\n",
       "  <thead>\n",
       "    <tr style=\"text-align: right;\">\n",
       "      <th></th>\n",
       "      <th>Year</th>\n",
       "      <th>Administritive Area</th>\n",
       "      <th>Driving Liceses</th>\n",
       "      <th>x</th>\n",
       "      <th>y</th>\n",
       "    </tr>\n",
       "  </thead>\n",
       "  <tbody>\n",
       "    <tr>\n",
       "      <th>0</th>\n",
       "      <td>2012</td>\n",
       "      <td>Makkah</td>\n",
       "      <td>143954</td>\n",
       "      <td>21.628963</td>\n",
       "      <td>41.263690</td>\n",
       "    </tr>\n",
       "    <tr>\n",
       "      <th>1</th>\n",
       "      <td>1994</td>\n",
       "      <td>Makkah</td>\n",
       "      <td>75349</td>\n",
       "      <td>21.628963</td>\n",
       "      <td>41.263690</td>\n",
       "    </tr>\n",
       "    <tr>\n",
       "      <th>2</th>\n",
       "      <td>1998</td>\n",
       "      <td>Makkah</td>\n",
       "      <td>86082</td>\n",
       "      <td>21.628963</td>\n",
       "      <td>41.263690</td>\n",
       "    </tr>\n",
       "    <tr>\n",
       "      <th>3</th>\n",
       "      <td>2004</td>\n",
       "      <td>Makkah</td>\n",
       "      <td>86636</td>\n",
       "      <td>21.628963</td>\n",
       "      <td>41.263690</td>\n",
       "    </tr>\n",
       "    <tr>\n",
       "      <th>4</th>\n",
       "      <td>2005</td>\n",
       "      <td>Makkah</td>\n",
       "      <td>65099</td>\n",
       "      <td>21.628963</td>\n",
       "      <td>41.263690</td>\n",
       "    </tr>\n",
       "    <tr>\n",
       "      <th>5</th>\n",
       "      <td>2008</td>\n",
       "      <td>Makkah</td>\n",
       "      <td>77013</td>\n",
       "      <td>21.628963</td>\n",
       "      <td>41.263690</td>\n",
       "    </tr>\n",
       "    <tr>\n",
       "      <th>6</th>\n",
       "      <td>2014</td>\n",
       "      <td>Madinah</td>\n",
       "      <td>31447</td>\n",
       "      <td>24.927535</td>\n",
       "      <td>39.491824</td>\n",
       "    </tr>\n",
       "    <tr>\n",
       "      <th>7</th>\n",
       "      <td>2013</td>\n",
       "      <td>Madinah</td>\n",
       "      <td>28513</td>\n",
       "      <td>24.927535</td>\n",
       "      <td>39.491824</td>\n",
       "    </tr>\n",
       "    <tr>\n",
       "      <th>8</th>\n",
       "      <td>2012</td>\n",
       "      <td>Madinah</td>\n",
       "      <td>14459</td>\n",
       "      <td>24.927535</td>\n",
       "      <td>39.491824</td>\n",
       "    </tr>\n",
       "    <tr>\n",
       "      <th>9</th>\n",
       "      <td>1994</td>\n",
       "      <td>Madinah</td>\n",
       "      <td>3767</td>\n",
       "      <td>24.927535</td>\n",
       "      <td>39.491824</td>\n",
       "    </tr>\n",
       "  </tbody>\n",
       "</table>\n",
       "</div>"
      ],
      "text/plain": [
       "   Year Administritive Area  Driving Liceses          x          y\n",
       "0  2012              Makkah           143954  21.628963  41.263690\n",
       "1  1994              Makkah            75349  21.628963  41.263690\n",
       "2  1998              Makkah            86082  21.628963  41.263690\n",
       "3  2004              Makkah            86636  21.628963  41.263690\n",
       "4  2005              Makkah            65099  21.628963  41.263690\n",
       "5  2008              Makkah            77013  21.628963  41.263690\n",
       "6  2014             Madinah            31447  24.927535  39.491824\n",
       "7  2013             Madinah            28513  24.927535  39.491824\n",
       "8  2012             Madinah            14459  24.927535  39.491824\n",
       "9  1994             Madinah             3767  24.927535  39.491824"
      ]
     },
     "execution_count": 121,
     "metadata": {},
     "output_type": "execute_result"
    }
   ],
   "source": [
    "#checking the adjustment done to region content:\n",
    "accidents.head(10)\n",
    "licenses.head(10) "
   ]
  },
  {
   "cell_type": "markdown",
   "metadata": {},
   "source": [
    "- Finish your data modifications by making sure the columns are now typed appropriately."
   ]
  },
  {
   "cell_type": "code",
   "execution_count": 122,
   "metadata": {},
   "outputs": [],
   "source": [
    "#code:\n",
    "#done above."
   ]
  },
  {
   "cell_type": "markdown",
   "metadata": {},
   "source": [
    "- Display the data types again to confirm they are correct."
   ]
  },
  {
   "cell_type": "code",
   "execution_count": 123,
   "metadata": {},
   "outputs": [
    {
     "name": "stdout",
     "output_type": "stream",
     "text": [
      "Year           int32\n",
      "Region        object\n",
      "Indicator     object\n",
      "Value          int32\n",
      "x            float64\n",
      "y            float64\n",
      "dtype: object\n",
      "\n",
      "\n",
      "Year                     int32\n",
      "Administritive Area     object\n",
      "Driving Liceses          int32\n",
      "x                      float64\n",
      "y                      float64\n",
      "dtype: object\n"
     ]
    }
   ],
   "source": [
    "#Code:\n",
    "print(accidents.dtypes)\n",
    "print(\"\\n\")\n",
    "print(licenses.dtypes)"
   ]
  },
  {
   "cell_type": "markdown",
   "metadata": {},
   "source": [
    "#### 7. Rename columns\n",
    "Change the names of the columns to more expressive names so that you can tell the difference the Driving Licenses  columns and the & Traffic Accidents columns. Your solution should map all column names being changed at once (no repeated singular name-changes). **We will be combining these two datasets, and so you should name columns in an appropriate way**.\n",
    "\n",
    "**Guidelines**:\n",
    "- Column names should be all lowercase (you will thank yourself when you start pushing data to SQL later in the course)\n",
    "- Column names should not contain spaces (underscores will suffice--this allows for using the `df.column_name` method to access columns in addition to `df['column_name']`.\n",
    "- Column names should be unique and informative (the only feature that we actually share between dataframes is the state).\n",
    "- Please also fix any typos you see in the column names."
   ]
  },
  {
   "cell_type": "code",
   "execution_count": 124,
   "metadata": {},
   "outputs": [
    {
     "data": {
      "text/plain": [
       "Index(['year', 'region', 'result', 'no_accidents', 'x', 'y'], dtype='object')"
      ]
     },
     "execution_count": 124,
     "metadata": {},
     "output_type": "execute_result"
    }
   ],
   "source": [
    "#changing the column names of the accidents data set:\n",
    "accidents.rename(columns={\"Year\":\"year\" , \"Region\":\"region\" , \"Indicator\":\"result\" ,\"Value\":\"no_accidents\"}, inplace=True)\n",
    "accidents.columns"
   ]
  },
  {
   "cell_type": "code",
   "execution_count": 125,
   "metadata": {},
   "outputs": [
    {
     "data": {
      "text/plain": [
       "Index(['year', 'region', 'license_no', 'x', 'y'], dtype='object')"
      ]
     },
     "execution_count": 125,
     "metadata": {},
     "output_type": "execute_result"
    }
   ],
   "source": [
    "#changing the column names of the license data set:\n",
    "licenses.rename(columns={\"Year\":\"year\" , \"Administritive Area\":\"region\" , \"Driving Liceses\":\"license_no\"}, inplace=True)\n",
    "licenses.columns"
   ]
  },
  {
   "cell_type": "markdown",
   "metadata": {},
   "source": [
    "#### 8. Create a data dictionary\n",
    "\n",
    "Now that we've fixed our data, and given it appropriate names, let's create a [data dictionary](http://library.ucmerced.edu/node/10249). \n",
    "\n",
    "A data dictionary provides a quick overview of features/variables/columns, alongside data types and descriptions. The more descriptive you can be, the more useful this document is."
   ]
  },
  {
   "cell_type": "markdown",
   "metadata": {},
   "source": [
    "# Data dictionary:\n",
    "## Accidents:\n",
    "|Feature|Type|Dataset|Description|\n",
    "|---|---|---|---|\n",
    "|**Year**|*integer*|accidents|The year the data was collected about the accidents.| \n",
    "|**Region**|*String*|accidents|The Location region of saudi arabia the accidents ocurred.\n",
    "|**Indicator**|*String*|accidents|The repercussions of the accidents, injury, death etc.\n",
    "|**Value**|*integer*|accidents|the number of accidents that happned.\n",
    "|**x**|*integer*|accidents|the longitude of the location the accident occured.\n",
    "|**y**|*integer*|accidents|The latitude of the location the accident occured.\n",
    "\n",
    "## Licenses:\n",
    "|Feature|Type|Dataset|Description|\n",
    "|---|---|---|---|\n",
    "|**Year**|*integer*|licenses|The year the data was collected about the licenses.| \n",
    "|**Administritive Area**|*String*|licenses|The Location region of saudi arabia the licenses were issued.\n",
    "|**Driving Licenses**|*integer*|licenses|the number of licenses that were issued that year.\n",
    "|**x**|*integer*|licenses|the longitude of the location the license.\n",
    "|**y**|*integer*|licenses|The latitude location of the license."
   ]
  },
  {
   "cell_type": "markdown",
   "metadata": {},
   "source": [
    "#### 9. Drop unnecessary rows\n",
    "\n",
    "This study concerns accident and license in regions/area. Please do the followings:\n",
    "0. Which rows are not associated with regions?\n",
    "1. Confirm the numbers of all regions add up to total.\n",
    "2. Remove the rows that are not associated with regions"
   ]
  },
  {
   "cell_type": "code",
   "execution_count": 126,
   "metadata": {},
   "outputs": [
    {
     "data": {
      "text/html": [
       "<div>\n",
       "<style scoped>\n",
       "    .dataframe tbody tr th:only-of-type {\n",
       "        vertical-align: middle;\n",
       "    }\n",
       "\n",
       "    .dataframe tbody tr th {\n",
       "        vertical-align: top;\n",
       "    }\n",
       "\n",
       "    .dataframe thead th {\n",
       "        text-align: right;\n",
       "    }\n",
       "</style>\n",
       "<table border=\"1\" class=\"dataframe\">\n",
       "  <thead>\n",
       "    <tr style=\"text-align: right;\">\n",
       "      <th></th>\n",
       "      <th>year</th>\n",
       "      <th>region</th>\n",
       "      <th>result</th>\n",
       "      <th>no_accidents</th>\n",
       "      <th>x</th>\n",
       "      <th>y</th>\n",
       "    </tr>\n",
       "  </thead>\n",
       "  <tbody>\n",
       "    <tr>\n",
       "      <th>0</th>\n",
       "      <td>2016</td>\n",
       "      <td>Makkah</td>\n",
       "      <td>No. of Casualties - Injured</td>\n",
       "      <td>12383</td>\n",
       "      <td>21.628963</td>\n",
       "      <td>41.263690</td>\n",
       "    </tr>\n",
       "    <tr>\n",
       "      <th>1</th>\n",
       "      <td>2016</td>\n",
       "      <td>Eastern</td>\n",
       "      <td>No. of Casualties - Dead</td>\n",
       "      <td>1113</td>\n",
       "      <td>23.288331</td>\n",
       "      <td>50.147830</td>\n",
       "    </tr>\n",
       "    <tr>\n",
       "      <th>2</th>\n",
       "      <td>2016</td>\n",
       "      <td>Tabouk</td>\n",
       "      <td>No. of Casualties - Dead</td>\n",
       "      <td>434</td>\n",
       "      <td>27.901655</td>\n",
       "      <td>37.259858</td>\n",
       "    </tr>\n",
       "    <tr>\n",
       "      <th>3</th>\n",
       "      <td>2016</td>\n",
       "      <td>Hail</td>\n",
       "      <td>No. of Casualties - Dead</td>\n",
       "      <td>299</td>\n",
       "      <td>27.400846</td>\n",
       "      <td>41.440696</td>\n",
       "    </tr>\n",
       "    <tr>\n",
       "      <th>4</th>\n",
       "      <td>2016</td>\n",
       "      <td>Hail</td>\n",
       "      <td>No. of Accidents</td>\n",
       "      <td>10199</td>\n",
       "      <td>27.400846</td>\n",
       "      <td>41.440696</td>\n",
       "    </tr>\n",
       "  </tbody>\n",
       "</table>\n",
       "</div>"
      ],
      "text/plain": [
       "   year   region                       result  no_accidents          x  \\\n",
       "0  2016   Makkah  No. of Casualties - Injured         12383  21.628963   \n",
       "1  2016  Eastern     No. of Casualties - Dead          1113  23.288331   \n",
       "2  2016   Tabouk     No. of Casualties - Dead           434  27.901655   \n",
       "3  2016     Hail     No. of Casualties - Dead           299  27.400846   \n",
       "4  2016     Hail             No. of Accidents         10199  27.400846   \n",
       "\n",
       "           y  \n",
       "0  41.263690  \n",
       "1  50.147830  \n",
       "2  37.259858  \n",
       "3  41.440696  \n",
       "4  41.440696  "
      ]
     },
     "execution_count": 126,
     "metadata": {},
     "output_type": "execute_result"
    }
   ],
   "source": [
    "#checking the accident head for ease of identification.\n",
    "accidents.head()"
   ]
  },
  {
   "cell_type": "markdown",
   "metadata": {},
   "source": [
    "## for accidents"
   ]
  },
  {
   "cell_type": "code",
   "execution_count": 127,
   "metadata": {
    "scrolled": true
   },
   "outputs": [
    {
     "data": {
      "text/html": [
       "<div>\n",
       "<style scoped>\n",
       "    .dataframe tbody tr th:only-of-type {\n",
       "        vertical-align: middle;\n",
       "    }\n",
       "\n",
       "    .dataframe tbody tr th {\n",
       "        vertical-align: top;\n",
       "    }\n",
       "\n",
       "    .dataframe thead th {\n",
       "        text-align: right;\n",
       "    }\n",
       "</style>\n",
       "<table border=\"1\" class=\"dataframe\">\n",
       "  <thead>\n",
       "    <tr style=\"text-align: right;\">\n",
       "      <th></th>\n",
       "      <th></th>\n",
       "      <th>no_accidents</th>\n",
       "      <th>x</th>\n",
       "      <th>y</th>\n",
       "    </tr>\n",
       "    <tr>\n",
       "      <th>year</th>\n",
       "      <th>result</th>\n",
       "      <th></th>\n",
       "      <th></th>\n",
       "      <th></th>\n",
       "    </tr>\n",
       "  </thead>\n",
       "  <tbody>\n",
       "    <tr>\n",
       "      <th rowspan=\"3\" valign=\"top\">2016</th>\n",
       "      <th>No. of Accidents</th>\n",
       "      <td>533380</td>\n",
       "      <td>309.535811</td>\n",
       "      <td>553.836254</td>\n",
       "    </tr>\n",
       "    <tr>\n",
       "      <th>No. of Casualties - Dead</th>\n",
       "      <td>9031</td>\n",
       "      <td>309.535811</td>\n",
       "      <td>553.836254</td>\n",
       "    </tr>\n",
       "    <tr>\n",
       "      <th>No. of Casualties - Injured</th>\n",
       "      <td>38120</td>\n",
       "      <td>309.535811</td>\n",
       "      <td>553.836254</td>\n",
       "    </tr>\n",
       "    <tr>\n",
       "      <th rowspan=\"3\" valign=\"top\">2017</th>\n",
       "      <th>No. of Accidents</th>\n",
       "      <td>460488</td>\n",
       "      <td>309.535811</td>\n",
       "      <td>553.836254</td>\n",
       "    </tr>\n",
       "    <tr>\n",
       "      <th>No. of Casualties - Dead</th>\n",
       "      <td>7489</td>\n",
       "      <td>309.535811</td>\n",
       "      <td>553.836254</td>\n",
       "    </tr>\n",
       "    <tr>\n",
       "      <th>No. of Casualties - Injured</th>\n",
       "      <td>33199</td>\n",
       "      <td>309.535811</td>\n",
       "      <td>553.836254</td>\n",
       "    </tr>\n",
       "  </tbody>\n",
       "</table>\n",
       "</div>"
      ],
      "text/plain": [
       "                                  no_accidents           x           y\n",
       "year result                                                           \n",
       "2016 No. of Accidents                   533380  309.535811  553.836254\n",
       "     No. of Casualties - Dead             9031  309.535811  553.836254\n",
       "     No. of Casualties - Injured         38120  309.535811  553.836254\n",
       "2017 No. of Accidents                   460488  309.535811  553.836254\n",
       "     No. of Casualties - Dead             7489  309.535811  553.836254\n",
       "     No. of Casualties - Injured         33199  309.535811  553.836254"
      ]
     },
     "execution_count": 127,
     "metadata": {},
     "output_type": "execute_result"
    }
   ],
   "source": [
    "t = accidents[accidents['region'] != 'Total'].groupby(by=['year', \"result\"]).sum()\n",
    "t"
   ]
  },
  {
   "cell_type": "code",
   "execution_count": 128,
   "metadata": {},
   "outputs": [
    {
     "data": {
      "text/html": [
       "<div>\n",
       "<style scoped>\n",
       "    .dataframe tbody tr th:only-of-type {\n",
       "        vertical-align: middle;\n",
       "    }\n",
       "\n",
       "    .dataframe tbody tr th {\n",
       "        vertical-align: top;\n",
       "    }\n",
       "\n",
       "    .dataframe thead th {\n",
       "        text-align: right;\n",
       "    }\n",
       "</style>\n",
       "<table border=\"1\" class=\"dataframe\">\n",
       "  <thead>\n",
       "    <tr style=\"text-align: right;\">\n",
       "      <th></th>\n",
       "      <th>year</th>\n",
       "      <th>region</th>\n",
       "      <th>result</th>\n",
       "      <th>no_accidents</th>\n",
       "      <th>x</th>\n",
       "      <th>y</th>\n",
       "    </tr>\n",
       "  </thead>\n",
       "  <tbody>\n",
       "    <tr>\n",
       "      <th>8</th>\n",
       "      <td>2017</td>\n",
       "      <td>Total</td>\n",
       "      <td>No. of Casualties - Dead</td>\n",
       "      <td>7489</td>\n",
       "      <td>NaN</td>\n",
       "      <td>NaN</td>\n",
       "    </tr>\n",
       "    <tr>\n",
       "      <th>29</th>\n",
       "      <td>2016</td>\n",
       "      <td>Total</td>\n",
       "      <td>No. of Accidents</td>\n",
       "      <td>533380</td>\n",
       "      <td>NaN</td>\n",
       "      <td>NaN</td>\n",
       "    </tr>\n",
       "    <tr>\n",
       "      <th>30</th>\n",
       "      <td>2016</td>\n",
       "      <td>Total</td>\n",
       "      <td>No. of Casualties - Injured</td>\n",
       "      <td>38120</td>\n",
       "      <td>NaN</td>\n",
       "      <td>NaN</td>\n",
       "    </tr>\n",
       "    <tr>\n",
       "      <th>68</th>\n",
       "      <td>2017</td>\n",
       "      <td>Total</td>\n",
       "      <td>No. of Accidents</td>\n",
       "      <td>460488</td>\n",
       "      <td>NaN</td>\n",
       "      <td>NaN</td>\n",
       "    </tr>\n",
       "    <tr>\n",
       "      <th>69</th>\n",
       "      <td>2017</td>\n",
       "      <td>Total</td>\n",
       "      <td>No. of Casualties - Injured</td>\n",
       "      <td>33199</td>\n",
       "      <td>NaN</td>\n",
       "      <td>NaN</td>\n",
       "    </tr>\n",
       "    <tr>\n",
       "      <th>77</th>\n",
       "      <td>2016</td>\n",
       "      <td>Total</td>\n",
       "      <td>No. of Casualties - Dead</td>\n",
       "      <td>9031</td>\n",
       "      <td>NaN</td>\n",
       "      <td>NaN</td>\n",
       "    </tr>\n",
       "  </tbody>\n",
       "</table>\n",
       "</div>"
      ],
      "text/plain": [
       "    year region                       result  no_accidents   x   y\n",
       "8   2017  Total     No. of Casualties - Dead          7489 NaN NaN\n",
       "29  2016  Total             No. of Accidents        533380 NaN NaN\n",
       "30  2016  Total  No. of Casualties - Injured         38120 NaN NaN\n",
       "68  2017  Total             No. of Accidents        460488 NaN NaN\n",
       "69  2017  Total  No. of Casualties - Injured         33199 NaN NaN\n",
       "77  2016  Total     No. of Casualties - Dead          9031 NaN NaN"
      ]
     },
     "execution_count": 128,
     "metadata": {},
     "output_type": "execute_result"
    }
   ],
   "source": [
    "accidents[accidents['region'] == 'Total']"
   ]
  },
  {
   "cell_type": "markdown",
   "metadata": {},
   "source": [
    "**Since the total is equal to the no. of accidents, the total must be deleted. for 2 reasons. It is not a region, and its redundant.**"
   ]
  },
  {
   "cell_type": "markdown",
   "metadata": {},
   "source": [
    "## for licenses:"
   ]
  },
  {
   "cell_type": "code",
   "execution_count": 129,
   "metadata": {},
   "outputs": [
    {
     "data": {
      "text/html": [
       "<div>\n",
       "<style scoped>\n",
       "    .dataframe tbody tr th:only-of-type {\n",
       "        vertical-align: middle;\n",
       "    }\n",
       "\n",
       "    .dataframe tbody tr th {\n",
       "        vertical-align: top;\n",
       "    }\n",
       "\n",
       "    .dataframe thead th {\n",
       "        text-align: right;\n",
       "    }\n",
       "</style>\n",
       "<table border=\"1\" class=\"dataframe\">\n",
       "  <thead>\n",
       "    <tr style=\"text-align: right;\">\n",
       "      <th></th>\n",
       "      <th>license_no</th>\n",
       "      <th>x</th>\n",
       "      <th>y</th>\n",
       "    </tr>\n",
       "    <tr>\n",
       "      <th>year</th>\n",
       "      <th></th>\n",
       "      <th></th>\n",
       "      <th></th>\n",
       "    </tr>\n",
       "  </thead>\n",
       "  <tbody>\n",
       "    <tr>\n",
       "      <th>2016</th>\n",
       "      <td>697017</td>\n",
       "      <td>309.535811</td>\n",
       "      <td>553.836254</td>\n",
       "    </tr>\n",
       "    <tr>\n",
       "      <th>2017</th>\n",
       "      <td>928165</td>\n",
       "      <td>309.535811</td>\n",
       "      <td>553.836254</td>\n",
       "    </tr>\n",
       "  </tbody>\n",
       "</table>\n",
       "</div>"
      ],
      "text/plain": [
       "      license_no           x           y\n",
       "year                                    \n",
       "2016      697017  309.535811  553.836254\n",
       "2017      928165  309.535811  553.836254"
      ]
     },
     "execution_count": 129,
     "metadata": {},
     "output_type": "execute_result"
    }
   ],
   "source": [
    "t = licenses[licenses['region'] != 'Total'].groupby(by=['year']).sum()\n",
    "t.tail(2)"
   ]
  },
  {
   "cell_type": "code",
   "execution_count": 130,
   "metadata": {},
   "outputs": [
    {
     "data": {
      "text/html": [
       "<div>\n",
       "<style scoped>\n",
       "    .dataframe tbody tr th:only-of-type {\n",
       "        vertical-align: middle;\n",
       "    }\n",
       "\n",
       "    .dataframe tbody tr th {\n",
       "        vertical-align: top;\n",
       "    }\n",
       "\n",
       "    .dataframe thead th {\n",
       "        text-align: right;\n",
       "    }\n",
       "</style>\n",
       "<table border=\"1\" class=\"dataframe\">\n",
       "  <thead>\n",
       "    <tr style=\"text-align: right;\">\n",
       "      <th></th>\n",
       "      <th>year</th>\n",
       "      <th>region</th>\n",
       "      <th>license_no</th>\n",
       "      <th>x</th>\n",
       "      <th>y</th>\n",
       "    </tr>\n",
       "  </thead>\n",
       "  <tbody>\n",
       "    <tr>\n",
       "      <th>314</th>\n",
       "      <td>2016</td>\n",
       "      <td>Total</td>\n",
       "      <td>697017</td>\n",
       "      <td>NaN</td>\n",
       "      <td>NaN</td>\n",
       "    </tr>\n",
       "    <tr>\n",
       "      <th>59</th>\n",
       "      <td>2017</td>\n",
       "      <td>Total</td>\n",
       "      <td>928165</td>\n",
       "      <td>NaN</td>\n",
       "      <td>NaN</td>\n",
       "    </tr>\n",
       "  </tbody>\n",
       "</table>\n",
       "</div>"
      ],
      "text/plain": [
       "     year region  license_no   x   y\n",
       "314  2016  Total      697017 NaN NaN\n",
       "59   2017  Total      928165 NaN NaN"
      ]
     },
     "execution_count": 130,
     "metadata": {},
     "output_type": "execute_result"
    }
   ],
   "source": [
    "licenses[licenses['region'] == 'Total'].sort_values(by = \"year\").tail(2)"
   ]
  },
  {
   "cell_type": "markdown",
   "metadata": {},
   "source": [
    "**Same as accidents, total does not belong.**"
   ]
  },
  {
   "cell_type": "markdown",
   "metadata": {},
   "source": [
    "## Removing the totals:\n",
    "## For accidents:"
   ]
  },
  {
   "cell_type": "code",
   "execution_count": 131,
   "metadata": {},
   "outputs": [],
   "source": [
    "#Removing total from region:\n",
    "accidents = accidents[accidents.region != \"Total\"]"
   ]
  },
  {
   "cell_type": "code",
   "execution_count": 132,
   "metadata": {},
   "outputs": [
    {
     "name": "stdout",
     "output_type": "stream",
     "text": [
      "<class 'pandas.core.frame.DataFrame'>\n",
      "Int64Index: 78 entries, 0 to 83\n",
      "Data columns (total 6 columns):\n",
      "year            78 non-null int32\n",
      "region          78 non-null object\n",
      "result          78 non-null object\n",
      "no_accidents    78 non-null int32\n",
      "x               78 non-null float64\n",
      "y               78 non-null float64\n",
      "dtypes: float64(2), int32(2), object(2)\n",
      "memory usage: 3.7+ KB\n"
     ]
    }
   ],
   "source": [
    "#Compairing no of rows and regions again:\n",
    "accidents.info() # yes they are equal."
   ]
  },
  {
   "cell_type": "markdown",
   "metadata": {},
   "source": [
    "## For licences:"
   ]
  },
  {
   "cell_type": "code",
   "execution_count": 133,
   "metadata": {},
   "outputs": [
    {
     "name": "stdout",
     "output_type": "stream",
     "text": [
      "<class 'pandas.core.frame.DataFrame'>\n",
      "RangeIndex: 350 entries, 0 to 349\n",
      "Data columns (total 5 columns):\n",
      "year          350 non-null int32\n",
      "region        350 non-null object\n",
      "license_no    350 non-null int32\n",
      "x             325 non-null float64\n",
      "y             325 non-null float64\n",
      "dtypes: float64(2), int32(2), object(1)\n",
      "memory usage: 11.0+ KB\n"
     ]
    }
   ],
   "source": [
    "#Compairing no of rows and regions:\n",
    "licenses.info() # no they are not equal."
   ]
  },
  {
   "cell_type": "code",
   "execution_count": 134,
   "metadata": {},
   "outputs": [],
   "source": [
    "#Removing total from region:\n",
    "licenses = licenses[licenses.region != \"Total\"]"
   ]
  },
  {
   "cell_type": "code",
   "execution_count": 135,
   "metadata": {},
   "outputs": [
    {
     "name": "stdout",
     "output_type": "stream",
     "text": [
      "<class 'pandas.core.frame.DataFrame'>\n",
      "Int64Index: 325 entries, 0 to 349\n",
      "Data columns (total 5 columns):\n",
      "year          325 non-null int32\n",
      "region        325 non-null object\n",
      "license_no    325 non-null int32\n",
      "x             325 non-null float64\n",
      "y             325 non-null float64\n",
      "dtypes: float64(2), int32(2), object(1)\n",
      "memory usage: 12.7+ KB\n"
     ]
    }
   ],
   "source": [
    "#Compairing no of rows and regions again:\n",
    "licenses.info() # yes they are equal."
   ]
  },
  {
   "cell_type": "markdown",
   "metadata": {},
   "source": [
    "#### 10a. Data formats\n",
    "Is the License data in long or wide format? How about the Accident data? And why?"
   ]
  },
  {
   "cell_type": "code",
   "execution_count": 136,
   "metadata": {
    "scrolled": true
   },
   "outputs": [
    {
     "data": {
      "text/html": [
       "<div>\n",
       "<style scoped>\n",
       "    .dataframe tbody tr th:only-of-type {\n",
       "        vertical-align: middle;\n",
       "    }\n",
       "\n",
       "    .dataframe tbody tr th {\n",
       "        vertical-align: top;\n",
       "    }\n",
       "\n",
       "    .dataframe thead th {\n",
       "        text-align: right;\n",
       "    }\n",
       "</style>\n",
       "<table border=\"1\" class=\"dataframe\">\n",
       "  <thead>\n",
       "    <tr style=\"text-align: right;\">\n",
       "      <th></th>\n",
       "      <th>year</th>\n",
       "      <th>region</th>\n",
       "      <th>result</th>\n",
       "      <th>no_accidents</th>\n",
       "      <th>x</th>\n",
       "      <th>y</th>\n",
       "    </tr>\n",
       "  </thead>\n",
       "  <tbody>\n",
       "    <tr>\n",
       "      <th>0</th>\n",
       "      <td>2016</td>\n",
       "      <td>Makkah</td>\n",
       "      <td>No. of Casualties - Injured</td>\n",
       "      <td>12383</td>\n",
       "      <td>21.628963</td>\n",
       "      <td>41.263690</td>\n",
       "    </tr>\n",
       "    <tr>\n",
       "      <th>1</th>\n",
       "      <td>2016</td>\n",
       "      <td>Eastern</td>\n",
       "      <td>No. of Casualties - Dead</td>\n",
       "      <td>1113</td>\n",
       "      <td>23.288331</td>\n",
       "      <td>50.147830</td>\n",
       "    </tr>\n",
       "    <tr>\n",
       "      <th>2</th>\n",
       "      <td>2016</td>\n",
       "      <td>Tabouk</td>\n",
       "      <td>No. of Casualties - Dead</td>\n",
       "      <td>434</td>\n",
       "      <td>27.901655</td>\n",
       "      <td>37.259858</td>\n",
       "    </tr>\n",
       "    <tr>\n",
       "      <th>3</th>\n",
       "      <td>2016</td>\n",
       "      <td>Hail</td>\n",
       "      <td>No. of Casualties - Dead</td>\n",
       "      <td>299</td>\n",
       "      <td>27.400846</td>\n",
       "      <td>41.440696</td>\n",
       "    </tr>\n",
       "    <tr>\n",
       "      <th>4</th>\n",
       "      <td>2016</td>\n",
       "      <td>Hail</td>\n",
       "      <td>No. of Accidents</td>\n",
       "      <td>10199</td>\n",
       "      <td>27.400846</td>\n",
       "      <td>41.440696</td>\n",
       "    </tr>\n",
       "  </tbody>\n",
       "</table>\n",
       "</div>"
      ],
      "text/plain": [
       "   year   region                       result  no_accidents          x  \\\n",
       "0  2016   Makkah  No. of Casualties - Injured         12383  21.628963   \n",
       "1  2016  Eastern     No. of Casualties - Dead          1113  23.288331   \n",
       "2  2016   Tabouk     No. of Casualties - Dead           434  27.901655   \n",
       "3  2016     Hail     No. of Casualties - Dead           299  27.400846   \n",
       "4  2016     Hail             No. of Accidents         10199  27.400846   \n",
       "\n",
       "           y  \n",
       "0  41.263690  \n",
       "1  50.147830  \n",
       "2  37.259858  \n",
       "3  41.440696  \n",
       "4  41.440696  "
      ]
     },
     "execution_count": 136,
     "metadata": {},
     "output_type": "execute_result"
    }
   ],
   "source": [
    "#Checking licenses:   (switch between the two to investigate)\n",
    "accidents.head()\n",
    "#licenses.head()"
   ]
  },
  {
   "cell_type": "markdown",
   "metadata": {},
   "source": [
    "## Long or Wide:\n",
    "Accidents is long as there are many repeated rows, however licenses is wide because there are no repititions."
   ]
  },
  {
   "cell_type": "markdown",
   "metadata": {},
   "source": [
    "#### 10b. Changing formats\n",
    "accidents must be changed to wide, for merging, with licenses."
   ]
  },
  {
   "cell_type": "code",
   "execution_count": 137,
   "metadata": {},
   "outputs": [
    {
     "data": {
      "text/html": [
       "<div>\n",
       "<style scoped>\n",
       "    .dataframe tbody tr th:only-of-type {\n",
       "        vertical-align: middle;\n",
       "    }\n",
       "\n",
       "    .dataframe tbody tr th {\n",
       "        vertical-align: top;\n",
       "    }\n",
       "\n",
       "    .dataframe thead th {\n",
       "        text-align: right;\n",
       "    }\n",
       "</style>\n",
       "<table border=\"1\" class=\"dataframe\">\n",
       "  <thead>\n",
       "    <tr style=\"text-align: right;\">\n",
       "      <th></th>\n",
       "      <th>year</th>\n",
       "      <th>region</th>\n",
       "      <th>result</th>\n",
       "      <th>no_accidents</th>\n",
       "      <th>x</th>\n",
       "      <th>y</th>\n",
       "    </tr>\n",
       "  </thead>\n",
       "  <tbody>\n",
       "    <tr>\n",
       "      <th>0</th>\n",
       "      <td>2016</td>\n",
       "      <td>Makkah</td>\n",
       "      <td>No. of Casualties - Injured</td>\n",
       "      <td>12383</td>\n",
       "      <td>21.628963</td>\n",
       "      <td>41.263690</td>\n",
       "    </tr>\n",
       "    <tr>\n",
       "      <th>1</th>\n",
       "      <td>2016</td>\n",
       "      <td>Eastern</td>\n",
       "      <td>No. of Casualties - Dead</td>\n",
       "      <td>1113</td>\n",
       "      <td>23.288331</td>\n",
       "      <td>50.147830</td>\n",
       "    </tr>\n",
       "    <tr>\n",
       "      <th>2</th>\n",
       "      <td>2016</td>\n",
       "      <td>Tabouk</td>\n",
       "      <td>No. of Casualties - Dead</td>\n",
       "      <td>434</td>\n",
       "      <td>27.901655</td>\n",
       "      <td>37.259858</td>\n",
       "    </tr>\n",
       "    <tr>\n",
       "      <th>3</th>\n",
       "      <td>2016</td>\n",
       "      <td>Hail</td>\n",
       "      <td>No. of Casualties - Dead</td>\n",
       "      <td>299</td>\n",
       "      <td>27.400846</td>\n",
       "      <td>41.440696</td>\n",
       "    </tr>\n",
       "    <tr>\n",
       "      <th>4</th>\n",
       "      <td>2016</td>\n",
       "      <td>Hail</td>\n",
       "      <td>No. of Accidents</td>\n",
       "      <td>10199</td>\n",
       "      <td>27.400846</td>\n",
       "      <td>41.440696</td>\n",
       "    </tr>\n",
       "  </tbody>\n",
       "</table>\n",
       "</div>"
      ],
      "text/plain": [
       "   year   region                       result  no_accidents          x  \\\n",
       "0  2016   Makkah  No. of Casualties - Injured         12383  21.628963   \n",
       "1  2016  Eastern     No. of Casualties - Dead          1113  23.288331   \n",
       "2  2016   Tabouk     No. of Casualties - Dead           434  27.901655   \n",
       "3  2016     Hail     No. of Casualties - Dead           299  27.400846   \n",
       "4  2016     Hail             No. of Accidents         10199  27.400846   \n",
       "\n",
       "           y  \n",
       "0  41.263690  \n",
       "1  50.147830  \n",
       "2  37.259858  \n",
       "3  41.440696  \n",
       "4  41.440696  "
      ]
     },
     "execution_count": 137,
     "metadata": {},
     "output_type": "execute_result"
    }
   ],
   "source": [
    "#checking long or wide:\n",
    "accidents.head()\n",
    "# licenses.head()"
   ]
  },
  {
   "cell_type": "code",
   "execution_count": 138,
   "metadata": {
    "scrolled": true
   },
   "outputs": [
    {
     "data": {
      "text/html": [
       "<div>\n",
       "<style scoped>\n",
       "    .dataframe tbody tr th:only-of-type {\n",
       "        vertical-align: middle;\n",
       "    }\n",
       "\n",
       "    .dataframe tbody tr th {\n",
       "        vertical-align: top;\n",
       "    }\n",
       "\n",
       "    .dataframe thead th {\n",
       "        text-align: right;\n",
       "    }\n",
       "</style>\n",
       "<table border=\"1\" class=\"dataframe\">\n",
       "  <thead>\n",
       "    <tr style=\"text-align: right;\">\n",
       "      <th></th>\n",
       "      <th>result</th>\n",
       "      <th>No. of Accidents</th>\n",
       "      <th>No. of Casualties - Dead</th>\n",
       "      <th>No. of Casualties - Injured</th>\n",
       "    </tr>\n",
       "    <tr>\n",
       "      <th>year</th>\n",
       "      <th>region</th>\n",
       "      <th></th>\n",
       "      <th></th>\n",
       "      <th></th>\n",
       "    </tr>\n",
       "  </thead>\n",
       "  <tbody>\n",
       "    <tr>\n",
       "      <th rowspan=\"13\" valign=\"top\">2016</th>\n",
       "      <th>Al-Baha</th>\n",
       "      <td>3618</td>\n",
       "      <td>185</td>\n",
       "      <td>1227</td>\n",
       "    </tr>\n",
       "    <tr>\n",
       "      <th>Al-Jouf</th>\n",
       "      <td>10212</td>\n",
       "      <td>245</td>\n",
       "      <td>920</td>\n",
       "    </tr>\n",
       "    <tr>\n",
       "      <th>Al-Qaseem</th>\n",
       "      <td>25664</td>\n",
       "      <td>397</td>\n",
       "      <td>1513</td>\n",
       "    </tr>\n",
       "    <tr>\n",
       "      <th>Assir</th>\n",
       "      <td>32684</td>\n",
       "      <td>983</td>\n",
       "      <td>2541</td>\n",
       "    </tr>\n",
       "    <tr>\n",
       "      <th>Eastern</th>\n",
       "      <td>101619</td>\n",
       "      <td>1113</td>\n",
       "      <td>4893</td>\n",
       "    </tr>\n",
       "    <tr>\n",
       "      <th>Hail</th>\n",
       "      <td>10199</td>\n",
       "      <td>299</td>\n",
       "      <td>932</td>\n",
       "    </tr>\n",
       "    <tr>\n",
       "      <th>Jazan</th>\n",
       "      <td>25873</td>\n",
       "      <td>514</td>\n",
       "      <td>2259</td>\n",
       "    </tr>\n",
       "    <tr>\n",
       "      <th>Madinah</th>\n",
       "      <td>14475</td>\n",
       "      <td>822</td>\n",
       "      <td>4184</td>\n",
       "    </tr>\n",
       "    <tr>\n",
       "      <th>Makkah</th>\n",
       "      <td>134838</td>\n",
       "      <td>2243</td>\n",
       "      <td>12383</td>\n",
       "    </tr>\n",
       "    <tr>\n",
       "      <th>Najran</th>\n",
       "      <td>3235</td>\n",
       "      <td>173</td>\n",
       "      <td>706</td>\n",
       "    </tr>\n",
       "    <tr>\n",
       "      <th>Northern Boarder</th>\n",
       "      <td>13196</td>\n",
       "      <td>193</td>\n",
       "      <td>631</td>\n",
       "    </tr>\n",
       "    <tr>\n",
       "      <th>Riyadh</th>\n",
       "      <td>141736</td>\n",
       "      <td>1430</td>\n",
       "      <td>4207</td>\n",
       "    </tr>\n",
       "    <tr>\n",
       "      <th>Tabouk</th>\n",
       "      <td>16031</td>\n",
       "      <td>434</td>\n",
       "      <td>1724</td>\n",
       "    </tr>\n",
       "    <tr>\n",
       "      <th rowspan=\"13\" valign=\"top\">2017</th>\n",
       "      <th>Al-Baha</th>\n",
       "      <td>1414</td>\n",
       "      <td>134</td>\n",
       "      <td>1007</td>\n",
       "    </tr>\n",
       "    <tr>\n",
       "      <th>Al-Jouf</th>\n",
       "      <td>10469</td>\n",
       "      <td>240</td>\n",
       "      <td>862</td>\n",
       "    </tr>\n",
       "    <tr>\n",
       "      <th>Al-Qaseem</th>\n",
       "      <td>22405</td>\n",
       "      <td>319</td>\n",
       "      <td>1446</td>\n",
       "    </tr>\n",
       "    <tr>\n",
       "      <th>Assir</th>\n",
       "      <td>25245</td>\n",
       "      <td>828</td>\n",
       "      <td>2368</td>\n",
       "    </tr>\n",
       "    <tr>\n",
       "      <th>Eastern</th>\n",
       "      <td>81433</td>\n",
       "      <td>963</td>\n",
       "      <td>4073</td>\n",
       "    </tr>\n",
       "    <tr>\n",
       "      <th>Hail</th>\n",
       "      <td>9379</td>\n",
       "      <td>265</td>\n",
       "      <td>773</td>\n",
       "    </tr>\n",
       "    <tr>\n",
       "      <th>Jazan</th>\n",
       "      <td>22161</td>\n",
       "      <td>466</td>\n",
       "      <td>2207</td>\n",
       "    </tr>\n",
       "    <tr>\n",
       "      <th>Madinah</th>\n",
       "      <td>16070</td>\n",
       "      <td>580</td>\n",
       "      <td>2917</td>\n",
       "    </tr>\n",
       "    <tr>\n",
       "      <th>Makkah</th>\n",
       "      <td>145541</td>\n",
       "      <td>1641</td>\n",
       "      <td>10623</td>\n",
       "    </tr>\n",
       "    <tr>\n",
       "      <th>Najran</th>\n",
       "      <td>3193</td>\n",
       "      <td>194</td>\n",
       "      <td>766</td>\n",
       "    </tr>\n",
       "    <tr>\n",
       "      <th>Northern Boarder</th>\n",
       "      <td>11540</td>\n",
       "      <td>112</td>\n",
       "      <td>374</td>\n",
       "    </tr>\n",
       "    <tr>\n",
       "      <th>Riyadh</th>\n",
       "      <td>99925</td>\n",
       "      <td>1399</td>\n",
       "      <td>4540</td>\n",
       "    </tr>\n",
       "    <tr>\n",
       "      <th>Tabouk</th>\n",
       "      <td>11713</td>\n",
       "      <td>348</td>\n",
       "      <td>1243</td>\n",
       "    </tr>\n",
       "  </tbody>\n",
       "</table>\n",
       "</div>"
      ],
      "text/plain": [
       "result                 No. of Accidents  No. of Casualties - Dead  \\\n",
       "year region                                                         \n",
       "2016 Al-Baha                       3618                       185   \n",
       "     Al-Jouf                      10212                       245   \n",
       "     Al-Qaseem                    25664                       397   \n",
       "     Assir                        32684                       983   \n",
       "     Eastern                     101619                      1113   \n",
       "     Hail                         10199                       299   \n",
       "     Jazan                        25873                       514   \n",
       "     Madinah                      14475                       822   \n",
       "     Makkah                      134838                      2243   \n",
       "     Najran                        3235                       173   \n",
       "     Northern Boarder             13196                       193   \n",
       "     Riyadh                      141736                      1430   \n",
       "     Tabouk                       16031                       434   \n",
       "2017 Al-Baha                       1414                       134   \n",
       "     Al-Jouf                      10469                       240   \n",
       "     Al-Qaseem                    22405                       319   \n",
       "     Assir                        25245                       828   \n",
       "     Eastern                      81433                       963   \n",
       "     Hail                          9379                       265   \n",
       "     Jazan                        22161                       466   \n",
       "     Madinah                      16070                       580   \n",
       "     Makkah                      145541                      1641   \n",
       "     Najran                        3193                       194   \n",
       "     Northern Boarder             11540                       112   \n",
       "     Riyadh                       99925                      1399   \n",
       "     Tabouk                       11713                       348   \n",
       "\n",
       "result                 No. of Casualties - Injured  \n",
       "year region                                         \n",
       "2016 Al-Baha                                  1227  \n",
       "     Al-Jouf                                   920  \n",
       "     Al-Qaseem                                1513  \n",
       "     Assir                                    2541  \n",
       "     Eastern                                  4893  \n",
       "     Hail                                      932  \n",
       "     Jazan                                    2259  \n",
       "     Madinah                                  4184  \n",
       "     Makkah                                  12383  \n",
       "     Najran                                    706  \n",
       "     Northern Boarder                          631  \n",
       "     Riyadh                                   4207  \n",
       "     Tabouk                                   1724  \n",
       "2017 Al-Baha                                  1007  \n",
       "     Al-Jouf                                   862  \n",
       "     Al-Qaseem                                1446  \n",
       "     Assir                                    2368  \n",
       "     Eastern                                  4073  \n",
       "     Hail                                      773  \n",
       "     Jazan                                    2207  \n",
       "     Madinah                                  2917  \n",
       "     Makkah                                  10623  \n",
       "     Najran                                    766  \n",
       "     Northern Boarder                          374  \n",
       "     Riyadh                                   4540  \n",
       "     Tabouk                                   1243  "
      ]
     },
     "execution_count": 138,
     "metadata": {},
     "output_type": "execute_result"
    }
   ],
   "source": [
    "#code\n",
    "accidents = accidents.pivot_table(index = [\"year\",\"region\"], columns=\"result\", values=\"no_accidents\")\n",
    "accidents"
   ]
  },
  {
   "cell_type": "code",
   "execution_count": 139,
   "metadata": {},
   "outputs": [
    {
     "data": {
      "text/plain": [
       "Index(['accidents_no', 'dead', 'injured'], dtype='object', name='result')"
      ]
     },
     "execution_count": 139,
     "metadata": {},
     "output_type": "execute_result"
    }
   ],
   "source": [
    "#changing the new pivot table column names:\n",
    "accidents.rename(columns={\"No. of Accidents\":\"accidents_no\" , \"No. of Casualties - Dead\":\"dead\" , \"No. of Casualties - Injured\":\"injured\" }, inplace=True)\n",
    "accidents.columns"
   ]
  },
  {
   "cell_type": "code",
   "execution_count": 140,
   "metadata": {},
   "outputs": [
    {
     "data": {
      "text/plain": [
       "result\n",
       "accidents_no    int32\n",
       "dead            int32\n",
       "injured         int32\n",
       "dtype: object"
      ]
     },
     "execution_count": 140,
     "metadata": {},
     "output_type": "execute_result"
    }
   ],
   "source": [
    "accidents.dtypes"
   ]
  },
  {
   "cell_type": "markdown",
   "metadata": {},
   "source": [
    "#### 11. Merge dataframes\n",
    "\n",
    "Join the Driving Licenses & Traffic Accidents dataframes using the **region** and **year** in each dataframe as the key. Assign this to a new variable. Which join should you use to preserve the most data?"
   ]
  },
  {
   "cell_type": "code",
   "execution_count": 141,
   "metadata": {},
   "outputs": [
    {
     "data": {
      "text/html": [
       "<div>\n",
       "<style scoped>\n",
       "    .dataframe tbody tr th:only-of-type {\n",
       "        vertical-align: middle;\n",
       "    }\n",
       "\n",
       "    .dataframe tbody tr th {\n",
       "        vertical-align: top;\n",
       "    }\n",
       "\n",
       "    .dataframe thead th {\n",
       "        text-align: right;\n",
       "    }\n",
       "</style>\n",
       "<table border=\"1\" class=\"dataframe\">\n",
       "  <thead>\n",
       "    <tr style=\"text-align: right;\">\n",
       "      <th></th>\n",
       "      <th>region</th>\n",
       "      <th>year</th>\n",
       "      <th>accidents_no</th>\n",
       "      <th>dead</th>\n",
       "      <th>injured</th>\n",
       "      <th>license_no</th>\n",
       "      <th>x</th>\n",
       "      <th>y</th>\n",
       "    </tr>\n",
       "  </thead>\n",
       "  <tbody>\n",
       "    <tr>\n",
       "      <th>0</th>\n",
       "      <td>Al-Baha</td>\n",
       "      <td>2016</td>\n",
       "      <td>3618</td>\n",
       "      <td>185</td>\n",
       "      <td>1227</td>\n",
       "      <td>4614</td>\n",
       "      <td>20.148406</td>\n",
       "      <td>41.466548</td>\n",
       "    </tr>\n",
       "    <tr>\n",
       "      <th>1</th>\n",
       "      <td>Al-Jouf</td>\n",
       "      <td>2016</td>\n",
       "      <td>10212</td>\n",
       "      <td>245</td>\n",
       "      <td>920</td>\n",
       "      <td>9371</td>\n",
       "      <td>29.967745</td>\n",
       "      <td>39.557037</td>\n",
       "    </tr>\n",
       "    <tr>\n",
       "      <th>2</th>\n",
       "      <td>Al-Qaseem</td>\n",
       "      <td>2016</td>\n",
       "      <td>25664</td>\n",
       "      <td>397</td>\n",
       "      <td>1513</td>\n",
       "      <td>9180</td>\n",
       "      <td>26.196706</td>\n",
       "      <td>43.343000</td>\n",
       "    </tr>\n",
       "    <tr>\n",
       "      <th>3</th>\n",
       "      <td>Assir</td>\n",
       "      <td>2016</td>\n",
       "      <td>32684</td>\n",
       "      <td>983</td>\n",
       "      <td>2541</td>\n",
       "      <td>41367</td>\n",
       "      <td>19.138785</td>\n",
       "      <td>42.941470</td>\n",
       "    </tr>\n",
       "    <tr>\n",
       "      <th>4</th>\n",
       "      <td>Eastern</td>\n",
       "      <td>2016</td>\n",
       "      <td>101619</td>\n",
       "      <td>1113</td>\n",
       "      <td>4893</td>\n",
       "      <td>142307</td>\n",
       "      <td>23.288331</td>\n",
       "      <td>50.147830</td>\n",
       "    </tr>\n",
       "  </tbody>\n",
       "</table>\n",
       "</div>"
      ],
      "text/plain": [
       "      region  year  accidents_no  dead  injured  license_no          x  \\\n",
       "0    Al-Baha  2016          3618   185     1227        4614  20.148406   \n",
       "1    Al-Jouf  2016         10212   245      920        9371  29.967745   \n",
       "2  Al-Qaseem  2016         25664   397     1513        9180  26.196706   \n",
       "3      Assir  2016         32684   983     2541       41367  19.138785   \n",
       "4    Eastern  2016        101619  1113     4893      142307  23.288331   \n",
       "\n",
       "           y  \n",
       "0  41.466548  \n",
       "1  39.557037  \n",
       "2  43.343000  \n",
       "3  42.941470  \n",
       "4  50.147830  "
      ]
     },
     "execution_count": 141,
     "metadata": {},
     "output_type": "execute_result"
    }
   ],
   "source": [
    "#code\n",
    "combined = pd.merge(accidents, licenses, on = ['region', 'year'], how='inner', suffixes=['_acc', '_lice'])\n",
    "combined.head()"
   ]
  },
  {
   "cell_type": "code",
   "execution_count": 142,
   "metadata": {},
   "outputs": [],
   "source": [
    "#changing the names of the new combined table:\n",
    "combined.rename(columns={\"Accidents_no\":\"accidents_no\" , \"No. of Casualties - Dead\":\"dead\" , \"No. of Casualties - Injured\":\"injured\"}, inplace=True)"
   ]
  },
  {
   "cell_type": "code",
   "execution_count": 143,
   "metadata": {},
   "outputs": [
    {
     "data": {
      "text/html": [
       "<div>\n",
       "<style scoped>\n",
       "    .dataframe tbody tr th:only-of-type {\n",
       "        vertical-align: middle;\n",
       "    }\n",
       "\n",
       "    .dataframe tbody tr th {\n",
       "        vertical-align: top;\n",
       "    }\n",
       "\n",
       "    .dataframe thead th {\n",
       "        text-align: right;\n",
       "    }\n",
       "</style>\n",
       "<table border=\"1\" class=\"dataframe\">\n",
       "  <thead>\n",
       "    <tr style=\"text-align: right;\">\n",
       "      <th></th>\n",
       "      <th>region</th>\n",
       "      <th>year</th>\n",
       "      <th>accidents_no</th>\n",
       "      <th>dead</th>\n",
       "      <th>injured</th>\n",
       "      <th>license_no</th>\n",
       "      <th>x</th>\n",
       "      <th>y</th>\n",
       "    </tr>\n",
       "  </thead>\n",
       "  <tbody>\n",
       "    <tr>\n",
       "      <th>0</th>\n",
       "      <td>Al-Baha</td>\n",
       "      <td>2016</td>\n",
       "      <td>3618</td>\n",
       "      <td>185</td>\n",
       "      <td>1227</td>\n",
       "      <td>4614</td>\n",
       "      <td>20.148406</td>\n",
       "      <td>41.466548</td>\n",
       "    </tr>\n",
       "    <tr>\n",
       "      <th>1</th>\n",
       "      <td>Al-Jouf</td>\n",
       "      <td>2016</td>\n",
       "      <td>10212</td>\n",
       "      <td>245</td>\n",
       "      <td>920</td>\n",
       "      <td>9371</td>\n",
       "      <td>29.967745</td>\n",
       "      <td>39.557037</td>\n",
       "    </tr>\n",
       "  </tbody>\n",
       "</table>\n",
       "</div>"
      ],
      "text/plain": [
       "    region  year  accidents_no  dead  injured  license_no          x  \\\n",
       "0  Al-Baha  2016          3618   185     1227        4614  20.148406   \n",
       "1  Al-Jouf  2016         10212   245      920        9371  29.967745   \n",
       "\n",
       "           y  \n",
       "0  41.466548  \n",
       "1  39.557037  "
      ]
     },
     "execution_count": 143,
     "metadata": {},
     "output_type": "execute_result"
    }
   ],
   "source": [
    "#checking names again:\n",
    "combined.head(2)"
   ]
  },
  {
   "cell_type": "markdown",
   "metadata": {},
   "source": [
    "#### 12. Save your cleaned, merged dataframe\n",
    "\n",
    "Using a relative path the data was saved sd `combined_datasets.csv`, in the \"saved\" file in the project folder."
   ]
  },
  {
   "cell_type": "code",
   "execution_count": 154,
   "metadata": {},
   "outputs": [],
   "source": [
    "combined.to_csv(\"../saved/combined_datasets.csv\")"
   ]
  },
  {
   "cell_type": "markdown",
   "metadata": {},
   "source": [
    "## Exploratory Data Analysis\n",
    "\n",
    "\n",
    "### Summary Statistics\n",
    "Transpose the output of pandas `describe` method to create a quick overview of each numeric feature."
   ]
  },
  {
   "cell_type": "code",
   "execution_count": 155,
   "metadata": {},
   "outputs": [
    {
     "data": {
      "text/html": [
       "<div>\n",
       "<style scoped>\n",
       "    .dataframe tbody tr th:only-of-type {\n",
       "        vertical-align: middle;\n",
       "    }\n",
       "\n",
       "    .dataframe tbody tr th {\n",
       "        vertical-align: top;\n",
       "    }\n",
       "\n",
       "    .dataframe thead th {\n",
       "        text-align: right;\n",
       "    }\n",
       "</style>\n",
       "<table border=\"1\" class=\"dataframe\">\n",
       "  <thead>\n",
       "    <tr style=\"text-align: right;\">\n",
       "      <th></th>\n",
       "      <th>count</th>\n",
       "      <th>mean</th>\n",
       "      <th>std</th>\n",
       "      <th>min</th>\n",
       "      <th>25%</th>\n",
       "      <th>50%</th>\n",
       "      <th>75%</th>\n",
       "      <th>max</th>\n",
       "    </tr>\n",
       "  </thead>\n",
       "  <tbody>\n",
       "    <tr>\n",
       "      <th>year</th>\n",
       "      <td>26.0</td>\n",
       "      <td>2016.500000</td>\n",
       "      <td>0.509902</td>\n",
       "      <td>2016.000000</td>\n",
       "      <td>2016.000000</td>\n",
       "      <td>2016.500000</td>\n",
       "      <td>2017.000000</td>\n",
       "      <td>2017.000000</td>\n",
       "    </tr>\n",
       "    <tr>\n",
       "      <th>accidents_no</th>\n",
       "      <td>26.0</td>\n",
       "      <td>38225.692308</td>\n",
       "      <td>46493.705035</td>\n",
       "      <td>1414.000000</td>\n",
       "      <td>10276.250000</td>\n",
       "      <td>16050.500000</td>\n",
       "      <td>30981.250000</td>\n",
       "      <td>145541.000000</td>\n",
       "    </tr>\n",
       "    <tr>\n",
       "      <th>dead</th>\n",
       "      <td>26.0</td>\n",
       "      <td>635.384615</td>\n",
       "      <td>549.783381</td>\n",
       "      <td>112.000000</td>\n",
       "      <td>241.250000</td>\n",
       "      <td>415.500000</td>\n",
       "      <td>929.250000</td>\n",
       "      <td>2243.000000</td>\n",
       "    </tr>\n",
       "    <tr>\n",
       "      <th>injured</th>\n",
       "      <td>26.0</td>\n",
       "      <td>2743.038462</td>\n",
       "      <td>2922.641127</td>\n",
       "      <td>374.000000</td>\n",
       "      <td>923.000000</td>\n",
       "      <td>1618.500000</td>\n",
       "      <td>3784.000000</td>\n",
       "      <td>12383.000000</td>\n",
       "    </tr>\n",
       "    <tr>\n",
       "      <th>license_no</th>\n",
       "      <td>26.0</td>\n",
       "      <td>62507.000000</td>\n",
       "      <td>107293.917762</td>\n",
       "      <td>2153.000000</td>\n",
       "      <td>8363.250000</td>\n",
       "      <td>16085.000000</td>\n",
       "      <td>51222.000000</td>\n",
       "      <td>495307.000000</td>\n",
       "    </tr>\n",
       "    <tr>\n",
       "      <th>x</th>\n",
       "      <td>26.0</td>\n",
       "      <td>23.810447</td>\n",
       "      <td>4.274533</td>\n",
       "      <td>17.207231</td>\n",
       "      <td>20.148406</td>\n",
       "      <td>23.288331</td>\n",
       "      <td>27.400846</td>\n",
       "      <td>30.197075</td>\n",
       "    </tr>\n",
       "    <tr>\n",
       "      <th>y</th>\n",
       "      <td>26.0</td>\n",
       "      <td>42.602789</td>\n",
       "      <td>3.313532</td>\n",
       "      <td>37.259858</td>\n",
       "      <td>41.263690</td>\n",
       "      <td>41.817119</td>\n",
       "      <td>43.343000</td>\n",
       "      <td>50.147830</td>\n",
       "    </tr>\n",
       "  </tbody>\n",
       "</table>\n",
       "</div>"
      ],
      "text/plain": [
       "              count          mean            std          min           25%  \\\n",
       "year           26.0   2016.500000       0.509902  2016.000000   2016.000000   \n",
       "accidents_no   26.0  38225.692308   46493.705035  1414.000000  10276.250000   \n",
       "dead           26.0    635.384615     549.783381   112.000000    241.250000   \n",
       "injured        26.0   2743.038462    2922.641127   374.000000    923.000000   \n",
       "license_no     26.0  62507.000000  107293.917762  2153.000000   8363.250000   \n",
       "x              26.0     23.810447       4.274533    17.207231     20.148406   \n",
       "y              26.0     42.602789       3.313532    37.259858     41.263690   \n",
       "\n",
       "                       50%           75%            max  \n",
       "year           2016.500000   2017.000000    2017.000000  \n",
       "accidents_no  16050.500000  30981.250000  145541.000000  \n",
       "dead            415.500000    929.250000    2243.000000  \n",
       "injured        1618.500000   3784.000000   12383.000000  \n",
       "license_no    16085.000000  51222.000000  495307.000000  \n",
       "x                23.288331     27.400846      30.197075  \n",
       "y                41.817119     43.343000      50.147830  "
      ]
     },
     "execution_count": 155,
     "metadata": {},
     "output_type": "execute_result"
    }
   ],
   "source": [
    "#Code:\n",
    "combined.describe().T"
   ]
  },
  {
   "cell_type": "markdown",
   "metadata": {},
   "source": [
    "## Manually calculate standard deviation\n",
    "\n",
    "$$\\sigma = \\sqrt{\\frac{1}{n}\\sum_{i=1}^n(x_i - \\mu)^2}$$\n",
    "\n",
    "### A function for both population and a sample std was created."
   ]
  },
  {
   "cell_type": "code",
   "execution_count": 146,
   "metadata": {},
   "outputs": [],
   "source": [
    "#std for population:\n",
    "def std_dev_p(series):\n",
    "    try:\n",
    "        return np.sqrt(sum((series - series.mean())**2)/(len(series)))\n",
    "    \n",
    "    except:\n",
    "        return None\n",
    "\n",
    "\n",
    "  "
   ]
  },
  {
   "cell_type": "code",
   "execution_count": 147,
   "metadata": {},
   "outputs": [
    {
     "name": "stdout",
     "output_type": "stream",
     "text": [
      "45590.82869880505\n",
      "539.1069593406002\n",
      "2865.8854113220236\n"
     ]
    }
   ],
   "source": [
    "print(std_dev_p(combined['accidents_no']))\n",
    "print(std_dev_p(combined['dead']))\n",
    "print(std_dev_p(combined['injured']))"
   ]
  },
  {
   "cell_type": "code",
   "execution_count": 148,
   "metadata": {},
   "outputs": [],
   "source": [
    "#std for sample\n",
    "def std_dev_s(series):\n",
    "    return np.sqrt(sum((series - series.mean())**2)/(len(series)-1))"
   ]
  },
  {
   "cell_type": "code",
   "execution_count": 149,
   "metadata": {},
   "outputs": [
    {
     "name": "stdout",
     "output_type": "stream",
     "text": [
      "46493.70503521458\n",
      "549.7833811182785\n",
      "2922.6411272103765\n"
     ]
    }
   ],
   "source": [
    "print(std_dev_s(combined['accidents_no']))\n",
    "print(std_dev_s(combined['dead']))\n",
    "print(std_dev_s(combined['injured']))"
   ]
  },
  {
   "cell_type": "markdown",
   "metadata": {},
   "source": [
    "- Use a **dictionary comprehension** to apply your standard deviation function to each numeric column in the dataframe.  **No loops**  \n",
    "- Assign the output to variable `sd` as a dictionary where: \n",
    "    - Each column name is now a key \n",
    "    - That standard deviation of the column is the value \n",
    "     \n",
    "*Example Output :* `{'Driving_Licenses_x': 120, 'Traffic_Accidents_x': 120, ...}`"
   ]
  },
  {
   "cell_type": "code",
   "execution_count": 150,
   "metadata": {},
   "outputs": [
    {
     "data": {
      "text/plain": [
       "region           object\n",
       "year              int64\n",
       "accidents_no      int32\n",
       "dead              int32\n",
       "injured           int32\n",
       "license_no        int32\n",
       "x               float64\n",
       "y               float64\n",
       "dtype: object"
      ]
     },
     "execution_count": 150,
     "metadata": {},
     "output_type": "execute_result"
    }
   ],
   "source": [
    "combined.dtypes"
   ]
  },
  {
   "cell_type": "code",
   "execution_count": 151,
   "metadata": {},
   "outputs": [
    {
     "name": "stdout",
     "output_type": "stream",
     "text": [
      "{'region': nan, 'year': 0.5, 'accidents_no': 45590.82869880505, 'dead': 539.1069593406002, 'injured': 2865.8854113220236, 'license_no': 105210.34237659337, 'x': 4.191524025811861, 'y': 3.2491853051316912}\n"
     ]
    }
   ],
   "source": [
    "#using a forloop comprehension, to take the std of each column...\n",
    "#and put it in a dictionary as the value and the name of the column will be the key.\n",
    "sd = {}\n",
    "\n",
    "sd = dict((x, y) for x,y in combined.apply(std_dev_p).iteritems())\n",
    "print(sd)"
   ]
  },
  {
   "cell_type": "markdown",
   "metadata": {},
   "source": [
    "### Do your manually calculated standard deviations match up with the output from pandas `describe`? What about numpy's `std` method?\n",
    "\n",
    "numpy calculated the std of population, while pandas calculate the sample std.\n",
    "above i made a function for both, normally the answer would be **No** , but as we calculated both it is different now."
   ]
  },
  {
   "cell_type": "code",
   "execution_count": 156,
   "metadata": {
    "scrolled": true
   },
   "outputs": [
    {
     "data": {
      "text/html": [
       "<div>\n",
       "<style scoped>\n",
       "    .dataframe tbody tr th:only-of-type {\n",
       "        vertical-align: middle;\n",
       "    }\n",
       "\n",
       "    .dataframe tbody tr th {\n",
       "        vertical-align: top;\n",
       "    }\n",
       "\n",
       "    .dataframe thead th {\n",
       "        text-align: right;\n",
       "    }\n",
       "</style>\n",
       "<table border=\"1\" class=\"dataframe\">\n",
       "  <thead>\n",
       "    <tr style=\"text-align: right;\">\n",
       "      <th></th>\n",
       "      <th>year</th>\n",
       "      <th>accidents_no</th>\n",
       "      <th>dead</th>\n",
       "      <th>injured</th>\n",
       "      <th>license_no</th>\n",
       "      <th>x</th>\n",
       "      <th>y</th>\n",
       "    </tr>\n",
       "  </thead>\n",
       "  <tbody>\n",
       "    <tr>\n",
       "      <th>count</th>\n",
       "      <td>26.000000</td>\n",
       "      <td>26.000000</td>\n",
       "      <td>26.000000</td>\n",
       "      <td>26.000000</td>\n",
       "      <td>26.000000</td>\n",
       "      <td>26.000000</td>\n",
       "      <td>26.000000</td>\n",
       "    </tr>\n",
       "    <tr>\n",
       "      <th>mean</th>\n",
       "      <td>2016.500000</td>\n",
       "      <td>38225.692308</td>\n",
       "      <td>635.384615</td>\n",
       "      <td>2743.038462</td>\n",
       "      <td>62507.000000</td>\n",
       "      <td>23.810447</td>\n",
       "      <td>42.602789</td>\n",
       "    </tr>\n",
       "    <tr>\n",
       "      <th>std</th>\n",
       "      <td>0.509902</td>\n",
       "      <td>46493.705035</td>\n",
       "      <td>549.783381</td>\n",
       "      <td>2922.641127</td>\n",
       "      <td>107293.917762</td>\n",
       "      <td>4.274533</td>\n",
       "      <td>3.313532</td>\n",
       "    </tr>\n",
       "    <tr>\n",
       "      <th>min</th>\n",
       "      <td>2016.000000</td>\n",
       "      <td>1414.000000</td>\n",
       "      <td>112.000000</td>\n",
       "      <td>374.000000</td>\n",
       "      <td>2153.000000</td>\n",
       "      <td>17.207231</td>\n",
       "      <td>37.259858</td>\n",
       "    </tr>\n",
       "    <tr>\n",
       "      <th>25%</th>\n",
       "      <td>2016.000000</td>\n",
       "      <td>10276.250000</td>\n",
       "      <td>241.250000</td>\n",
       "      <td>923.000000</td>\n",
       "      <td>8363.250000</td>\n",
       "      <td>20.148406</td>\n",
       "      <td>41.263690</td>\n",
       "    </tr>\n",
       "    <tr>\n",
       "      <th>50%</th>\n",
       "      <td>2016.500000</td>\n",
       "      <td>16050.500000</td>\n",
       "      <td>415.500000</td>\n",
       "      <td>1618.500000</td>\n",
       "      <td>16085.000000</td>\n",
       "      <td>23.288331</td>\n",
       "      <td>41.817119</td>\n",
       "    </tr>\n",
       "    <tr>\n",
       "      <th>75%</th>\n",
       "      <td>2017.000000</td>\n",
       "      <td>30981.250000</td>\n",
       "      <td>929.250000</td>\n",
       "      <td>3784.000000</td>\n",
       "      <td>51222.000000</td>\n",
       "      <td>27.400846</td>\n",
       "      <td>43.343000</td>\n",
       "    </tr>\n",
       "    <tr>\n",
       "      <th>max</th>\n",
       "      <td>2017.000000</td>\n",
       "      <td>145541.000000</td>\n",
       "      <td>2243.000000</td>\n",
       "      <td>12383.000000</td>\n",
       "      <td>495307.000000</td>\n",
       "      <td>30.197075</td>\n",
       "      <td>50.147830</td>\n",
       "    </tr>\n",
       "  </tbody>\n",
       "</table>\n",
       "</div>"
      ],
      "text/plain": [
       "              year   accidents_no         dead       injured     license_no  \\\n",
       "count    26.000000      26.000000    26.000000     26.000000      26.000000   \n",
       "mean   2016.500000   38225.692308   635.384615   2743.038462   62507.000000   \n",
       "std       0.509902   46493.705035   549.783381   2922.641127  107293.917762   \n",
       "min    2016.000000    1414.000000   112.000000    374.000000    2153.000000   \n",
       "25%    2016.000000   10276.250000   241.250000    923.000000    8363.250000   \n",
       "50%    2016.500000   16050.500000   415.500000   1618.500000   16085.000000   \n",
       "75%    2017.000000   30981.250000   929.250000   3784.000000   51222.000000   \n",
       "max    2017.000000  145541.000000  2243.000000  12383.000000  495307.000000   \n",
       "\n",
       "               x          y  \n",
       "count  26.000000  26.000000  \n",
       "mean   23.810447  42.602789  \n",
       "std     4.274533   3.313532  \n",
       "min    17.207231  37.259858  \n",
       "25%    20.148406  41.263690  \n",
       "50%    23.288331  41.817119  \n",
       "75%    27.400846  43.343000  \n",
       "max    30.197075  50.147830  "
      ]
     },
     "execution_count": 156,
     "metadata": {},
     "output_type": "execute_result"
    }
   ],
   "source": [
    "#Code:\n",
    "combined.describe()"
   ]
  },
  {
   "cell_type": "markdown",
   "metadata": {},
   "source": [
    "#### Investigate trends in the data\n",
    "Using sorting and/or masking (along with the `.head` method to not print our entire dataframe), consider the following questions:\n",
    "\n",
    "- A) Which regions have the highest and lowest Driving Licenses based on years (1993 - 2017)\n",
    "- B) Which regions have the highest and lowest mean Traffic Accidents numbers for years (2016 - 2017)\n",
    "- C) What are the regions that have more Driving Licenses issued in each year than the year average?\n",
    "- D) What are the regions that have more Traffic Accidents happened in each year than the year average?\n",
    "\n",
    "Based on what you've just observed, have you identified any regions that you're especially interested in? **Make a note of these and state *why* you think they're interesting**.\n",
    "\n",
    "**You should comment on your findings at each step in a markdown cell below your code block**. Make sure you include at least one example of sorting your dataframe by a column, and one example of using boolean filtering (i.e., masking) to select a subset of the dataframe."
   ]
  },
  {
   "cell_type": "markdown",
   "metadata": {},
   "source": [
    "# A)"
   ]
  },
  {
   "cell_type": "code",
   "execution_count": 157,
   "metadata": {},
   "outputs": [
    {
     "data": {
      "text/html": [
       "<div>\n",
       "<style scoped>\n",
       "    .dataframe tbody tr th:only-of-type {\n",
       "        vertical-align: middle;\n",
       "    }\n",
       "\n",
       "    .dataframe tbody tr th {\n",
       "        vertical-align: top;\n",
       "    }\n",
       "\n",
       "    .dataframe thead th {\n",
       "        text-align: right;\n",
       "    }\n",
       "</style>\n",
       "<table border=\"1\" class=\"dataframe\">\n",
       "  <thead>\n",
       "    <tr style=\"text-align: right;\">\n",
       "      <th></th>\n",
       "      <th>year</th>\n",
       "      <th>region</th>\n",
       "      <th>license_no</th>\n",
       "      <th>x</th>\n",
       "      <th>y</th>\n",
       "    </tr>\n",
       "  </thead>\n",
       "  <tbody>\n",
       "    <tr>\n",
       "      <th>0</th>\n",
       "      <td>2012</td>\n",
       "      <td>Makkah</td>\n",
       "      <td>143954</td>\n",
       "      <td>21.628963</td>\n",
       "      <td>41.26369</td>\n",
       "    </tr>\n",
       "    <tr>\n",
       "      <th>1</th>\n",
       "      <td>1994</td>\n",
       "      <td>Makkah</td>\n",
       "      <td>75349</td>\n",
       "      <td>21.628963</td>\n",
       "      <td>41.26369</td>\n",
       "    </tr>\n",
       "    <tr>\n",
       "      <th>2</th>\n",
       "      <td>1998</td>\n",
       "      <td>Makkah</td>\n",
       "      <td>86082</td>\n",
       "      <td>21.628963</td>\n",
       "      <td>41.26369</td>\n",
       "    </tr>\n",
       "    <tr>\n",
       "      <th>3</th>\n",
       "      <td>2004</td>\n",
       "      <td>Makkah</td>\n",
       "      <td>86636</td>\n",
       "      <td>21.628963</td>\n",
       "      <td>41.26369</td>\n",
       "    </tr>\n",
       "    <tr>\n",
       "      <th>4</th>\n",
       "      <td>2005</td>\n",
       "      <td>Makkah</td>\n",
       "      <td>65099</td>\n",
       "      <td>21.628963</td>\n",
       "      <td>41.26369</td>\n",
       "    </tr>\n",
       "  </tbody>\n",
       "</table>\n",
       "</div>"
      ],
      "text/plain": [
       "   year  region  license_no          x         y\n",
       "0  2012  Makkah      143954  21.628963  41.26369\n",
       "1  1994  Makkah       75349  21.628963  41.26369\n",
       "2  1998  Makkah       86082  21.628963  41.26369\n",
       "3  2004  Makkah       86636  21.628963  41.26369\n",
       "4  2005  Makkah       65099  21.628963  41.26369"
      ]
     },
     "execution_count": 157,
     "metadata": {},
     "output_type": "execute_result"
    }
   ],
   "source": [
    "licenses.head()"
   ]
  },
  {
   "cell_type": "code",
   "execution_count": 158,
   "metadata": {},
   "outputs": [
    {
     "name": "stderr",
     "output_type": "stream",
     "text": [
      "C:\\Users\\creed\\Anaconda3\\lib\\site-packages\\ipykernel_launcher.py:2: FutureWarning: using a dict on a Series for aggregation\n",
      "is deprecated and will be removed in a future version\n",
      "  \n"
     ]
    },
    {
     "data": {
      "text/plain": [
       "year  region \n",
       "1993  Riyadh     103886\n",
       "1994  Riyadh     110545\n",
       "1995  Riyadh     101608\n",
       "1996  Riyadh     110131\n",
       "1997  Riyadh      92145\n",
       "1998  Riyadh     114962\n",
       "1999  Makkah     103535\n",
       "2000  Makkah      87053\n",
       "2001  Makkah      85593\n",
       "2002  Makkah      88593\n",
       "2003  Eastern     82697\n",
       "2004  Makkah      86636\n",
       "2005  Eastern     82505\n",
       "2006  Eastern     79517\n",
       "2007  Eastern    106511\n",
       "2008  Eastern    104626\n",
       "2009  Makkah     112045\n",
       "2010  Makkah     113531\n",
       "2011  Eastern    151087\n",
       "2012  Makkah     143954\n",
       "2013  Riyadh     165994\n",
       "2014  Riyadh     194208\n",
       "2015  Makkah     157389\n",
       "2016  Riyadh     242851\n",
       "2017  Riyadh     495307\n",
       "Name: license_no, dtype: int32"
      ]
     },
     "execution_count": 158,
     "metadata": {},
     "output_type": "execute_result"
    }
   ],
   "source": [
    "# #regions have the highest and lowest Driving Licenses based on years (1993 - 2017)\n",
    "max_ta = licenses.groupby(['year','region'],sort=True)['license_no'].agg({'license_no':'sum'})\n",
    "grouped_ta = max_ta['license_no'].groupby(level=0, group_keys=False)\n",
    "grouped_ta.nlargest(1)"
   ]
  },
  {
   "cell_type": "markdown",
   "metadata": {},
   "source": [
    "# B)"
   ]
  },
  {
   "cell_type": "code",
   "execution_count": 159,
   "metadata": {},
   "outputs": [
    {
     "name": "stderr",
     "output_type": "stream",
     "text": [
      "C:\\Users\\creed\\Anaconda3\\lib\\site-packages\\ipykernel_launcher.py:2: FutureWarning: using a dict on a Series for aggregation\n",
      "is deprecated and will be removed in a future version\n",
      "  \n"
     ]
    },
    {
     "data": {
      "text/plain": [
       "year  region\n",
       "2016  Riyadh    141736\n",
       "2017  Makkah    145541\n",
       "Name: accidents_no, dtype: int32"
      ]
     },
     "execution_count": 159,
     "metadata": {},
     "output_type": "execute_result"
    }
   ],
   "source": [
    "#regions that have the highest and lowest mean Traffic Accidents numbers for years (2016 - 2017)\n",
    "max_ta = accidents.groupby(['year','region'],sort=True)['accidents_no'].agg({'accidents_no':'sum'})\n",
    "grouped_ta = max_ta['accidents_no'].groupby(level=0, group_keys=False)\n",
    "grouped_ta.nlargest(1)"
   ]
  },
  {
   "cell_type": "markdown",
   "metadata": {},
   "source": [
    "# C)"
   ]
  },
  {
   "cell_type": "code",
   "execution_count": 160,
   "metadata": {},
   "outputs": [
    {
     "name": "stdout",
     "output_type": "stream",
     "text": [
      "     region  year  accidents_no\n",
      "4   Eastern  2016        101619\n",
      "5      Hail  2016         10199\n",
      "8    Makkah  2016        134838\n",
      "11   Riyadh  2016        141736\n",
      "     region  year  accidents_no\n",
      "17  Eastern  2017         81433\n",
      "21   Makkah  2017        145541\n",
      "24   Riyadh  2017         99925\n"
     ]
    }
   ],
   "source": [
    "#What are the regions that have more Driving Licenses issued in each year than the year average:\n",
    "years_mean = licenses.groupby('year')['license_no'].mean().reset_index()\n",
    "lic_mean = []\n",
    "\n",
    "for year in years_mean['year']:\n",
    "    if len(combined[(combined['license_no'] > years_mean[years_mean['year'] == year].iloc[0]['license_no']) & \\\n",
    "             (combined['year'] == year)].index) > 0:\n",
    "        lic_mean.append(pd.DataFrame(combined[(combined['license_no'] > years_mean[years_mean['year'] == year].iloc[0]['license_no']) & \\\n",
    "             (combined['year'] == year)]))\n",
    "\n",
    "for df in lic_mean:\n",
    "    print(df.iloc[:,:3])"
   ]
  },
  {
   "cell_type": "markdown",
   "metadata": {},
   "source": [
    "# D)"
   ]
  },
  {
   "cell_type": "code",
   "execution_count": 161,
   "metadata": {},
   "outputs": [
    {
     "name": "stdout",
     "output_type": "stream",
     "text": [
      "     region  year  accidents_no\n",
      "4   Eastern  2016        101619\n",
      "5      Hail  2016         10199\n",
      "8    Makkah  2016        134838\n",
      "11   Riyadh  2016        141736\n",
      "     region  year  accidents_no\n",
      "17  Eastern  2017         81433\n",
      "21   Makkah  2017        145541\n",
      "24   Riyadh  2017         99925\n",
      "     region  year  accidents_no\n",
      "4   Eastern  2016        101619\n",
      "8    Makkah  2016        134838\n",
      "11   Riyadh  2016        141736\n",
      "     region  year  accidents_no\n",
      "17  Eastern  2017         81433\n",
      "21   Makkah  2017        145541\n",
      "24   Riyadh  2017         99925\n"
     ]
    }
   ],
   "source": [
    "#regions that have more Traffic Accidents happened in each year than the year average?\n",
    "years_mean = accidents.groupby('year')['accidents_no'].mean().reset_index()\n",
    "acc_mean = []\n",
    "\n",
    "for year in years_mean['year']:\n",
    "    if len(combined[(combined['accidents_no'] > years_mean[years_mean['year'] == year].iloc[0][\"accidents_no\"]) & \\\n",
    "             (combined['year'] == year)].index) > 0:\n",
    "        lic_mean.append(pd.DataFrame(combined[(combined['accidents_no'] > years_mean[years_mean['year'] == year].iloc[0]['accidents_no']) & \\\n",
    "             (combined['year'] == year)]))\n",
    "\n",
    "for df in lic_mean:\n",
    "    print(df.iloc[:,:3])"
   ]
  },
  {
   "cell_type": "markdown",
   "metadata": {},
   "source": [
    "## Visualize the data\n",
    "\n",
    "There's not a magic bullet recommendation for the right number of plots to understand a given dataset, but visualizing your data is *always* a good idea. Not only does it allow you to quickly convey your findings (even if you have a non-technical audience), it will often reveal trends in your data that escaped you when you were looking only at numbers.\n",
    "\n",
    "Some recommendations on plotting:\n",
    "- Plots have titles\n",
    "- Plots have axis labels\n",
    "- Plots have appropriate tick labels\n",
    "- All text is legible in a plot\n",
    "- Plots demonstrate meaningful and valid relationships\n",
    "- Plots are interpreted to aid understanding\n",
    "\n",
    "There is such a thing as too many plots, and there are a *lot* of bad plots. You might make some! (But hopefully not with the guided prompts below)."
   ]
  },
  {
   "cell_type": "markdown",
   "metadata": {},
   "source": [
    "#### Use Seaborn's heatmap with pandas `.corr()` to visualize correlations between all numeric features\n",
    "\n",
    "plotting the new combined table n a heatmap plot, to show the relationship of all its attributes and columns.\n",
    "the red area shows much correlation while the blue is less.\n",
    "\n",
    "interpertation:\n",
    "- License-no is correlated with accidents_no.\n",
    "- Dead, injured ofcourse is correlated with the accident-no, but also with the license-no.\n",
    "- The more licenses issued the more accidents."
   ]
  },
  {
   "cell_type": "code",
   "execution_count": 212,
   "metadata": {},
   "outputs": [
    {
     "data": {
      "text/plain": [
       "Text(0.5, 1.0, 'Accidents:')"
      ]
     },
     "execution_count": 212,
     "metadata": {},
     "output_type": "execute_result"
    },
    {
     "data": {
      "image/png": "[encoded data removed]",
      "text/plain": [
       "<Figure size 432x288 with 2 Axes>"
      ]
     },
     "metadata": {
      "needs_background": "light"
     },
     "output_type": "display_data"
    }
   ],
   "source": [
    "#getting the coefficient of the dataframe to bring the data together, that make it easier to read.\n",
    "ac = combined.corr()\n",
    "sns.heatmap(data= ac, cmap=\"coolwarm\", linecolor= \"white\", linewidths= 1).set_title('Accidents:')"
   ]
  },
  {
   "cell_type": "markdown",
   "metadata": {},
   "source": [
    "#### Define a custom function to subplot histograms\n",
    "\n",
    "We should write a function that will take the names of 2+ columns and subplot histograms. While you can use pandas plotting or Seaborn here, matplotlib gives you greater control over all aspects of your plots.\n",
    "\n",
    "[Helpful Link for Plotting Multiple Figures](https://matplotlib.org/users/pyplot_tutorial.html#working-with-multiple-figures-and-axes)\n",
    "\n",
    "Here's some starter code:"
   ]
  },
  {
   "cell_type": "code",
   "execution_count": null,
   "metadata": {},
   "outputs": [],
   "source": [
    "def subplot_histograms(dataframe, list_of_columns, list_of_titles):\n",
    "    nrows = int(np.ceil(len(list_of_columns)/2)) # Makes sure you have enough rows\n",
    "    fig, ax = plt.subplots(ncols=2,nrows=nrows, figsize=(15, 15)) # You'll want to specify your figsize\n",
    "    ax = ax.ravel() # Ravel turns a matrix into a vector, which is easier to iterate\n",
    "    for i, column in enumerate(list_of_columns): # Gives us an index value to get into all our lists\n",
    "        ax[i].hist(dataframe[column], density=True) # feel free to add more settings\n",
    "        ax[i].set_xlabel(list_of_columns[i])\n",
    "        ax[i].set_title(list_of_titles[i]) # Set titles, labels, etc here for each subplot\n",
    "        sns.distplot(dataframe[column], bins=20, kde=False, ax=ax[i], color = 'blue')\n",
    "    plt.show()"
   ]
  },
  {
   "cell_type": "code",
   "execution_count": null,
   "metadata": {},
   "outputs": [],
   "source": [
    "list_of_columns = ['accidents_no']\n",
    "subplot_histograms(combined, list_of_columns, list_of_columns)\n",
    "# combined.columns"
   ]
  },
  {
   "cell_type": "markdown",
   "metadata": {},
   "source": [
    "#### Plot and interpret histograms \n",
    "For each of the following:\n",
    "- A) Driving Licenses number\n",
    "- B) Traffic Accidents number\n",
    "\n",
    "Please plot two additional histograms that will help with your understanding of the data"
   ]
  },
  {
   "cell_type": "markdown",
   "metadata": {},
   "source": [
    "## Interpretation of both A and B: \n",
    "(Refer to plots bellow)\n",
    "\n",
    "using the combined dataframe to get only 2017 and 2016:\n",
    "- Riyadh has the most licenses issued the most licenses, followed by Makkah and the Eastern region.\n",
    "- Even though the data is not identicle, the 3 regions are highest in both dataframes.\n",
    "- Since the two data sets are infact correlated, we can assume that the most accidents happen within these regions."
   ]
  },
  {
   "cell_type": "markdown",
   "metadata": {},
   "source": [
    "# A)"
   ]
  },
  {
   "cell_type": "code",
   "execution_count": 164,
   "metadata": {
    "scrolled": true
   },
   "outputs": [
    {
     "data": {
      "image/png": "[encoded data removed]",
      "text/plain": [
       "<Figure size 432x288 with 1 Axes>"
      ]
     },
     "metadata": {
      "needs_background": "light"
     },
     "output_type": "display_data"
    }
   ],
   "source": [
    "# Code\n",
    "plt.hist(np.log1p(accidents[\"accidents_no\"]),color=\"Darkred\")\n",
    "plt.title(\"Accidents\")\n",
    "plt.ylabel(\"count\")\n",
    "plt.xlabel(\"accidents\")\n",
    "\n",
    "plt.show()"
   ]
  },
  {
   "cell_type": "code",
   "execution_count": 236,
   "metadata": {},
   "outputs": [
    {
     "name": "stderr",
     "output_type": "stream",
     "text": [
      "C:\\Users\\creed\\Anaconda3\\lib\\site-packages\\seaborn\\categorical.py:3666: UserWarning: The `factorplot` function has been renamed to `catplot`. The original name will be removed in a future release. Please update your code. Note that the default `kind` in `factorplot` (`'point'`) has changed `'strip'` in `catplot`.\n",
      "  warnings.warn(msg)\n",
      "C:\\Users\\creed\\Anaconda3\\lib\\site-packages\\seaborn\\categorical.py:3672: UserWarning: The `size` paramter has been renamed to `height`; please update your code.\n",
      "  warnings.warn(msg, UserWarning)\n"
     ]
    },
    {
     "data": {
      "text/plain": [
       "<seaborn.axisgrid.FacetGrid at 0x248a760ff28>"
      ]
     },
     "execution_count": 236,
     "metadata": {},
     "output_type": "execute_result"
    },
    {
     "data": {
      "image/png": "[encoded data removed]",
      "text/plain": [
       "<Figure size 1080x1080 with 1 Axes>"
      ]
     },
     "metadata": {
      "needs_background": "light"
     },
     "output_type": "display_data"
    }
   ],
   "source": [
    "sns.factorplot(x=\"region\",y=\"accidents_no\",data=combined,kind=\"bar\", size = 15)"
   ]
  },
  {
   "cell_type": "code",
   "execution_count": 230,
   "metadata": {},
   "outputs": [
    {
     "data": {
      "text/html": [
       "<div>\n",
       "<style scoped>\n",
       "    .dataframe tbody tr th:only-of-type {\n",
       "        vertical-align: middle;\n",
       "    }\n",
       "\n",
       "    .dataframe tbody tr th {\n",
       "        vertical-align: top;\n",
       "    }\n",
       "\n",
       "    .dataframe thead th {\n",
       "        text-align: right;\n",
       "    }\n",
       "</style>\n",
       "<table border=\"1\" class=\"dataframe\">\n",
       "  <thead>\n",
       "    <tr style=\"text-align: right;\">\n",
       "      <th></th>\n",
       "      <th>region</th>\n",
       "      <th>year</th>\n",
       "      <th>accidents_no</th>\n",
       "      <th>dead</th>\n",
       "      <th>injured</th>\n",
       "      <th>license_no</th>\n",
       "      <th>x</th>\n",
       "      <th>y</th>\n",
       "    </tr>\n",
       "  </thead>\n",
       "  <tbody>\n",
       "    <tr>\n",
       "      <th>0</th>\n",
       "      <td>Al-Baha</td>\n",
       "      <td>2016</td>\n",
       "      <td>3618</td>\n",
       "      <td>185</td>\n",
       "      <td>1227</td>\n",
       "      <td>4614</td>\n",
       "      <td>20.148406</td>\n",
       "      <td>41.466548</td>\n",
       "    </tr>\n",
       "    <tr>\n",
       "      <th>1</th>\n",
       "      <td>Al-Jouf</td>\n",
       "      <td>2016</td>\n",
       "      <td>10212</td>\n",
       "      <td>245</td>\n",
       "      <td>920</td>\n",
       "      <td>9371</td>\n",
       "      <td>29.967745</td>\n",
       "      <td>39.557037</td>\n",
       "    </tr>\n",
       "    <tr>\n",
       "      <th>2</th>\n",
       "      <td>Al-Qaseem</td>\n",
       "      <td>2016</td>\n",
       "      <td>25664</td>\n",
       "      <td>397</td>\n",
       "      <td>1513</td>\n",
       "      <td>9180</td>\n",
       "      <td>26.196706</td>\n",
       "      <td>43.343000</td>\n",
       "    </tr>\n",
       "    <tr>\n",
       "      <th>3</th>\n",
       "      <td>Assir</td>\n",
       "      <td>2016</td>\n",
       "      <td>32684</td>\n",
       "      <td>983</td>\n",
       "      <td>2541</td>\n",
       "      <td>41367</td>\n",
       "      <td>19.138785</td>\n",
       "      <td>42.941470</td>\n",
       "    </tr>\n",
       "    <tr>\n",
       "      <th>4</th>\n",
       "      <td>Eastern</td>\n",
       "      <td>2016</td>\n",
       "      <td>101619</td>\n",
       "      <td>1113</td>\n",
       "      <td>4893</td>\n",
       "      <td>142307</td>\n",
       "      <td>23.288331</td>\n",
       "      <td>50.147830</td>\n",
       "    </tr>\n",
       "  </tbody>\n",
       "</table>\n",
       "</div>"
      ],
      "text/plain": [
       "      region  year  accidents_no  dead  injured  license_no          x  \\\n",
       "0    Al-Baha  2016          3618   185     1227        4614  20.148406   \n",
       "1    Al-Jouf  2016         10212   245      920        9371  29.967745   \n",
       "2  Al-Qaseem  2016         25664   397     1513        9180  26.196706   \n",
       "3      Assir  2016         32684   983     2541       41367  19.138785   \n",
       "4    Eastern  2016        101619  1113     4893      142307  23.288331   \n",
       "\n",
       "           y  \n",
       "0  41.466548  \n",
       "1  39.557037  \n",
       "2  43.343000  \n",
       "3  42.941470  \n",
       "4  50.147830  "
      ]
     },
     "execution_count": 230,
     "metadata": {},
     "output_type": "execute_result"
    }
   ],
   "source": [
    "combined.head()"
   ]
  },
  {
   "cell_type": "markdown",
   "metadata": {},
   "source": [
    "# B)\n",
    "the license histogram shows some points that match with the accidents histogram, and some that really does not.\n",
    "but it is correlated.\n",
    "an additional plot was created to show the license issuing by regions of saudi arabia."
   ]
  },
  {
   "cell_type": "code",
   "execution_count": 165,
   "metadata": {},
   "outputs": [
    {
     "data": {
      "image/png": "[encoded data removed]",
      "text/plain": [
       "<Figure size 432x288 with 1 Axes>"
      ]
     },
     "metadata": {
      "needs_background": "light"
     },
     "output_type": "display_data"
    }
   ],
   "source": [
    "plt.hist(np.log1p(licenses[\"license_no\"]),color=\"G\")\n",
    "plt.title(\"Licenses\")\n",
    "plt.ylabel(\"count\")\n",
    "plt.xlabel(\"licenses issued\")\n",
    "\n",
    "\n",
    "plt.show()"
   ]
  },
  {
   "cell_type": "code",
   "execution_count": 231,
   "metadata": {},
   "outputs": [
    {
     "name": "stderr",
     "output_type": "stream",
     "text": [
      "C:\\Users\\creed\\Anaconda3\\lib\\site-packages\\seaborn\\categorical.py:3666: UserWarning: The `factorplot` function has been renamed to `catplot`. The original name will be removed in a future release. Please update your code. Note that the default `kind` in `factorplot` (`'point'`) has changed `'strip'` in `catplot`.\n",
      "  warnings.warn(msg)\n",
      "C:\\Users\\creed\\Anaconda3\\lib\\site-packages\\seaborn\\categorical.py:3672: UserWarning: The `size` paramter has been renamed to `height`; please update your code.\n",
      "  warnings.warn(msg, UserWarning)\n"
     ]
    },
    {
     "data": {
      "text/plain": [
       "<seaborn.axisgrid.FacetGrid at 0x248a7470470>"
      ]
     },
     "execution_count": 231,
     "metadata": {},
     "output_type": "execute_result"
    },
    {
     "data": {
      "image/png": "[encoded data removed]",
      "text/plain": [
       "<Figure size 1080x1080 with 1 Axes>"
      ]
     },
     "metadata": {
      "needs_background": "light"
     },
     "output_type": "display_data"
    }
   ],
   "source": [
    "sns.factorplot(x=\"region\",y=\"license_no\",data=combined,kind=\"bar\", size = 15)"
   ]
  },
  {
   "cell_type": "markdown",
   "metadata": {},
   "source": [
    "#### Plot and interpret scatter plots\n",
    "\n",
    "For each of the following:\n",
    "- Driving Licenses vs. Traffic Accidents for 2017\n",
    "- Driving Licenses vs. Traffic Accidents for 2016\n",
    "- Driving Licenses for 2016 vs 2017\n",
    "- Traffic Accidents for 2016 vs 2017\n",
    "\n",
    "Plot the two variables against each other using matplotlib or Seaborn\n",
    "\n",
    "Your plots should show:\n",
    "- Two clearly labeled axes\n",
    "- A proper title\n",
    "- Using colors and symbols that are clear and unmistakable\n",
    "\n",
    "**Feel free to write a custom function, and subplot if you'd like.** Functions save both time and space.\n"
   ]
  },
  {
   "cell_type": "markdown",
   "metadata": {},
   "source": [
    "# Interpretation of both A and B:\n",
    "\n",
    "Both years show the in the begining of the year"
   ]
  },
  {
   "cell_type": "markdown",
   "metadata": {},
   "source": [
    "# A)"
   ]
  },
  {
   "cell_type": "code",
   "execution_count": 242,
   "metadata": {},
   "outputs": [],
   "source": [
    "from scipy.stats import pearsonr"
   ]
  },
  {
   "cell_type": "code",
   "execution_count": 243,
   "metadata": {},
   "outputs": [
    {
     "name": "stderr",
     "output_type": "stream",
     "text": [
      "C:\\Users\\creed\\Anaconda3\\lib\\site-packages\\scipy\\stats\\stats.py:1713: FutureWarning: Using a non-tuple sequence for multidimensional indexing is deprecated; use `arr[tuple(seq)]` instead of `arr[seq]`. In the future this will be interpreted as an array index, `arr[np.array(seq)]`, which will result either in an error or a different result.\n",
      "  return np.add.reduce(sorted[indexer] * weights, axis=axis) / sumval\n",
      "C:\\Users\\creed\\Anaconda3\\lib\\site-packages\\seaborn\\axisgrid.py:1847: UserWarning: JointGrid annotation is deprecated and will be removed in a future release.\n",
      "  warnings.warn(UserWarning(msg))\n"
     ]
    },
    {
     "data": {
      "text/plain": [
       "<seaborn.axisgrid.JointGrid at 0x248a2b69080>"
      ]
     },
     "execution_count": 243,
     "metadata": {},
     "output_type": "execute_result"
    },
    {
     "data": {
      "image/png": "[encoded data removed]",
      "text/plain": [
       "<Figure size 432x432 with 3 Axes>"
      ]
     },
     "metadata": {
      "needs_background": "light"
     },
     "output_type": "display_data"
    }
   ],
   "source": [
    "sns.jointplot('accidents_no', 'license_no', data=comb_2017, kind='scatter', stat_func=pearsonr)"
   ]
  },
  {
   "cell_type": "markdown",
   "metadata": {},
   "source": [
    "From the plot it is clearly shows linear corrolation between number of accedents and licenes issued in 2017 with corolation of about 0.7"
   ]
  },
  {
   "cell_type": "markdown",
   "metadata": {},
   "source": [
    "# B)"
   ]
  },
  {
   "cell_type": "code",
   "execution_count": 244,
   "metadata": {},
   "outputs": [
    {
     "name": "stderr",
     "output_type": "stream",
     "text": [
      "C:\\Users\\creed\\Anaconda3\\lib\\site-packages\\seaborn\\axisgrid.py:1847: UserWarning: JointGrid annotation is deprecated and will be removed in a future release.\n",
      "  warnings.warn(UserWarning(msg))\n"
     ]
    },
    {
     "data": {
      "text/plain": [
       "<seaborn.axisgrid.JointGrid at 0x248a970ff60>"
      ]
     },
     "execution_count": 244,
     "metadata": {},
     "output_type": "execute_result"
    },
    {
     "data": {
      "image/png": "[encoded data removed]",
      "text/plain": [
       "<Figure size 432x432 with 3 Axes>"
      ]
     },
     "metadata": {
      "needs_background": "light"
     },
     "output_type": "display_data"
    }
   ],
   "source": [
    "sns.jointplot('accidents_no', 'license_no', data=comb_2016, kind='scatter', stat_func=pearsonr)"
   ]
  },
  {
   "cell_type": "markdown",
   "metadata": {},
   "source": [
    "From the plot it is clearly shows linear corrolation between number of accedents and licenes issued in 2017 with corolation of about 0.94"
   ]
  },
  {
   "cell_type": "markdown",
   "metadata": {},
   "source": [
    "# C)"
   ]
  },
  {
   "cell_type": "code",
   "execution_count": 247,
   "metadata": {},
   "outputs": [
    {
     "name": "stderr",
     "output_type": "stream",
     "text": [
      "C:\\Users\\creed\\Anaconda3\\lib\\site-packages\\scipy\\stats\\stats.py:1713: FutureWarning: Using a non-tuple sequence for multidimensional indexing is deprecated; use `arr[tuple(seq)]` instead of `arr[seq]`. In the future this will be interpreted as an array index, `arr[np.array(seq)]`, which will result either in an error or a different result.\n",
      "  return np.add.reduce(sorted[indexer] * weights, axis=axis) / sumval\n",
      "C:\\Users\\creed\\Anaconda3\\lib\\site-packages\\seaborn\\axisgrid.py:1847: UserWarning: JointGrid annotation is deprecated and will be removed in a future release.\n",
      "  warnings.warn(UserWarning(msg))\n"
     ]
    },
    {
     "data": {
      "text/plain": [
       "<seaborn.axisgrid.JointGrid at 0x248a80ad7f0>"
      ]
     },
     "execution_count": 247,
     "metadata": {},
     "output_type": "execute_result"
    },
    {
     "data": {
      "image/png": "[encoded data removed]",
      "text/plain": [
       "<Figure size 432x432 with 3 Axes>"
      ]
     },
     "metadata": {
      "needs_background": "light"
     },
     "output_type": "display_data"
    }
   ],
   "source": [
    "sns.jointplot(x=lic_2016, y=lic_2017, kind='scatter', stat_func=pearsonr)"
   ]
  },
  {
   "cell_type": "markdown",
   "metadata": {},
   "source": [
    "From the plot it is clearly shows linear corrolation between number of issued licenes in 2017 and 2016 with corolation of about 0.93"
   ]
  },
  {
   "cell_type": "markdown",
   "metadata": {},
   "source": [
    "# D)"
   ]
  },
  {
   "cell_type": "code",
   "execution_count": 249,
   "metadata": {},
   "outputs": [
    {
     "name": "stderr",
     "output_type": "stream",
     "text": [
      "C:\\Users\\creed\\Anaconda3\\lib\\site-packages\\seaborn\\axisgrid.py:1847: UserWarning: JointGrid annotation is deprecated and will be removed in a future release.\n",
      "  warnings.warn(UserWarning(msg))\n"
     ]
    },
    {
     "data": {
      "text/plain": [
       "<seaborn.axisgrid.JointGrid at 0x248a810d0b8>"
      ]
     },
     "execution_count": 249,
     "metadata": {},
     "output_type": "execute_result"
    },
    {
     "data": {
      "image/png": "[encoded data removed]",
      "text/plain": [
       "<Figure size 432x432 with 3 Axes>"
      ]
     },
     "metadata": {
      "needs_background": "light"
     },
     "output_type": "display_data"
    }
   ],
   "source": [
    "sns.jointplot(x=acc_2016, y=acc_2017, kind='scatter', stat_func=pearsonr)"
   ]
  },
  {
   "cell_type": "markdown",
   "metadata": {},
   "source": [
    "From the plot it is clearly shows linear corrolation between number of accedents in 2017 and 2016 with corolation of about 0.97"
   ]
  },
  {
   "cell_type": "markdown",
   "metadata": {},
   "source": [
    "#### Plot and interpret boxplots\n",
    "\n",
    "For each numeric variable in the dataframe create a boxplot using Seaborn. Boxplots demonstrate central tendency and spread in variables. In a certain sense, these are somewhat redundant with histograms, but you may be better able to identify clear outliers or differences in IQR, etc.\n",
    "\n",
    "Multiple values can be plotted to a single boxplot as long as they are of the same relative scale (meaning they have similar min/max values).\n",
    "\n",
    "Each boxplot should:\n",
    "- Only include variables of a similar scale\n",
    "- Have clear labels for each variable\n",
    "- Have appropriate titles and labels"
   ]
  },
  {
   "cell_type": "code",
   "execution_count": 261,
   "metadata": {},
   "outputs": [
    {
     "data": {
      "text/html": [
       "<div>\n",
       "<style scoped>\n",
       "    .dataframe tbody tr th:only-of-type {\n",
       "        vertical-align: middle;\n",
       "    }\n",
       "\n",
       "    .dataframe tbody tr th {\n",
       "        vertical-align: top;\n",
       "    }\n",
       "\n",
       "    .dataframe thead th {\n",
       "        text-align: right;\n",
       "    }\n",
       "</style>\n",
       "<table border=\"1\" class=\"dataframe\">\n",
       "  <thead>\n",
       "    <tr style=\"text-align: right;\">\n",
       "      <th></th>\n",
       "      <th>region</th>\n",
       "      <th>year</th>\n",
       "      <th>accidents_no</th>\n",
       "      <th>dead</th>\n",
       "      <th>injured</th>\n",
       "      <th>license_no</th>\n",
       "      <th>x</th>\n",
       "      <th>y</th>\n",
       "    </tr>\n",
       "  </thead>\n",
       "  <tbody>\n",
       "    <tr>\n",
       "      <th>0</th>\n",
       "      <td>Al-Baha</td>\n",
       "      <td>2016</td>\n",
       "      <td>3618</td>\n",
       "      <td>185</td>\n",
       "      <td>1227</td>\n",
       "      <td>4614</td>\n",
       "      <td>20.148406</td>\n",
       "      <td>41.466548</td>\n",
       "    </tr>\n",
       "    <tr>\n",
       "      <th>1</th>\n",
       "      <td>Al-Jouf</td>\n",
       "      <td>2016</td>\n",
       "      <td>10212</td>\n",
       "      <td>245</td>\n",
       "      <td>920</td>\n",
       "      <td>9371</td>\n",
       "      <td>29.967745</td>\n",
       "      <td>39.557037</td>\n",
       "    </tr>\n",
       "    <tr>\n",
       "      <th>2</th>\n",
       "      <td>Al-Qaseem</td>\n",
       "      <td>2016</td>\n",
       "      <td>25664</td>\n",
       "      <td>397</td>\n",
       "      <td>1513</td>\n",
       "      <td>9180</td>\n",
       "      <td>26.196706</td>\n",
       "      <td>43.343000</td>\n",
       "    </tr>\n",
       "    <tr>\n",
       "      <th>3</th>\n",
       "      <td>Assir</td>\n",
       "      <td>2016</td>\n",
       "      <td>32684</td>\n",
       "      <td>983</td>\n",
       "      <td>2541</td>\n",
       "      <td>41367</td>\n",
       "      <td>19.138785</td>\n",
       "      <td>42.941470</td>\n",
       "    </tr>\n",
       "    <tr>\n",
       "      <th>4</th>\n",
       "      <td>Eastern</td>\n",
       "      <td>2016</td>\n",
       "      <td>101619</td>\n",
       "      <td>1113</td>\n",
       "      <td>4893</td>\n",
       "      <td>142307</td>\n",
       "      <td>23.288331</td>\n",
       "      <td>50.147830</td>\n",
       "    </tr>\n",
       "  </tbody>\n",
       "</table>\n",
       "</div>"
      ],
      "text/plain": [
       "      region  year  accidents_no  dead  injured  license_no          x  \\\n",
       "0    Al-Baha  2016          3618   185     1227        4614  20.148406   \n",
       "1    Al-Jouf  2016         10212   245      920        9371  29.967745   \n",
       "2  Al-Qaseem  2016         25664   397     1513        9180  26.196706   \n",
       "3      Assir  2016         32684   983     2541       41367  19.138785   \n",
       "4    Eastern  2016        101619  1113     4893      142307  23.288331   \n",
       "\n",
       "           y  \n",
       "0  41.466548  \n",
       "1  39.557037  \n",
       "2  43.343000  \n",
       "3  42.941470  \n",
       "4  50.147830  "
      ]
     },
     "execution_count": 261,
     "metadata": {},
     "output_type": "execute_result"
    }
   ],
   "source": [
    "combined.head()"
   ]
  },
  {
   "cell_type": "code",
   "execution_count": 263,
   "metadata": {},
   "outputs": [
    {
     "data": {
      "text/plain": [
       "<matplotlib.axes._subplots.AxesSubplot at 0x248abca6da0>"
      ]
     },
     "execution_count": 263,
     "metadata": {},
     "output_type": "execute_result"
    },
    {
     "data": {
      "image/png": "[encoded data removed]",
      "text/plain": [
       "<Figure size 432x288 with 1 Axes>"
      ]
     },
     "metadata": {
      "needs_background": "light"
     },
     "output_type": "display_data"
    },
    {
     "data": {
      "image/png": "[encoded data removed]",
      "text/plain": [
       "<Figure size 432x288 with 1 Axes>"
      ]
     },
     "metadata": {
      "needs_background": "light"
     },
     "output_type": "display_data"
    }
   ],
   "source": [
    "# Code\n",
    "#g=sns.pairplot(accidents, kind=)\n",
    "sns.boxplot(x=\"year\", y=\"dead\", data = combined)\n",
    "plt.figure()\n",
    "sns.boxplot(x=\"year\", y=\"injured\", data = combined)"
   ]
  },
  {
   "cell_type": "markdown",
   "metadata": {},
   "source": [
    "There is a decline in the number of dead and injured individuals in 2017 compared to the previous year "
   ]
  },
  {
   "cell_type": "markdown",
   "metadata": {},
   "source": [
    "#### Additional plots below\n"
   ]
  },
  {
   "cell_type": "markdown",
   "metadata": {},
   "source": [
    "This joint plot demonstarate the concentration of the accidents in saudi arabia using the longitude \"x\" , and the latitude \"y\", most accidents are in makkah, while eastern has more accidents, the region is bigger. Attempted bokhe library"
   ]
  },
  {
   "cell_type": "code",
   "execution_count": 270,
   "metadata": {},
   "outputs": [
    {
     "data": {
      "text/plain": [
       "<seaborn.axisgrid.JointGrid at 0x248abba1a58>"
      ]
     },
     "execution_count": 270,
     "metadata": {},
     "output_type": "execute_result"
    },
    {
     "data": {
      "image/png": "[encoded data removed]",
      "text/plain": [
       "<Figure size 432x432 with 3 Axes>"
      ]
     },
     "metadata": {
      "needs_background": "light"
     },
     "output_type": "display_data"
    }
   ],
   "source": [
    "#making a jont plot to show the concentration of accidents with the license issuing \n",
    "sns.jointplot(x=\"x\",y=\"y\", data = combined,  kind = \"kde\")"
   ]
  },
  {
   "cell_type": "markdown",
   "metadata": {},
   "source": [
    "## Descriptive and Inferential Statistics"
   ]
  },
  {
   "cell_type": "markdown",
   "metadata": {},
   "source": [
    "#### Summarizing Distributions\n",
    "\n",
    "Above, we used pandas `describe` to provide quick summary statistics of our numeric columns. We also demonstrated many visual relationships.\n",
    "\n",
    "As data scientists, having a complete understanding of data is imperative prior to modeling.\n",
    "\n",
    "While we will continue to build our analytic tools, we know that measures of *central tendency*, *spread*, and *shape/skewness* provide a quick summary of distributions.\n",
    "\n",
    "For each variable in your data, summarize the underlying distributions (in words & statistics)\n",
    " - Be thorough in your verbal description of these distributions.\n",
    " - Be sure to back up these summaries with statistics."
   ]
  },
  {
   "cell_type": "code",
   "execution_count": 300,
   "metadata": {},
   "outputs": [
    {
     "data": {
      "text/html": [
       "<div>\n",
       "<style scoped>\n",
       "    .dataframe tbody tr th:only-of-type {\n",
       "        vertical-align: middle;\n",
       "    }\n",
       "\n",
       "    .dataframe tbody tr th {\n",
       "        vertical-align: top;\n",
       "    }\n",
       "\n",
       "    .dataframe thead th {\n",
       "        text-align: right;\n",
       "    }\n",
       "</style>\n",
       "<table border=\"1\" class=\"dataframe\">\n",
       "  <thead>\n",
       "    <tr style=\"text-align: right;\">\n",
       "      <th></th>\n",
       "      <th>region</th>\n",
       "      <th>Al-Baha</th>\n",
       "      <th>Al-Jouf</th>\n",
       "      <th>Al-Qaseem</th>\n",
       "      <th>Assir</th>\n",
       "      <th>Eastern</th>\n",
       "      <th>Hail</th>\n",
       "      <th>Jazan</th>\n",
       "      <th>Madinah</th>\n",
       "      <th>Makkah</th>\n",
       "      <th>Najran</th>\n",
       "      <th>Northern Boarder</th>\n",
       "      <th>Riyadh</th>\n",
       "      <th>Tabouk</th>\n",
       "    </tr>\n",
       "  </thead>\n",
       "  <tbody>\n",
       "    <tr>\n",
       "      <th rowspan=\"8\" valign=\"top\">accidents_no</th>\n",
       "      <th>count</th>\n",
       "      <td>2.000000</td>\n",
       "      <td>2.000000</td>\n",
       "      <td>2.000000</td>\n",
       "      <td>2.000000</td>\n",
       "      <td>2.000000</td>\n",
       "      <td>2.000000</td>\n",
       "      <td>2.000000</td>\n",
       "      <td>2.000000</td>\n",
       "      <td>2.000000</td>\n",
       "      <td>2.000000</td>\n",
       "      <td>2.000000</td>\n",
       "      <td>2.000000</td>\n",
       "      <td>2.000000</td>\n",
       "    </tr>\n",
       "    <tr>\n",
       "      <th>mean</th>\n",
       "      <td>2516.000000</td>\n",
       "      <td>10340.500000</td>\n",
       "      <td>24034.500000</td>\n",
       "      <td>28964.500000</td>\n",
       "      <td>91526.000000</td>\n",
       "      <td>9789.000000</td>\n",
       "      <td>24017.000000</td>\n",
       "      <td>15272.500000</td>\n",
       "      <td>140189.500000</td>\n",
       "      <td>3214.000000</td>\n",
       "      <td>12368.000000</td>\n",
       "      <td>120830.500000</td>\n",
       "      <td>13872.000000</td>\n",
       "    </tr>\n",
       "    <tr>\n",
       "      <th>std</th>\n",
       "      <td>1558.463346</td>\n",
       "      <td>181.726443</td>\n",
       "      <td>2304.461000</td>\n",
       "      <td>5260.167345</td>\n",
       "      <td>14273.657485</td>\n",
       "      <td>579.827561</td>\n",
       "      <td>2624.780372</td>\n",
       "      <td>1127.835316</td>\n",
       "      <td>7568.163879</td>\n",
       "      <td>29.698485</td>\n",
       "      <td>1170.968830</td>\n",
       "      <td>29564.841628</td>\n",
       "      <td>3053.287081</td>\n",
       "    </tr>\n",
       "    <tr>\n",
       "      <th>min</th>\n",
       "      <td>1414.000000</td>\n",
       "      <td>10212.000000</td>\n",
       "      <td>22405.000000</td>\n",
       "      <td>25245.000000</td>\n",
       "      <td>81433.000000</td>\n",
       "      <td>9379.000000</td>\n",
       "      <td>22161.000000</td>\n",
       "      <td>14475.000000</td>\n",
       "      <td>134838.000000</td>\n",
       "      <td>3193.000000</td>\n",
       "      <td>11540.000000</td>\n",
       "      <td>99925.000000</td>\n",
       "      <td>11713.000000</td>\n",
       "    </tr>\n",
       "    <tr>\n",
       "      <th>25%</th>\n",
       "      <td>1965.000000</td>\n",
       "      <td>10276.250000</td>\n",
       "      <td>23219.750000</td>\n",
       "      <td>27104.750000</td>\n",
       "      <td>86479.500000</td>\n",
       "      <td>9584.000000</td>\n",
       "      <td>23089.000000</td>\n",
       "      <td>14873.750000</td>\n",
       "      <td>137513.750000</td>\n",
       "      <td>3203.500000</td>\n",
       "      <td>11954.000000</td>\n",
       "      <td>110377.750000</td>\n",
       "      <td>12792.500000</td>\n",
       "    </tr>\n",
       "    <tr>\n",
       "      <th>50%</th>\n",
       "      <td>2516.000000</td>\n",
       "      <td>10340.500000</td>\n",
       "      <td>24034.500000</td>\n",
       "      <td>28964.500000</td>\n",
       "      <td>91526.000000</td>\n",
       "      <td>9789.000000</td>\n",
       "      <td>24017.000000</td>\n",
       "      <td>15272.500000</td>\n",
       "      <td>140189.500000</td>\n",
       "      <td>3214.000000</td>\n",
       "      <td>12368.000000</td>\n",
       "      <td>120830.500000</td>\n",
       "      <td>13872.000000</td>\n",
       "    </tr>\n",
       "    <tr>\n",
       "      <th>75%</th>\n",
       "      <td>3067.000000</td>\n",
       "      <td>10404.750000</td>\n",
       "      <td>24849.250000</td>\n",
       "      <td>30824.250000</td>\n",
       "      <td>96572.500000</td>\n",
       "      <td>9994.000000</td>\n",
       "      <td>24945.000000</td>\n",
       "      <td>15671.250000</td>\n",
       "      <td>142865.250000</td>\n",
       "      <td>3224.500000</td>\n",
       "      <td>12782.000000</td>\n",
       "      <td>131283.250000</td>\n",
       "      <td>14951.500000</td>\n",
       "    </tr>\n",
       "    <tr>\n",
       "      <th>max</th>\n",
       "      <td>3618.000000</td>\n",
       "      <td>10469.000000</td>\n",
       "      <td>25664.000000</td>\n",
       "      <td>32684.000000</td>\n",
       "      <td>101619.000000</td>\n",
       "      <td>10199.000000</td>\n",
       "      <td>25873.000000</td>\n",
       "      <td>16070.000000</td>\n",
       "      <td>145541.000000</td>\n",
       "      <td>3235.000000</td>\n",
       "      <td>13196.000000</td>\n",
       "      <td>141736.000000</td>\n",
       "      <td>16031.000000</td>\n",
       "    </tr>\n",
       "    <tr>\n",
       "      <th rowspan=\"8\" valign=\"top\">dead</th>\n",
       "      <th>count</th>\n",
       "      <td>2.000000</td>\n",
       "      <td>2.000000</td>\n",
       "      <td>2.000000</td>\n",
       "      <td>2.000000</td>\n",
       "      <td>2.000000</td>\n",
       "      <td>2.000000</td>\n",
       "      <td>2.000000</td>\n",
       "      <td>2.000000</td>\n",
       "      <td>2.000000</td>\n",
       "      <td>2.000000</td>\n",
       "      <td>2.000000</td>\n",
       "      <td>2.000000</td>\n",
       "      <td>2.000000</td>\n",
       "    </tr>\n",
       "    <tr>\n",
       "      <th>mean</th>\n",
       "      <td>159.500000</td>\n",
       "      <td>242.500000</td>\n",
       "      <td>358.000000</td>\n",
       "      <td>905.500000</td>\n",
       "      <td>1038.000000</td>\n",
       "      <td>282.000000</td>\n",
       "      <td>490.000000</td>\n",
       "      <td>701.000000</td>\n",
       "      <td>1942.000000</td>\n",
       "      <td>183.500000</td>\n",
       "      <td>152.500000</td>\n",
       "      <td>1414.500000</td>\n",
       "      <td>391.000000</td>\n",
       "    </tr>\n",
       "    <tr>\n",
       "      <th>std</th>\n",
       "      <td>36.062446</td>\n",
       "      <td>3.535534</td>\n",
       "      <td>55.154329</td>\n",
       "      <td>109.601551</td>\n",
       "      <td>106.066017</td>\n",
       "      <td>24.041631</td>\n",
       "      <td>33.941125</td>\n",
       "      <td>171.119841</td>\n",
       "      <td>425.678282</td>\n",
       "      <td>14.849242</td>\n",
       "      <td>57.275649</td>\n",
       "      <td>21.920310</td>\n",
       "      <td>60.811183</td>\n",
       "    </tr>\n",
       "    <tr>\n",
       "      <th>min</th>\n",
       "      <td>134.000000</td>\n",
       "      <td>240.000000</td>\n",
       "      <td>319.000000</td>\n",
       "      <td>828.000000</td>\n",
       "      <td>963.000000</td>\n",
       "      <td>265.000000</td>\n",
       "      <td>466.000000</td>\n",
       "      <td>580.000000</td>\n",
       "      <td>1641.000000</td>\n",
       "      <td>173.000000</td>\n",
       "      <td>112.000000</td>\n",
       "      <td>1399.000000</td>\n",
       "      <td>348.000000</td>\n",
       "    </tr>\n",
       "    <tr>\n",
       "      <th>25%</th>\n",
       "      <td>146.750000</td>\n",
       "      <td>241.250000</td>\n",
       "      <td>338.500000</td>\n",
       "      <td>866.750000</td>\n",
       "      <td>1000.500000</td>\n",
       "      <td>273.500000</td>\n",
       "      <td>478.000000</td>\n",
       "      <td>640.500000</td>\n",
       "      <td>1791.500000</td>\n",
       "      <td>178.250000</td>\n",
       "      <td>132.250000</td>\n",
       "      <td>1406.750000</td>\n",
       "      <td>369.500000</td>\n",
       "    </tr>\n",
       "    <tr>\n",
       "      <th>50%</th>\n",
       "      <td>159.500000</td>\n",
       "      <td>242.500000</td>\n",
       "      <td>358.000000</td>\n",
       "      <td>905.500000</td>\n",
       "      <td>1038.000000</td>\n",
       "      <td>282.000000</td>\n",
       "      <td>490.000000</td>\n",
       "      <td>701.000000</td>\n",
       "      <td>1942.000000</td>\n",
       "      <td>183.500000</td>\n",
       "      <td>152.500000</td>\n",
       "      <td>1414.500000</td>\n",
       "      <td>391.000000</td>\n",
       "    </tr>\n",
       "    <tr>\n",
       "      <th>75%</th>\n",
       "      <td>172.250000</td>\n",
       "      <td>243.750000</td>\n",
       "      <td>377.500000</td>\n",
       "      <td>944.250000</td>\n",
       "      <td>1075.500000</td>\n",
       "      <td>290.500000</td>\n",
       "      <td>502.000000</td>\n",
       "      <td>761.500000</td>\n",
       "      <td>2092.500000</td>\n",
       "      <td>188.750000</td>\n",
       "      <td>172.750000</td>\n",
       "      <td>1422.250000</td>\n",
       "      <td>412.500000</td>\n",
       "    </tr>\n",
       "    <tr>\n",
       "      <th>max</th>\n",
       "      <td>185.000000</td>\n",
       "      <td>245.000000</td>\n",
       "      <td>397.000000</td>\n",
       "      <td>983.000000</td>\n",
       "      <td>1113.000000</td>\n",
       "      <td>299.000000</td>\n",
       "      <td>514.000000</td>\n",
       "      <td>822.000000</td>\n",
       "      <td>2243.000000</td>\n",
       "      <td>194.000000</td>\n",
       "      <td>193.000000</td>\n",
       "      <td>1430.000000</td>\n",
       "      <td>434.000000</td>\n",
       "    </tr>\n",
       "    <tr>\n",
       "      <th rowspan=\"8\" valign=\"top\">injured</th>\n",
       "      <th>count</th>\n",
       "      <td>2.000000</td>\n",
       "      <td>2.000000</td>\n",
       "      <td>2.000000</td>\n",
       "      <td>2.000000</td>\n",
       "      <td>2.000000</td>\n",
       "      <td>2.000000</td>\n",
       "      <td>2.000000</td>\n",
       "      <td>2.000000</td>\n",
       "      <td>2.000000</td>\n",
       "      <td>2.000000</td>\n",
       "      <td>2.000000</td>\n",
       "      <td>2.000000</td>\n",
       "      <td>2.000000</td>\n",
       "    </tr>\n",
       "    <tr>\n",
       "      <th>mean</th>\n",
       "      <td>1117.000000</td>\n",
       "      <td>891.000000</td>\n",
       "      <td>1479.500000</td>\n",
       "      <td>2454.500000</td>\n",
       "      <td>4483.000000</td>\n",
       "      <td>852.500000</td>\n",
       "      <td>2233.000000</td>\n",
       "      <td>3550.500000</td>\n",
       "      <td>11503.000000</td>\n",
       "      <td>736.000000</td>\n",
       "      <td>502.500000</td>\n",
       "      <td>4373.500000</td>\n",
       "      <td>1483.500000</td>\n",
       "    </tr>\n",
       "    <tr>\n",
       "      <th>std</th>\n",
       "      <td>155.563492</td>\n",
       "      <td>41.012193</td>\n",
       "      <td>47.376154</td>\n",
       "      <td>122.329473</td>\n",
       "      <td>579.827561</td>\n",
       "      <td>112.429978</td>\n",
       "      <td>36.769553</td>\n",
       "      <td>895.904292</td>\n",
       "      <td>1244.507935</td>\n",
       "      <td>42.426407</td>\n",
       "      <td>181.726443</td>\n",
       "      <td>235.466558</td>\n",
       "      <td>340.118362</td>\n",
       "    </tr>\n",
       "    <tr>\n",
       "      <th>min</th>\n",
       "      <td>1007.000000</td>\n",
       "      <td>862.000000</td>\n",
       "      <td>1446.000000</td>\n",
       "      <td>2368.000000</td>\n",
       "      <td>4073.000000</td>\n",
       "      <td>773.000000</td>\n",
       "      <td>2207.000000</td>\n",
       "      <td>2917.000000</td>\n",
       "      <td>10623.000000</td>\n",
       "      <td>706.000000</td>\n",
       "      <td>374.000000</td>\n",
       "      <td>4207.000000</td>\n",
       "      <td>1243.000000</td>\n",
       "    </tr>\n",
       "    <tr>\n",
       "      <th>25%</th>\n",
       "      <td>1062.000000</td>\n",
       "      <td>876.500000</td>\n",
       "      <td>1462.750000</td>\n",
       "      <td>2411.250000</td>\n",
       "      <td>4278.000000</td>\n",
       "      <td>812.750000</td>\n",
       "      <td>2220.000000</td>\n",
       "      <td>3233.750000</td>\n",
       "      <td>11063.000000</td>\n",
       "      <td>721.000000</td>\n",
       "      <td>438.250000</td>\n",
       "      <td>4290.250000</td>\n",
       "      <td>1363.250000</td>\n",
       "    </tr>\n",
       "    <tr>\n",
       "      <th>50%</th>\n",
       "      <td>1117.000000</td>\n",
       "      <td>891.000000</td>\n",
       "      <td>1479.500000</td>\n",
       "      <td>2454.500000</td>\n",
       "      <td>4483.000000</td>\n",
       "      <td>852.500000</td>\n",
       "      <td>2233.000000</td>\n",
       "      <td>3550.500000</td>\n",
       "      <td>11503.000000</td>\n",
       "      <td>736.000000</td>\n",
       "      <td>502.500000</td>\n",
       "      <td>4373.500000</td>\n",
       "      <td>1483.500000</td>\n",
       "    </tr>\n",
       "    <tr>\n",
       "      <th>75%</th>\n",
       "      <td>1172.000000</td>\n",
       "      <td>905.500000</td>\n",
       "      <td>1496.250000</td>\n",
       "      <td>2497.750000</td>\n",
       "      <td>4688.000000</td>\n",
       "      <td>892.250000</td>\n",
       "      <td>2246.000000</td>\n",
       "      <td>3867.250000</td>\n",
       "      <td>11943.000000</td>\n",
       "      <td>751.000000</td>\n",
       "      <td>566.750000</td>\n",
       "      <td>4456.750000</td>\n",
       "      <td>1603.750000</td>\n",
       "    </tr>\n",
       "    <tr>\n",
       "      <th>max</th>\n",
       "      <td>1227.000000</td>\n",
       "      <td>920.000000</td>\n",
       "      <td>1513.000000</td>\n",
       "      <td>2541.000000</td>\n",
       "      <td>4893.000000</td>\n",
       "      <td>932.000000</td>\n",
       "      <td>2259.000000</td>\n",
       "      <td>4184.000000</td>\n",
       "      <td>12383.000000</td>\n",
       "      <td>766.000000</td>\n",
       "      <td>631.000000</td>\n",
       "      <td>4540.000000</td>\n",
       "      <td>1724.000000</td>\n",
       "    </tr>\n",
       "    <tr>\n",
       "      <th rowspan=\"8\" valign=\"top\">license_no</th>\n",
       "      <th>count</th>\n",
       "      <td>2.000000</td>\n",
       "      <td>2.000000</td>\n",
       "      <td>2.000000</td>\n",
       "      <td>2.000000</td>\n",
       "      <td>2.000000</td>\n",
       "      <td>2.000000</td>\n",
       "      <td>2.000000</td>\n",
       "      <td>2.000000</td>\n",
       "      <td>2.000000</td>\n",
       "      <td>2.000000</td>\n",
       "      <td>2.000000</td>\n",
       "      <td>2.000000</td>\n",
       "      <td>2.000000</td>\n",
       "    </tr>\n",
       "    <tr>\n",
       "      <th>mean</th>\n",
       "      <td>4372.500000</td>\n",
       "      <td>8731.000000</td>\n",
       "      <td>7749.000000</td>\n",
       "      <td>40250.000000</td>\n",
       "      <td>134561.500000</td>\n",
       "      <td>38271.000000</td>\n",
       "      <td>14924.500000</td>\n",
       "      <td>30352.500000</td>\n",
       "      <td>139271.000000</td>\n",
       "      <td>7989.000000</td>\n",
       "      <td>5119.000000</td>\n",
       "      <td>369079.000000</td>\n",
       "      <td>11921.000000</td>\n",
       "    </tr>\n",
       "    <tr>\n",
       "      <th>std</th>\n",
       "      <td>341.532575</td>\n",
       "      <td>905.096680</td>\n",
       "      <td>2023.739608</td>\n",
       "      <td>1579.676549</td>\n",
       "      <td>10953.791147</td>\n",
       "      <td>22961.171399</td>\n",
       "      <td>4837.317490</td>\n",
       "      <td>8220.116331</td>\n",
       "      <td>4548.110817</td>\n",
       "      <td>8253.350350</td>\n",
       "      <td>227.688384</td>\n",
       "      <td>178513.349551</td>\n",
       "      <td>2388.606707</td>\n",
       "    </tr>\n",
       "    <tr>\n",
       "      <th>min</th>\n",
       "      <td>4131.000000</td>\n",
       "      <td>8091.000000</td>\n",
       "      <td>6318.000000</td>\n",
       "      <td>39133.000000</td>\n",
       "      <td>126816.000000</td>\n",
       "      <td>22035.000000</td>\n",
       "      <td>11504.000000</td>\n",
       "      <td>24540.000000</td>\n",
       "      <td>136055.000000</td>\n",
       "      <td>2153.000000</td>\n",
       "      <td>4958.000000</td>\n",
       "      <td>242851.000000</td>\n",
       "      <td>10232.000000</td>\n",
       "    </tr>\n",
       "    <tr>\n",
       "      <th>25%</th>\n",
       "      <td>4251.750000</td>\n",
       "      <td>8411.000000</td>\n",
       "      <td>7033.500000</td>\n",
       "      <td>39691.500000</td>\n",
       "      <td>130688.750000</td>\n",
       "      <td>30153.000000</td>\n",
       "      <td>13214.250000</td>\n",
       "      <td>27446.250000</td>\n",
       "      <td>137663.000000</td>\n",
       "      <td>5071.000000</td>\n",
       "      <td>5038.500000</td>\n",
       "      <td>305965.000000</td>\n",
       "      <td>11076.500000</td>\n",
       "    </tr>\n",
       "    <tr>\n",
       "      <th>50%</th>\n",
       "      <td>4372.500000</td>\n",
       "      <td>8731.000000</td>\n",
       "      <td>7749.000000</td>\n",
       "      <td>40250.000000</td>\n",
       "      <td>134561.500000</td>\n",
       "      <td>38271.000000</td>\n",
       "      <td>14924.500000</td>\n",
       "      <td>30352.500000</td>\n",
       "      <td>139271.000000</td>\n",
       "      <td>7989.000000</td>\n",
       "      <td>5119.000000</td>\n",
       "      <td>369079.000000</td>\n",
       "      <td>11921.000000</td>\n",
       "    </tr>\n",
       "    <tr>\n",
       "      <th>75%</th>\n",
       "      <td>4493.250000</td>\n",
       "      <td>9051.000000</td>\n",
       "      <td>8464.500000</td>\n",
       "      <td>40808.500000</td>\n",
       "      <td>138434.250000</td>\n",
       "      <td>46389.000000</td>\n",
       "      <td>16634.750000</td>\n",
       "      <td>33258.750000</td>\n",
       "      <td>140879.000000</td>\n",
       "      <td>10907.000000</td>\n",
       "      <td>5199.500000</td>\n",
       "      <td>432193.000000</td>\n",
       "      <td>12765.500000</td>\n",
       "    </tr>\n",
       "    <tr>\n",
       "      <th>max</th>\n",
       "      <td>4614.000000</td>\n",
       "      <td>9371.000000</td>\n",
       "      <td>9180.000000</td>\n",
       "      <td>41367.000000</td>\n",
       "      <td>142307.000000</td>\n",
       "      <td>54507.000000</td>\n",
       "      <td>18345.000000</td>\n",
       "      <td>36165.000000</td>\n",
       "      <td>142487.000000</td>\n",
       "      <td>13825.000000</td>\n",
       "      <td>5280.000000</td>\n",
       "      <td>495307.000000</td>\n",
       "      <td>13610.000000</td>\n",
       "    </tr>\n",
       "    <tr>\n",
       "      <th rowspan=\"8\" valign=\"top\">x</th>\n",
       "      <th>count</th>\n",
       "      <td>2.000000</td>\n",
       "      <td>2.000000</td>\n",
       "      <td>2.000000</td>\n",
       "      <td>2.000000</td>\n",
       "      <td>2.000000</td>\n",
       "      <td>2.000000</td>\n",
       "      <td>2.000000</td>\n",
       "      <td>2.000000</td>\n",
       "      <td>2.000000</td>\n",
       "      <td>2.000000</td>\n",
       "      <td>2.000000</td>\n",
       "      <td>2.000000</td>\n",
       "      <td>2.000000</td>\n",
       "    </tr>\n",
       "    <tr>\n",
       "      <th>mean</th>\n",
       "      <td>20.148406</td>\n",
       "      <td>29.967745</td>\n",
       "      <td>26.196706</td>\n",
       "      <td>19.138785</td>\n",
       "      <td>23.288331</td>\n",
       "      <td>27.400846</td>\n",
       "      <td>17.207231</td>\n",
       "      <td>24.927535</td>\n",
       "      <td>21.628963</td>\n",
       "      <td>18.451100</td>\n",
       "      <td>30.197075</td>\n",
       "      <td>23.081434</td>\n",
       "      <td>27.901655</td>\n",
       "    </tr>\n",
       "    <tr>\n",
       "      <th>std</th>\n",
       "      <td>0.000000</td>\n",
       "      <td>0.000000</td>\n",
       "      <td>0.000000</td>\n",
       "      <td>0.000000</td>\n",
       "      <td>0.000000</td>\n",
       "      <td>0.000000</td>\n",
       "      <td>0.000000</td>\n",
       "      <td>0.000000</td>\n",
       "      <td>0.000000</td>\n",
       "      <td>0.000000</td>\n",
       "      <td>0.000000</td>\n",
       "      <td>0.000000</td>\n",
       "      <td>0.000000</td>\n",
       "    </tr>\n",
       "    <tr>\n",
       "      <th>min</th>\n",
       "      <td>20.148406</td>\n",
       "      <td>29.967745</td>\n",
       "      <td>26.196706</td>\n",
       "      <td>19.138785</td>\n",
       "      <td>23.288331</td>\n",
       "      <td>27.400846</td>\n",
       "      <td>17.207231</td>\n",
       "      <td>24.927535</td>\n",
       "      <td>21.628963</td>\n",
       "      <td>18.451100</td>\n",
       "      <td>30.197075</td>\n",
       "      <td>23.081434</td>\n",
       "      <td>27.901655</td>\n",
       "    </tr>\n",
       "    <tr>\n",
       "      <th>25%</th>\n",
       "      <td>20.148406</td>\n",
       "      <td>29.967745</td>\n",
       "      <td>26.196706</td>\n",
       "      <td>19.138785</td>\n",
       "      <td>23.288331</td>\n",
       "      <td>27.400846</td>\n",
       "      <td>17.207231</td>\n",
       "      <td>24.927535</td>\n",
       "      <td>21.628963</td>\n",
       "      <td>18.451100</td>\n",
       "      <td>30.197075</td>\n",
       "      <td>23.081434</td>\n",
       "      <td>27.901655</td>\n",
       "    </tr>\n",
       "    <tr>\n",
       "      <th>50%</th>\n",
       "      <td>20.148406</td>\n",
       "      <td>29.967745</td>\n",
       "      <td>26.196706</td>\n",
       "      <td>19.138785</td>\n",
       "      <td>23.288331</td>\n",
       "      <td>27.400846</td>\n",
       "      <td>17.207231</td>\n",
       "      <td>24.927535</td>\n",
       "      <td>21.628963</td>\n",
       "      <td>18.451100</td>\n",
       "      <td>30.197075</td>\n",
       "      <td>23.081434</td>\n",
       "      <td>27.901655</td>\n",
       "    </tr>\n",
       "    <tr>\n",
       "      <th>75%</th>\n",
       "      <td>20.148406</td>\n",
       "      <td>29.967745</td>\n",
       "      <td>26.196706</td>\n",
       "      <td>19.138785</td>\n",
       "      <td>23.288331</td>\n",
       "      <td>27.400846</td>\n",
       "      <td>17.207231</td>\n",
       "      <td>24.927535</td>\n",
       "      <td>21.628963</td>\n",
       "      <td>18.451100</td>\n",
       "      <td>30.197075</td>\n",
       "      <td>23.081434</td>\n",
       "      <td>27.901655</td>\n",
       "    </tr>\n",
       "    <tr>\n",
       "      <th>max</th>\n",
       "      <td>20.148406</td>\n",
       "      <td>29.967745</td>\n",
       "      <td>26.196706</td>\n",
       "      <td>19.138785</td>\n",
       "      <td>23.288331</td>\n",
       "      <td>27.400846</td>\n",
       "      <td>17.207231</td>\n",
       "      <td>24.927535</td>\n",
       "      <td>21.628963</td>\n",
       "      <td>18.451100</td>\n",
       "      <td>30.197075</td>\n",
       "      <td>23.081434</td>\n",
       "      <td>27.901655</td>\n",
       "    </tr>\n",
       "    <tr>\n",
       "      <th rowspan=\"8\" valign=\"top\">y</th>\n",
       "      <th>count</th>\n",
       "      <td>2.000000</td>\n",
       "      <td>2.000000</td>\n",
       "      <td>2.000000</td>\n",
       "      <td>2.000000</td>\n",
       "      <td>2.000000</td>\n",
       "      <td>2.000000</td>\n",
       "      <td>2.000000</td>\n",
       "      <td>2.000000</td>\n",
       "      <td>2.000000</td>\n",
       "      <td>2.000000</td>\n",
       "      <td>2.000000</td>\n",
       "      <td>2.000000</td>\n",
       "      <td>2.000000</td>\n",
       "    </tr>\n",
       "    <tr>\n",
       "      <th>mean</th>\n",
       "      <td>41.466548</td>\n",
       "      <td>39.557037</td>\n",
       "      <td>43.343000</td>\n",
       "      <td>42.941470</td>\n",
       "      <td>50.147830</td>\n",
       "      <td>41.440696</td>\n",
       "      <td>42.652581</td>\n",
       "      <td>39.491824</td>\n",
       "      <td>41.263690</td>\n",
       "      <td>46.868850</td>\n",
       "      <td>41.817119</td>\n",
       "      <td>45.585751</td>\n",
       "      <td>37.259858</td>\n",
       "    </tr>\n",
       "    <tr>\n",
       "      <th>std</th>\n",
       "      <td>0.000000</td>\n",
       "      <td>0.000000</td>\n",
       "      <td>0.000000</td>\n",
       "      <td>0.000000</td>\n",
       "      <td>0.000000</td>\n",
       "      <td>0.000000</td>\n",
       "      <td>0.000000</td>\n",
       "      <td>0.000000</td>\n",
       "      <td>0.000000</td>\n",
       "      <td>0.000000</td>\n",
       "      <td>0.000000</td>\n",
       "      <td>0.000000</td>\n",
       "      <td>0.000000</td>\n",
       "    </tr>\n",
       "    <tr>\n",
       "      <th>min</th>\n",
       "      <td>41.466548</td>\n",
       "      <td>39.557037</td>\n",
       "      <td>43.343000</td>\n",
       "      <td>42.941470</td>\n",
       "      <td>50.147830</td>\n",
       "      <td>41.440696</td>\n",
       "      <td>42.652581</td>\n",
       "      <td>39.491824</td>\n",
       "      <td>41.263690</td>\n",
       "      <td>46.868850</td>\n",
       "      <td>41.817119</td>\n",
       "      <td>45.585751</td>\n",
       "      <td>37.259858</td>\n",
       "    </tr>\n",
       "    <tr>\n",
       "      <th>25%</th>\n",
       "      <td>41.466548</td>\n",
       "      <td>39.557037</td>\n",
       "      <td>43.343000</td>\n",
       "      <td>42.941470</td>\n",
       "      <td>50.147830</td>\n",
       "      <td>41.440696</td>\n",
       "      <td>42.652581</td>\n",
       "      <td>39.491824</td>\n",
       "      <td>41.263690</td>\n",
       "      <td>46.868850</td>\n",
       "      <td>41.817119</td>\n",
       "      <td>45.585751</td>\n",
       "      <td>37.259858</td>\n",
       "    </tr>\n",
       "    <tr>\n",
       "      <th>50%</th>\n",
       "      <td>41.466548</td>\n",
       "      <td>39.557037</td>\n",
       "      <td>43.343000</td>\n",
       "      <td>42.941470</td>\n",
       "      <td>50.147830</td>\n",
       "      <td>41.440696</td>\n",
       "      <td>42.652581</td>\n",
       "      <td>39.491824</td>\n",
       "      <td>41.263690</td>\n",
       "      <td>46.868850</td>\n",
       "      <td>41.817119</td>\n",
       "      <td>45.585751</td>\n",
       "      <td>37.259858</td>\n",
       "    </tr>\n",
       "    <tr>\n",
       "      <th>75%</th>\n",
       "      <td>41.466548</td>\n",
       "      <td>39.557037</td>\n",
       "      <td>43.343000</td>\n",
       "      <td>42.941470</td>\n",
       "      <td>50.147830</td>\n",
       "      <td>41.440696</td>\n",
       "      <td>42.652581</td>\n",
       "      <td>39.491824</td>\n",
       "      <td>41.263690</td>\n",
       "      <td>46.868850</td>\n",
       "      <td>41.817119</td>\n",
       "      <td>45.585751</td>\n",
       "      <td>37.259858</td>\n",
       "    </tr>\n",
       "    <tr>\n",
       "      <th>max</th>\n",
       "      <td>41.466548</td>\n",
       "      <td>39.557037</td>\n",
       "      <td>43.343000</td>\n",
       "      <td>42.941470</td>\n",
       "      <td>50.147830</td>\n",
       "      <td>41.440696</td>\n",
       "      <td>42.652581</td>\n",
       "      <td>39.491824</td>\n",
       "      <td>41.263690</td>\n",
       "      <td>46.868850</td>\n",
       "      <td>41.817119</td>\n",
       "      <td>45.585751</td>\n",
       "      <td>37.259858</td>\n",
       "    </tr>\n",
       "    <tr>\n",
       "      <th rowspan=\"8\" valign=\"top\">year</th>\n",
       "      <th>count</th>\n",
       "      <td>2.000000</td>\n",
       "      <td>2.000000</td>\n",
       "      <td>2.000000</td>\n",
       "      <td>2.000000</td>\n",
       "      <td>2.000000</td>\n",
       "      <td>2.000000</td>\n",
       "      <td>2.000000</td>\n",
       "      <td>2.000000</td>\n",
       "      <td>2.000000</td>\n",
       "      <td>2.000000</td>\n",
       "      <td>2.000000</td>\n",
       "      <td>2.000000</td>\n",
       "      <td>2.000000</td>\n",
       "    </tr>\n",
       "    <tr>\n",
       "      <th>mean</th>\n",
       "      <td>2016.500000</td>\n",
       "      <td>2016.500000</td>\n",
       "      <td>2016.500000</td>\n",
       "      <td>2016.500000</td>\n",
       "      <td>2016.500000</td>\n",
       "      <td>2016.500000</td>\n",
       "      <td>2016.500000</td>\n",
       "      <td>2016.500000</td>\n",
       "      <td>2016.500000</td>\n",
       "      <td>2016.500000</td>\n",
       "      <td>2016.500000</td>\n",
       "      <td>2016.500000</td>\n",
       "      <td>2016.500000</td>\n",
       "    </tr>\n",
       "    <tr>\n",
       "      <th>std</th>\n",
       "      <td>0.707107</td>\n",
       "      <td>0.707107</td>\n",
       "      <td>0.707107</td>\n",
       "      <td>0.707107</td>\n",
       "      <td>0.707107</td>\n",
       "      <td>0.707107</td>\n",
       "      <td>0.707107</td>\n",
       "      <td>0.707107</td>\n",
       "      <td>0.707107</td>\n",
       "      <td>0.707107</td>\n",
       "      <td>0.707107</td>\n",
       "      <td>0.707107</td>\n",
       "      <td>0.707107</td>\n",
       "    </tr>\n",
       "    <tr>\n",
       "      <th>min</th>\n",
       "      <td>2016.000000</td>\n",
       "      <td>2016.000000</td>\n",
       "      <td>2016.000000</td>\n",
       "      <td>2016.000000</td>\n",
       "      <td>2016.000000</td>\n",
       "      <td>2016.000000</td>\n",
       "      <td>2016.000000</td>\n",
       "      <td>2016.000000</td>\n",
       "      <td>2016.000000</td>\n",
       "      <td>2016.000000</td>\n",
       "      <td>2016.000000</td>\n",
       "      <td>2016.000000</td>\n",
       "      <td>2016.000000</td>\n",
       "    </tr>\n",
       "    <tr>\n",
       "      <th>25%</th>\n",
       "      <td>2016.250000</td>\n",
       "      <td>2016.250000</td>\n",
       "      <td>2016.250000</td>\n",
       "      <td>2016.250000</td>\n",
       "      <td>2016.250000</td>\n",
       "      <td>2016.250000</td>\n",
       "      <td>2016.250000</td>\n",
       "      <td>2016.250000</td>\n",
       "      <td>2016.250000</td>\n",
       "      <td>2016.250000</td>\n",
       "      <td>2016.250000</td>\n",
       "      <td>2016.250000</td>\n",
       "      <td>2016.250000</td>\n",
       "    </tr>\n",
       "    <tr>\n",
       "      <th>50%</th>\n",
       "      <td>2016.500000</td>\n",
       "      <td>2016.500000</td>\n",
       "      <td>2016.500000</td>\n",
       "      <td>2016.500000</td>\n",
       "      <td>2016.500000</td>\n",
       "      <td>2016.500000</td>\n",
       "      <td>2016.500000</td>\n",
       "      <td>2016.500000</td>\n",
       "      <td>2016.500000</td>\n",
       "      <td>2016.500000</td>\n",
       "      <td>2016.500000</td>\n",
       "      <td>2016.500000</td>\n",
       "      <td>2016.500000</td>\n",
       "    </tr>\n",
       "    <tr>\n",
       "      <th>75%</th>\n",
       "      <td>2016.750000</td>\n",
       "      <td>2016.750000</td>\n",
       "      <td>2016.750000</td>\n",
       "      <td>2016.750000</td>\n",
       "      <td>2016.750000</td>\n",
       "      <td>2016.750000</td>\n",
       "      <td>2016.750000</td>\n",
       "      <td>2016.750000</td>\n",
       "      <td>2016.750000</td>\n",
       "      <td>2016.750000</td>\n",
       "      <td>2016.750000</td>\n",
       "      <td>2016.750000</td>\n",
       "      <td>2016.750000</td>\n",
       "    </tr>\n",
       "    <tr>\n",
       "      <th>max</th>\n",
       "      <td>2017.000000</td>\n",
       "      <td>2017.000000</td>\n",
       "      <td>2017.000000</td>\n",
       "      <td>2017.000000</td>\n",
       "      <td>2017.000000</td>\n",
       "      <td>2017.000000</td>\n",
       "      <td>2017.000000</td>\n",
       "      <td>2017.000000</td>\n",
       "      <td>2017.000000</td>\n",
       "      <td>2017.000000</td>\n",
       "      <td>2017.000000</td>\n",
       "      <td>2017.000000</td>\n",
       "      <td>2017.000000</td>\n",
       "    </tr>\n",
       "  </tbody>\n",
       "</table>\n",
       "</div>"
      ],
      "text/plain": [
       "region                  Al-Baha       Al-Jouf     Al-Qaseem         Assir  \\\n",
       "accidents_no count     2.000000      2.000000      2.000000      2.000000   \n",
       "             mean   2516.000000  10340.500000  24034.500000  28964.500000   \n",
       "             std    1558.463346    181.726443   2304.461000   5260.167345   \n",
       "             min    1414.000000  10212.000000  22405.000000  25245.000000   \n",
       "             25%    1965.000000  10276.250000  23219.750000  27104.750000   \n",
       "             50%    2516.000000  10340.500000  24034.500000  28964.500000   \n",
       "             75%    3067.000000  10404.750000  24849.250000  30824.250000   \n",
       "             max    3618.000000  10469.000000  25664.000000  32684.000000   \n",
       "dead         count     2.000000      2.000000      2.000000      2.000000   \n",
       "             mean    159.500000    242.500000    358.000000    905.500000   \n",
       "             std      36.062446      3.535534     55.154329    109.601551   \n",
       "             min     134.000000    240.000000    319.000000    828.000000   \n",
       "             25%     146.750000    241.250000    338.500000    866.750000   \n",
       "             50%     159.500000    242.500000    358.000000    905.500000   \n",
       "             75%     172.250000    243.750000    377.500000    944.250000   \n",
       "             max     185.000000    245.000000    397.000000    983.000000   \n",
       "injured      count     2.000000      2.000000      2.000000      2.000000   \n",
       "             mean   1117.000000    891.000000   1479.500000   2454.500000   \n",
       "             std     155.563492     41.012193     47.376154    122.329473   \n",
       "             min    1007.000000    862.000000   1446.000000   2368.000000   \n",
       "             25%    1062.000000    876.500000   1462.750000   2411.250000   \n",
       "             50%    1117.000000    891.000000   1479.500000   2454.500000   \n",
       "             75%    1172.000000    905.500000   1496.250000   2497.750000   \n",
       "             max    1227.000000    920.000000   1513.000000   2541.000000   \n",
       "license_no   count     2.000000      2.000000      2.000000      2.000000   \n",
       "             mean   4372.500000   8731.000000   7749.000000  40250.000000   \n",
       "             std     341.532575    905.096680   2023.739608   1579.676549   \n",
       "             min    4131.000000   8091.000000   6318.000000  39133.000000   \n",
       "             25%    4251.750000   8411.000000   7033.500000  39691.500000   \n",
       "             50%    4372.500000   8731.000000   7749.000000  40250.000000   \n",
       "             75%    4493.250000   9051.000000   8464.500000  40808.500000   \n",
       "             max    4614.000000   9371.000000   9180.000000  41367.000000   \n",
       "x            count     2.000000      2.000000      2.000000      2.000000   \n",
       "             mean     20.148406     29.967745     26.196706     19.138785   \n",
       "             std       0.000000      0.000000      0.000000      0.000000   \n",
       "             min      20.148406     29.967745     26.196706     19.138785   \n",
       "             25%      20.148406     29.967745     26.196706     19.138785   \n",
       "             50%      20.148406     29.967745     26.196706     19.138785   \n",
       "             75%      20.148406     29.967745     26.196706     19.138785   \n",
       "             max      20.148406     29.967745     26.196706     19.138785   \n",
       "y            count     2.000000      2.000000      2.000000      2.000000   \n",
       "             mean     41.466548     39.557037     43.343000     42.941470   \n",
       "             std       0.000000      0.000000      0.000000      0.000000   \n",
       "             min      41.466548     39.557037     43.343000     42.941470   \n",
       "             25%      41.466548     39.557037     43.343000     42.941470   \n",
       "             50%      41.466548     39.557037     43.343000     42.941470   \n",
       "             75%      41.466548     39.557037     43.343000     42.941470   \n",
       "             max      41.466548     39.557037     43.343000     42.941470   \n",
       "year         count     2.000000      2.000000      2.000000      2.000000   \n",
       "             mean   2016.500000   2016.500000   2016.500000   2016.500000   \n",
       "             std       0.707107      0.707107      0.707107      0.707107   \n",
       "             min    2016.000000   2016.000000   2016.000000   2016.000000   \n",
       "             25%    2016.250000   2016.250000   2016.250000   2016.250000   \n",
       "             50%    2016.500000   2016.500000   2016.500000   2016.500000   \n",
       "             75%    2016.750000   2016.750000   2016.750000   2016.750000   \n",
       "             max    2017.000000   2017.000000   2017.000000   2017.000000   \n",
       "\n",
       "region                    Eastern          Hail         Jazan       Madinah  \\\n",
       "accidents_no count       2.000000      2.000000      2.000000      2.000000   \n",
       "             mean    91526.000000   9789.000000  24017.000000  15272.500000   \n",
       "             std     14273.657485    579.827561   2624.780372   1127.835316   \n",
       "             min     81433.000000   9379.000000  22161.000000  14475.000000   \n",
       "             25%     86479.500000   9584.000000  23089.000000  14873.750000   \n",
       "             50%     91526.000000   9789.000000  24017.000000  15272.500000   \n",
       "             75%     96572.500000   9994.000000  24945.000000  15671.250000   \n",
       "             max    101619.000000  10199.000000  25873.000000  16070.000000   \n",
       "dead         count       2.000000      2.000000      2.000000      2.000000   \n",
       "             mean     1038.000000    282.000000    490.000000    701.000000   \n",
       "             std       106.066017     24.041631     33.941125    171.119841   \n",
       "             min       963.000000    265.000000    466.000000    580.000000   \n",
       "             25%      1000.500000    273.500000    478.000000    640.500000   \n",
       "             50%      1038.000000    282.000000    490.000000    701.000000   \n",
       "             75%      1075.500000    290.500000    502.000000    761.500000   \n",
       "             max      1113.000000    299.000000    514.000000    822.000000   \n",
       "injured      count       2.000000      2.000000      2.000000      2.000000   \n",
       "             mean     4483.000000    852.500000   2233.000000   3550.500000   \n",
       "             std       579.827561    112.429978     36.769553    895.904292   \n",
       "             min      4073.000000    773.000000   2207.000000   2917.000000   \n",
       "             25%      4278.000000    812.750000   2220.000000   3233.750000   \n",
       "             50%      4483.000000    852.500000   2233.000000   3550.500000   \n",
       "             75%      4688.000000    892.250000   2246.000000   3867.250000   \n",
       "             max      4893.000000    932.000000   2259.000000   4184.000000   \n",
       "license_no   count       2.000000      2.000000      2.000000      2.000000   \n",
       "             mean   134561.500000  38271.000000  14924.500000  30352.500000   \n",
       "             std     10953.791147  22961.171399   4837.317490   8220.116331   \n",
       "             min    126816.000000  22035.000000  11504.000000  24540.000000   \n",
       "             25%    130688.750000  30153.000000  13214.250000  27446.250000   \n",
       "             50%    134561.500000  38271.000000  14924.500000  30352.500000   \n",
       "             75%    138434.250000  46389.000000  16634.750000  33258.750000   \n",
       "             max    142307.000000  54507.000000  18345.000000  36165.000000   \n",
       "x            count       2.000000      2.000000      2.000000      2.000000   \n",
       "             mean       23.288331     27.400846     17.207231     24.927535   \n",
       "             std         0.000000      0.000000      0.000000      0.000000   \n",
       "             min        23.288331     27.400846     17.207231     24.927535   \n",
       "             25%        23.288331     27.400846     17.207231     24.927535   \n",
       "             50%        23.288331     27.400846     17.207231     24.927535   \n",
       "             75%        23.288331     27.400846     17.207231     24.927535   \n",
       "             max        23.288331     27.400846     17.207231     24.927535   \n",
       "y            count       2.000000      2.000000      2.000000      2.000000   \n",
       "             mean       50.147830     41.440696     42.652581     39.491824   \n",
       "             std         0.000000      0.000000      0.000000      0.000000   \n",
       "             min        50.147830     41.440696     42.652581     39.491824   \n",
       "             25%        50.147830     41.440696     42.652581     39.491824   \n",
       "             50%        50.147830     41.440696     42.652581     39.491824   \n",
       "             75%        50.147830     41.440696     42.652581     39.491824   \n",
       "             max        50.147830     41.440696     42.652581     39.491824   \n",
       "year         count       2.000000      2.000000      2.000000      2.000000   \n",
       "             mean     2016.500000   2016.500000   2016.500000   2016.500000   \n",
       "             std         0.707107      0.707107      0.707107      0.707107   \n",
       "             min      2016.000000   2016.000000   2016.000000   2016.000000   \n",
       "             25%      2016.250000   2016.250000   2016.250000   2016.250000   \n",
       "             50%      2016.500000   2016.500000   2016.500000   2016.500000   \n",
       "             75%      2016.750000   2016.750000   2016.750000   2016.750000   \n",
       "             max      2017.000000   2017.000000   2017.000000   2017.000000   \n",
       "\n",
       "region                     Makkah        Najran  Northern Boarder  \\\n",
       "accidents_no count       2.000000      2.000000          2.000000   \n",
       "             mean   140189.500000   3214.000000      12368.000000   \n",
       "             std      7568.163879     29.698485       1170.968830   \n",
       "             min    134838.000000   3193.000000      11540.000000   \n",
       "             25%    137513.750000   3203.500000      11954.000000   \n",
       "             50%    140189.500000   3214.000000      12368.000000   \n",
       "             75%    142865.250000   3224.500000      12782.000000   \n",
       "             max    145541.000000   3235.000000      13196.000000   \n",
       "dead         count       2.000000      2.000000          2.000000   \n",
       "             mean     1942.000000    183.500000        152.500000   \n",
       "             std       425.678282     14.849242         57.275649   \n",
       "             min      1641.000000    173.000000        112.000000   \n",
       "             25%      1791.500000    178.250000        132.250000   \n",
       "             50%      1942.000000    183.500000        152.500000   \n",
       "             75%      2092.500000    188.750000        172.750000   \n",
       "             max      2243.000000    194.000000        193.000000   \n",
       "injured      count       2.000000      2.000000          2.000000   \n",
       "             mean    11503.000000    736.000000        502.500000   \n",
       "             std      1244.507935     42.426407        181.726443   \n",
       "             min     10623.000000    706.000000        374.000000   \n",
       "             25%     11063.000000    721.000000        438.250000   \n",
       "             50%     11503.000000    736.000000        502.500000   \n",
       "             75%     11943.000000    751.000000        566.750000   \n",
       "             max     12383.000000    766.000000        631.000000   \n",
       "license_no   count       2.000000      2.000000          2.000000   \n",
       "             mean   139271.000000   7989.000000       5119.000000   \n",
       "             std      4548.110817   8253.350350        227.688384   \n",
       "             min    136055.000000   2153.000000       4958.000000   \n",
       "             25%    137663.000000   5071.000000       5038.500000   \n",
       "             50%    139271.000000   7989.000000       5119.000000   \n",
       "             75%    140879.000000  10907.000000       5199.500000   \n",
       "             max    142487.000000  13825.000000       5280.000000   \n",
       "x            count       2.000000      2.000000          2.000000   \n",
       "             mean       21.628963     18.451100         30.197075   \n",
       "             std         0.000000      0.000000          0.000000   \n",
       "             min        21.628963     18.451100         30.197075   \n",
       "             25%        21.628963     18.451100         30.197075   \n",
       "             50%        21.628963     18.451100         30.197075   \n",
       "             75%        21.628963     18.451100         30.197075   \n",
       "             max        21.628963     18.451100         30.197075   \n",
       "y            count       2.000000      2.000000          2.000000   \n",
       "             mean       41.263690     46.868850         41.817119   \n",
       "             std         0.000000      0.000000          0.000000   \n",
       "             min        41.263690     46.868850         41.817119   \n",
       "             25%        41.263690     46.868850         41.817119   \n",
       "             50%        41.263690     46.868850         41.817119   \n",
       "             75%        41.263690     46.868850         41.817119   \n",
       "             max        41.263690     46.868850         41.817119   \n",
       "year         count       2.000000      2.000000          2.000000   \n",
       "             mean     2016.500000   2016.500000       2016.500000   \n",
       "             std         0.707107      0.707107          0.707107   \n",
       "             min      2016.000000   2016.000000       2016.000000   \n",
       "             25%      2016.250000   2016.250000       2016.250000   \n",
       "             50%      2016.500000   2016.500000       2016.500000   \n",
       "             75%      2016.750000   2016.750000       2016.750000   \n",
       "             max      2017.000000   2017.000000       2017.000000   \n",
       "\n",
       "region                     Riyadh        Tabouk  \n",
       "accidents_no count       2.000000      2.000000  \n",
       "             mean   120830.500000  13872.000000  \n",
       "             std     29564.841628   3053.287081  \n",
       "             min     99925.000000  11713.000000  \n",
       "             25%    110377.750000  12792.500000  \n",
       "             50%    120830.500000  13872.000000  \n",
       "             75%    131283.250000  14951.500000  \n",
       "             max    141736.000000  16031.000000  \n",
       "dead         count       2.000000      2.000000  \n",
       "             mean     1414.500000    391.000000  \n",
       "             std        21.920310     60.811183  \n",
       "             min      1399.000000    348.000000  \n",
       "             25%      1406.750000    369.500000  \n",
       "             50%      1414.500000    391.000000  \n",
       "             75%      1422.250000    412.500000  \n",
       "             max      1430.000000    434.000000  \n",
       "injured      count       2.000000      2.000000  \n",
       "             mean     4373.500000   1483.500000  \n",
       "             std       235.466558    340.118362  \n",
       "             min      4207.000000   1243.000000  \n",
       "             25%      4290.250000   1363.250000  \n",
       "             50%      4373.500000   1483.500000  \n",
       "             75%      4456.750000   1603.750000  \n",
       "             max      4540.000000   1724.000000  \n",
       "license_no   count       2.000000      2.000000  \n",
       "             mean   369079.000000  11921.000000  \n",
       "             std    178513.349551   2388.606707  \n",
       "             min    242851.000000  10232.000000  \n",
       "             25%    305965.000000  11076.500000  \n",
       "             50%    369079.000000  11921.000000  \n",
       "             75%    432193.000000  12765.500000  \n",
       "             max    495307.000000  13610.000000  \n",
       "x            count       2.000000      2.000000  \n",
       "             mean       23.081434     27.901655  \n",
       "             std         0.000000      0.000000  \n",
       "             min        23.081434     27.901655  \n",
       "             25%        23.081434     27.901655  \n",
       "             50%        23.081434     27.901655  \n",
       "             75%        23.081434     27.901655  \n",
       "             max        23.081434     27.901655  \n",
       "y            count       2.000000      2.000000  \n",
       "             mean       45.585751     37.259858  \n",
       "             std         0.000000      0.000000  \n",
       "             min        45.585751     37.259858  \n",
       "             25%        45.585751     37.259858  \n",
       "             50%        45.585751     37.259858  \n",
       "             75%        45.585751     37.259858  \n",
       "             max        45.585751     37.259858  \n",
       "year         count       2.000000      2.000000  \n",
       "             mean     2016.500000   2016.500000  \n",
       "             std         0.707107      0.707107  \n",
       "             min      2016.000000   2016.000000  \n",
       "             25%      2016.250000   2016.250000  \n",
       "             50%      2016.500000   2016.500000  \n",
       "             75%      2016.750000   2016.750000  \n",
       "             max      2017.000000   2017.000000  "
      ]
     },
     "execution_count": 300,
     "metadata": {},
     "output_type": "execute_result"
    }
   ],
   "source": [
    "#using .desc for each year seperatly:\n",
    "combined.groupby('region').describe().T"
   ]
  },
  {
   "cell_type": "markdown",
   "metadata": {},
   "source": [
    "**Answer**\n",
    "\n",
    "to find the deadliest locations i divided the number of the deaths over the total accidents for each region and for each year, using the same dataframes i used before to compare years \"comb_2016\" & \"comb_2017\" to attach the ratio of the deaths.\n",
    "in both years the 4 top regions are the same in slightly different orders, it seems that all of which are mountainous regions.\n",
    "they are: \n",
    "\n",
    "**2016:**\n",
    "- Madinah\n",
    "- Najran\n",
    "- Al-baha\n",
    "- Assir\n",
    "\n",
    "**2017:**\n",
    "- Al-baha\n",
    "- Najran\n",
    "- Madinah\n",
    "- Assir\n",
    "\n",
    "(code bellow)"
   ]
  },
  {
   "cell_type": "code",
   "execution_count": 294,
   "metadata": {},
   "outputs": [
    {
     "name": "stderr",
     "output_type": "stream",
     "text": [
      "C:\\Users\\creed\\Anaconda3\\lib\\site-packages\\ipykernel_launcher.py:1: SettingWithCopyWarning: \n",
      "A value is trying to be set on a copy of a slice from a DataFrame.\n",
      "Try using .loc[row_indexer,col_indexer] = value instead\n",
      "\n",
      "See the caveats in the documentation: http://pandas.pydata.org/pandas-docs/stable/indexing.html#indexing-view-versus-copy\n",
      "  \"\"\"Entry point for launching an IPython kernel.\n"
     ]
    },
    {
     "data": {
      "text/html": [
       "<div>\n",
       "<style scoped>\n",
       "    .dataframe tbody tr th:only-of-type {\n",
       "        vertical-align: middle;\n",
       "    }\n",
       "\n",
       "    .dataframe tbody tr th {\n",
       "        vertical-align: top;\n",
       "    }\n",
       "\n",
       "    .dataframe thead th {\n",
       "        text-align: right;\n",
       "    }\n",
       "</style>\n",
       "<table border=\"1\" class=\"dataframe\">\n",
       "  <thead>\n",
       "    <tr style=\"text-align: right;\">\n",
       "      <th></th>\n",
       "      <th>region</th>\n",
       "      <th>year</th>\n",
       "      <th>accidents_no</th>\n",
       "      <th>dead</th>\n",
       "      <th>injured</th>\n",
       "      <th>license_no</th>\n",
       "      <th>x</th>\n",
       "      <th>y</th>\n",
       "      <th>ratio_dead</th>\n",
       "    </tr>\n",
       "  </thead>\n",
       "  <tbody>\n",
       "    <tr>\n",
       "      <th>7</th>\n",
       "      <td>Madinah</td>\n",
       "      <td>2016</td>\n",
       "      <td>14475</td>\n",
       "      <td>822</td>\n",
       "      <td>4184</td>\n",
       "      <td>24540</td>\n",
       "      <td>24.927535</td>\n",
       "      <td>39.491824</td>\n",
       "      <td>0.056788</td>\n",
       "    </tr>\n",
       "    <tr>\n",
       "      <th>9</th>\n",
       "      <td>Najran</td>\n",
       "      <td>2016</td>\n",
       "      <td>3235</td>\n",
       "      <td>173</td>\n",
       "      <td>706</td>\n",
       "      <td>2153</td>\n",
       "      <td>18.451100</td>\n",
       "      <td>46.868850</td>\n",
       "      <td>0.053478</td>\n",
       "    </tr>\n",
       "    <tr>\n",
       "      <th>0</th>\n",
       "      <td>Al-Baha</td>\n",
       "      <td>2016</td>\n",
       "      <td>3618</td>\n",
       "      <td>185</td>\n",
       "      <td>1227</td>\n",
       "      <td>4614</td>\n",
       "      <td>20.148406</td>\n",
       "      <td>41.466548</td>\n",
       "      <td>0.051133</td>\n",
       "    </tr>\n",
       "    <tr>\n",
       "      <th>3</th>\n",
       "      <td>Assir</td>\n",
       "      <td>2016</td>\n",
       "      <td>32684</td>\n",
       "      <td>983</td>\n",
       "      <td>2541</td>\n",
       "      <td>41367</td>\n",
       "      <td>19.138785</td>\n",
       "      <td>42.941470</td>\n",
       "      <td>0.030076</td>\n",
       "    </tr>\n",
       "    <tr>\n",
       "      <th>5</th>\n",
       "      <td>Hail</td>\n",
       "      <td>2016</td>\n",
       "      <td>10199</td>\n",
       "      <td>299</td>\n",
       "      <td>932</td>\n",
       "      <td>54507</td>\n",
       "      <td>27.400846</td>\n",
       "      <td>41.440696</td>\n",
       "      <td>0.029317</td>\n",
       "    </tr>\n",
       "    <tr>\n",
       "      <th>12</th>\n",
       "      <td>Tabouk</td>\n",
       "      <td>2016</td>\n",
       "      <td>16031</td>\n",
       "      <td>434</td>\n",
       "      <td>1724</td>\n",
       "      <td>13610</td>\n",
       "      <td>27.901655</td>\n",
       "      <td>37.259858</td>\n",
       "      <td>0.027073</td>\n",
       "    </tr>\n",
       "    <tr>\n",
       "      <th>1</th>\n",
       "      <td>Al-Jouf</td>\n",
       "      <td>2016</td>\n",
       "      <td>10212</td>\n",
       "      <td>245</td>\n",
       "      <td>920</td>\n",
       "      <td>9371</td>\n",
       "      <td>29.967745</td>\n",
       "      <td>39.557037</td>\n",
       "      <td>0.023991</td>\n",
       "    </tr>\n",
       "    <tr>\n",
       "      <th>6</th>\n",
       "      <td>Jazan</td>\n",
       "      <td>2016</td>\n",
       "      <td>25873</td>\n",
       "      <td>514</td>\n",
       "      <td>2259</td>\n",
       "      <td>11504</td>\n",
       "      <td>17.207231</td>\n",
       "      <td>42.652581</td>\n",
       "      <td>0.019866</td>\n",
       "    </tr>\n",
       "    <tr>\n",
       "      <th>8</th>\n",
       "      <td>Makkah</td>\n",
       "      <td>2016</td>\n",
       "      <td>134838</td>\n",
       "      <td>2243</td>\n",
       "      <td>12383</td>\n",
       "      <td>136055</td>\n",
       "      <td>21.628963</td>\n",
       "      <td>41.263690</td>\n",
       "      <td>0.016635</td>\n",
       "    </tr>\n",
       "    <tr>\n",
       "      <th>2</th>\n",
       "      <td>Al-Qaseem</td>\n",
       "      <td>2016</td>\n",
       "      <td>25664</td>\n",
       "      <td>397</td>\n",
       "      <td>1513</td>\n",
       "      <td>9180</td>\n",
       "      <td>26.196706</td>\n",
       "      <td>43.343000</td>\n",
       "      <td>0.015469</td>\n",
       "    </tr>\n",
       "    <tr>\n",
       "      <th>10</th>\n",
       "      <td>Northern Boarder</td>\n",
       "      <td>2016</td>\n",
       "      <td>13196</td>\n",
       "      <td>193</td>\n",
       "      <td>631</td>\n",
       "      <td>4958</td>\n",
       "      <td>30.197075</td>\n",
       "      <td>41.817119</td>\n",
       "      <td>0.014626</td>\n",
       "    </tr>\n",
       "    <tr>\n",
       "      <th>4</th>\n",
       "      <td>Eastern</td>\n",
       "      <td>2016</td>\n",
       "      <td>101619</td>\n",
       "      <td>1113</td>\n",
       "      <td>4893</td>\n",
       "      <td>142307</td>\n",
       "      <td>23.288331</td>\n",
       "      <td>50.147830</td>\n",
       "      <td>0.010953</td>\n",
       "    </tr>\n",
       "    <tr>\n",
       "      <th>11</th>\n",
       "      <td>Riyadh</td>\n",
       "      <td>2016</td>\n",
       "      <td>141736</td>\n",
       "      <td>1430</td>\n",
       "      <td>4207</td>\n",
       "      <td>242851</td>\n",
       "      <td>23.081434</td>\n",
       "      <td>45.585751</td>\n",
       "      <td>0.010089</td>\n",
       "    </tr>\n",
       "  </tbody>\n",
       "</table>\n",
       "</div>"
      ],
      "text/plain": [
       "              region  year  accidents_no  dead  injured  license_no  \\\n",
       "7            Madinah  2016         14475   822     4184       24540   \n",
       "9             Najran  2016          3235   173      706        2153   \n",
       "0            Al-Baha  2016          3618   185     1227        4614   \n",
       "3              Assir  2016         32684   983     2541       41367   \n",
       "5               Hail  2016         10199   299      932       54507   \n",
       "12            Tabouk  2016         16031   434     1724       13610   \n",
       "1            Al-Jouf  2016         10212   245      920        9371   \n",
       "6              Jazan  2016         25873   514     2259       11504   \n",
       "8             Makkah  2016        134838  2243    12383      136055   \n",
       "2          Al-Qaseem  2016         25664   397     1513        9180   \n",
       "10  Northern Boarder  2016         13196   193      631        4958   \n",
       "4            Eastern  2016        101619  1113     4893      142307   \n",
       "11            Riyadh  2016        141736  1430     4207      242851   \n",
       "\n",
       "            x          y  ratio_dead  \n",
       "7   24.927535  39.491824    0.056788  \n",
       "9   18.451100  46.868850    0.053478  \n",
       "0   20.148406  41.466548    0.051133  \n",
       "3   19.138785  42.941470    0.030076  \n",
       "5   27.400846  41.440696    0.029317  \n",
       "12  27.901655  37.259858    0.027073  \n",
       "1   29.967745  39.557037    0.023991  \n",
       "6   17.207231  42.652581    0.019866  \n",
       "8   21.628963  41.263690    0.016635  \n",
       "2   26.196706  43.343000    0.015469  \n",
       "10  30.197075  41.817119    0.014626  \n",
       "4   23.288331  50.147830    0.010953  \n",
       "11  23.081434  45.585751    0.010089  "
      ]
     },
     "execution_count": 294,
     "metadata": {},
     "output_type": "execute_result"
    }
   ],
   "source": [
    "comb_2016['ratio_dead'] = comb_2016.dead/comb_2016.accidents_no\n",
    "comb_2016.sort_values('ratio_dead', ascending=False)"
   ]
  },
  {
   "cell_type": "code",
   "execution_count": 295,
   "metadata": {},
   "outputs": [
    {
     "name": "stderr",
     "output_type": "stream",
     "text": [
      "C:\\Users\\creed\\Anaconda3\\lib\\site-packages\\ipykernel_launcher.py:1: SettingWithCopyWarning: \n",
      "A value is trying to be set on a copy of a slice from a DataFrame.\n",
      "Try using .loc[row_indexer,col_indexer] = value instead\n",
      "\n",
      "See the caveats in the documentation: http://pandas.pydata.org/pandas-docs/stable/indexing.html#indexing-view-versus-copy\n",
      "  \"\"\"Entry point for launching an IPython kernel.\n"
     ]
    },
    {
     "data": {
      "text/html": [
       "<div>\n",
       "<style scoped>\n",
       "    .dataframe tbody tr th:only-of-type {\n",
       "        vertical-align: middle;\n",
       "    }\n",
       "\n",
       "    .dataframe tbody tr th {\n",
       "        vertical-align: top;\n",
       "    }\n",
       "\n",
       "    .dataframe thead th {\n",
       "        text-align: right;\n",
       "    }\n",
       "</style>\n",
       "<table border=\"1\" class=\"dataframe\">\n",
       "  <thead>\n",
       "    <tr style=\"text-align: right;\">\n",
       "      <th></th>\n",
       "      <th>region</th>\n",
       "      <th>year</th>\n",
       "      <th>accidents_no</th>\n",
       "      <th>dead</th>\n",
       "      <th>injured</th>\n",
       "      <th>license_no</th>\n",
       "      <th>x</th>\n",
       "      <th>y</th>\n",
       "      <th>ratio_dead</th>\n",
       "    </tr>\n",
       "  </thead>\n",
       "  <tbody>\n",
       "    <tr>\n",
       "      <th>13</th>\n",
       "      <td>Al-Baha</td>\n",
       "      <td>2017</td>\n",
       "      <td>1414</td>\n",
       "      <td>134</td>\n",
       "      <td>1007</td>\n",
       "      <td>4131</td>\n",
       "      <td>20.148406</td>\n",
       "      <td>41.466548</td>\n",
       "      <td>0.094767</td>\n",
       "    </tr>\n",
       "    <tr>\n",
       "      <th>22</th>\n",
       "      <td>Najran</td>\n",
       "      <td>2017</td>\n",
       "      <td>3193</td>\n",
       "      <td>194</td>\n",
       "      <td>766</td>\n",
       "      <td>13825</td>\n",
       "      <td>18.451100</td>\n",
       "      <td>46.868850</td>\n",
       "      <td>0.060758</td>\n",
       "    </tr>\n",
       "    <tr>\n",
       "      <th>20</th>\n",
       "      <td>Madinah</td>\n",
       "      <td>2017</td>\n",
       "      <td>16070</td>\n",
       "      <td>580</td>\n",
       "      <td>2917</td>\n",
       "      <td>36165</td>\n",
       "      <td>24.927535</td>\n",
       "      <td>39.491824</td>\n",
       "      <td>0.036092</td>\n",
       "    </tr>\n",
       "    <tr>\n",
       "      <th>16</th>\n",
       "      <td>Assir</td>\n",
       "      <td>2017</td>\n",
       "      <td>25245</td>\n",
       "      <td>828</td>\n",
       "      <td>2368</td>\n",
       "      <td>39133</td>\n",
       "      <td>19.138785</td>\n",
       "      <td>42.941470</td>\n",
       "      <td>0.032799</td>\n",
       "    </tr>\n",
       "    <tr>\n",
       "      <th>25</th>\n",
       "      <td>Tabouk</td>\n",
       "      <td>2017</td>\n",
       "      <td>11713</td>\n",
       "      <td>348</td>\n",
       "      <td>1243</td>\n",
       "      <td>10232</td>\n",
       "      <td>27.901655</td>\n",
       "      <td>37.259858</td>\n",
       "      <td>0.029711</td>\n",
       "    </tr>\n",
       "    <tr>\n",
       "      <th>18</th>\n",
       "      <td>Hail</td>\n",
       "      <td>2017</td>\n",
       "      <td>9379</td>\n",
       "      <td>265</td>\n",
       "      <td>773</td>\n",
       "      <td>22035</td>\n",
       "      <td>27.400846</td>\n",
       "      <td>41.440696</td>\n",
       "      <td>0.028255</td>\n",
       "    </tr>\n",
       "    <tr>\n",
       "      <th>14</th>\n",
       "      <td>Al-Jouf</td>\n",
       "      <td>2017</td>\n",
       "      <td>10469</td>\n",
       "      <td>240</td>\n",
       "      <td>862</td>\n",
       "      <td>8091</td>\n",
       "      <td>29.967745</td>\n",
       "      <td>39.557037</td>\n",
       "      <td>0.022925</td>\n",
       "    </tr>\n",
       "    <tr>\n",
       "      <th>19</th>\n",
       "      <td>Jazan</td>\n",
       "      <td>2017</td>\n",
       "      <td>22161</td>\n",
       "      <td>466</td>\n",
       "      <td>2207</td>\n",
       "      <td>18345</td>\n",
       "      <td>17.207231</td>\n",
       "      <td>42.652581</td>\n",
       "      <td>0.021028</td>\n",
       "    </tr>\n",
       "    <tr>\n",
       "      <th>15</th>\n",
       "      <td>Al-Qaseem</td>\n",
       "      <td>2017</td>\n",
       "      <td>22405</td>\n",
       "      <td>319</td>\n",
       "      <td>1446</td>\n",
       "      <td>6318</td>\n",
       "      <td>26.196706</td>\n",
       "      <td>43.343000</td>\n",
       "      <td>0.014238</td>\n",
       "    </tr>\n",
       "    <tr>\n",
       "      <th>24</th>\n",
       "      <td>Riyadh</td>\n",
       "      <td>2017</td>\n",
       "      <td>99925</td>\n",
       "      <td>1399</td>\n",
       "      <td>4540</td>\n",
       "      <td>495307</td>\n",
       "      <td>23.081434</td>\n",
       "      <td>45.585751</td>\n",
       "      <td>0.014001</td>\n",
       "    </tr>\n",
       "    <tr>\n",
       "      <th>17</th>\n",
       "      <td>Eastern</td>\n",
       "      <td>2017</td>\n",
       "      <td>81433</td>\n",
       "      <td>963</td>\n",
       "      <td>4073</td>\n",
       "      <td>126816</td>\n",
       "      <td>23.288331</td>\n",
       "      <td>50.147830</td>\n",
       "      <td>0.011826</td>\n",
       "    </tr>\n",
       "    <tr>\n",
       "      <th>21</th>\n",
       "      <td>Makkah</td>\n",
       "      <td>2017</td>\n",
       "      <td>145541</td>\n",
       "      <td>1641</td>\n",
       "      <td>10623</td>\n",
       "      <td>142487</td>\n",
       "      <td>21.628963</td>\n",
       "      <td>41.263690</td>\n",
       "      <td>0.011275</td>\n",
       "    </tr>\n",
       "    <tr>\n",
       "      <th>23</th>\n",
       "      <td>Northern Boarder</td>\n",
       "      <td>2017</td>\n",
       "      <td>11540</td>\n",
       "      <td>112</td>\n",
       "      <td>374</td>\n",
       "      <td>5280</td>\n",
       "      <td>30.197075</td>\n",
       "      <td>41.817119</td>\n",
       "      <td>0.009705</td>\n",
       "    </tr>\n",
       "  </tbody>\n",
       "</table>\n",
       "</div>"
      ],
      "text/plain": [
       "              region  year  accidents_no  dead  injured  license_no  \\\n",
       "13           Al-Baha  2017          1414   134     1007        4131   \n",
       "22            Najran  2017          3193   194      766       13825   \n",
       "20           Madinah  2017         16070   580     2917       36165   \n",
       "16             Assir  2017         25245   828     2368       39133   \n",
       "25            Tabouk  2017         11713   348     1243       10232   \n",
       "18              Hail  2017          9379   265      773       22035   \n",
       "14           Al-Jouf  2017         10469   240      862        8091   \n",
       "19             Jazan  2017         22161   466     2207       18345   \n",
       "15         Al-Qaseem  2017         22405   319     1446        6318   \n",
       "24            Riyadh  2017         99925  1399     4540      495307   \n",
       "17           Eastern  2017         81433   963     4073      126816   \n",
       "21            Makkah  2017        145541  1641    10623      142487   \n",
       "23  Northern Boarder  2017         11540   112      374        5280   \n",
       "\n",
       "            x          y  ratio_dead  \n",
       "13  20.148406  41.466548    0.094767  \n",
       "22  18.451100  46.868850    0.060758  \n",
       "20  24.927535  39.491824    0.036092  \n",
       "16  19.138785  42.941470    0.032799  \n",
       "25  27.901655  37.259858    0.029711  \n",
       "18  27.400846  41.440696    0.028255  \n",
       "14  29.967745  39.557037    0.022925  \n",
       "19  17.207231  42.652581    0.021028  \n",
       "15  26.196706  43.343000    0.014238  \n",
       "24  23.081434  45.585751    0.014001  \n",
       "17  23.288331  50.147830    0.011826  \n",
       "21  21.628963  41.263690    0.011275  \n",
       "23  30.197075  41.817119    0.009705  "
      ]
     },
     "execution_count": 295,
     "metadata": {},
     "output_type": "execute_result"
    }
   ],
   "source": [
    "comb_2017['ratio_dead'] = comb_2017.dead/comb_2017.accidents_no\n",
    "comb_2017.sort_values('ratio_dead', ascending=False)"
   ]
  },
  {
   "cell_type": "markdown",
   "metadata": {},
   "source": [
    "#### We generally assuming that data we sample from a population will be normally distributed. Do we observe this trend?"
   ]
  },
  {
   "cell_type": "markdown",
   "metadata": {},
   "source": [
    "Answer:"
   ]
  },
  {
   "cell_type": "markdown",
   "metadata": {},
   "source": [
    "Does This Assumption Hold for:\n",
    "    - Driving Licenses\n",
    "    - Traffic Accidents\n",
    "Explain your answers for each distribution and how you think this will affect estimates made from these data."
   ]
  },
  {
   "cell_type": "markdown",
   "metadata": {},
   "source": [
    "Answer:  No not normally distributed in both variables as it is illustarted in histograms below. Outliers can easily affect the meaning of the calculated mean of the sample. "
   ]
  },
  {
   "cell_type": "code",
   "execution_count": 304,
   "metadata": {},
   "outputs": [
    {
     "data": {
      "text/plain": [
       "<matplotlib.axes._subplots.AxesSubplot at 0x248a7cddf60>"
      ]
     },
     "execution_count": 304,
     "metadata": {},
     "output_type": "execute_result"
    },
    {
     "data": {
      "image/png": "[encoded data removed]",
      "text/plain": [
       "<Figure size 432x288 with 1 Axes>"
      ]
     },
     "metadata": {
      "needs_background": "light"
     },
     "output_type": "display_data"
    },
    {
     "data": {
      "image/png": "[encoded data removed]",
      "text/plain": [
       "<Figure size 432x288 with 1 Axes>"
      ]
     },
     "metadata": {
      "needs_background": "light"
     },
     "output_type": "display_data"
    }
   ],
   "source": [
    "combined.accidents_no.hist(bins=50)\n",
    "plt.figure()\n",
    "combined.license_no.hist(bins=50)"
   ]
  },
  {
   "cell_type": "markdown",
   "metadata": {},
   "source": [
    "## Conclusions and Recommendations"
   ]
  },
  {
   "cell_type": "markdown",
   "metadata": {},
   "source": [
    "**Findings:**\n",
    "\n",
    "- The issueing of the licenses and the accident numbers are correlated.\n",
    "- The mountainous regions has the most accidents/deaths in the country.\n",
    "- The overall accidents is reduced in 2017 compared to 2016.\n",
    "\n",
    "**Conclusion**\n",
    "\n",
    "Improve the infrastructure of the the regions with the most accidents.\n",
    "Add rail protection on the mountain roads.\n",
    "Stricter traffic laws might be beneficial on riskier road that has bad infrastructures."
   ]
  }
 ],
 "metadata": {
  "anaconda-cloud": {},
  "kernelspec": {
   "display_name": "Python 3",
   "language": "python",
   "name": "python3"
  },
  "language_info": {
   "codemirror_mode": {
    "name": "ipython",
    "version": 3
   },
   "file_extension": ".py",
   "mimetype": "text/x-python",
   "name": "python",
   "nbconvert_exporter": "python",
   "pygments_lexer": "ipython3",
   "version": "3.7.1"
  }
 },
 "nbformat": 4,
 "nbformat_minor": 2
}
